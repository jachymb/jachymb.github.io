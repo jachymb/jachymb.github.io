{
 "cells": [
  {
   "cell_type": "code",
   "execution_count": 46,
   "id": "47ff85e0-42c6-41da-80c3-14afad99e1a9",
   "metadata": {},
   "outputs": [],
   "source": [
    "colors = ColorData[97, \"ColorList\"];"
   ]
  },
  {
   "cell_type": "code",
   "execution_count": 51,
   "id": "10843538-0f6a-4588-a043-9eebea6c8087",
   "metadata": {},
   "outputs": [],
   "source": [
    "d = Import[\"../data/purchase_times.csv\"];\n",
    "d = Sort[FromDateString /@ Flatten[d]];"
   ]
  },
  {
   "cell_type": "code",
   "execution_count": 53,
   "id": "43b0134a-d555-4d11-acd9-06f151938757",
   "metadata": {},
   "outputs": [],
   "source": [
    "d1 = FromDateString[\"2024-11-01 00:00:00.000\"];\n",
    "d2 = FromDateString[\"2024-11-02 00:00:00.000\"];\n",
    "d3 = FromDateString[\"2024-11-03 00:00:00.000\"];\n",
    "d4 = FromDateString[\"2024-11-04 00:00:00.000\"];\n",
    "d5 = FromDateString[\"2024-11-05 00:00:00.000\"];\n",
    "d6 = FromDateString[\"2024-11-06 00:00:00.000\"];\n",
    "d7 = FromDateString[\"2024-11-07 00:00:00.000\"];\n",
    "d8 = FromDateString[\"2024-11-08 00:00:00.000\"];\n",
    "d31 = FromDateString[\"2024-12-01 00:00:00.000\"];"
   ]
  },
  {
   "cell_type": "code",
   "execution_count": 62,
   "id": "707b4089-7792-4a95-aca5-9c27fb970be7",
   "metadata": {},
   "outputs": [],
   "source": [
    "DateToReal[start_DateObject, date_DateObject] := N[2*Pi*QuantityMagnitude[DateDifference[d1,date], \"Days\"]]"
   ]
  },
  {
   "cell_type": "code",
   "execution_count": 63,
   "id": "1d52a8e9-6212-4b08-a528-121a4337a9ba",
   "metadata": {},
   "outputs": [],
   "source": [
    "dReal = Table[DateToReal[d1, i] ,{i, d}];\n",
    "T = DateToReal[d1, d31];"
   ]
  },
  {
   "cell_type": "code",
   "execution_count": 65,
   "id": "5c5cae49-c3aa-4f96-8838-ea70b5d2e279",
   "metadata": {},
   "outputs": [],
   "source": [
    "jsonRep = {\"N\" -> Length[dReal], \"T\" -> T, \"t\" -> dReal};"
   ]
  },
  {
   "cell_type": "code",
   "execution_count": 41,
   "id": "40557e45-30ae-44c2-a175-c15d9544f155",
   "metadata": {},
   "outputs": [],
   "source": [
    "Export[\"../data/purchase_times.json\", jsonRep];"
   ]
  },
  {
   "cell_type": "code",
   "execution_count": 82,
   "id": "dd0c78a5-5cbf-41a8-8a1e-313b106fa116",
   "metadata": {},
   "outputs": [],
   "source": [
    "dfiltered1 = Select[d, d1 <= # < d2 &];\n",
    "dfiltered7 = Select[d, d1 <= # < d8 &];"
   ]
  },
  {
   "cell_type": "code",
   "execution_count": 88,
   "id": "0ee07aa7-337a-4253-85d2-36ee1005ccc1",
   "metadata": {},
   "outputs": [],
   "source": [
    "es = EventSeries[ {#, 1} & /@ d];\n",
    "es1 = EventSeries[ {#, 1} & /@ dfiltered1];\n",
    "es7 = EventSeries[ {#, 1} & /@ dfiltered7];"
   ]
  },
  {
   "cell_type": "code",
   "execution_count": 91,
   "id": "243b6f44-fc15-4c68-bf7a-e2eca57df4f2",
   "metadata": {},
   "outputs": [],
   "source": [
    "TimelinePlot[es1, PlotStyle->Tiny, PlotRange->{d1,d2}];"
   ]
  },
  {
   "cell_type": "code",
   "execution_count": 92,
   "id": "e5140d2e-3471-43e7-ae96-72a7aca22d84",
   "metadata": {},
   "outputs": [],
   "source": [
    "ListPlot[es7, \n",
    "  Filling->Axis, PlotRange -> {{d1, d8}, {0,1}},\n",
    "  Ticks->{Automatic, None},\n",
    "  PlotMarkers->\" \", \n",
    "  Axes->{Automatic,None},\n",
    "  Ticks->{{d1,d2,d3,d4,d5,d6,d7,d8}, Automatic}\n",
    "  ];"
   ]
  },
  {
   "cell_type": "code",
   "execution_count": 97,
   "id": "80bc3d75-50e8-46f9-8c78-3022a6eb33e5",
   "metadata": {},
   "outputs": [],
   "source": [
    "ListPlot[es, Filling->Axis, PlotRange -> {{d1, d31}, {0,1}},\n",
    "  Ticks->{Automatic, None}, PlotMarkers->\" \", Axes->{Automatic,None}];"
   ]
  },
  {
   "cell_type": "code",
   "execution_count": 110,
   "id": "d8e0952b-d8e0-45c3-8dbd-d7c13cfd4992",
   "metadata": {},
   "outputs": [],
   "source": [
    "rateFun = alpha*Exp[Cos[t-phi]-1]^sigma;\n",
    "rateFun2 = Exp[Cos[t-\\[Phi]]-1]^\\[Sigma];"
   ]
  },
  {
   "cell_type": "code",
   "execution_count": 28,
   "id": "a5f0d645-e54e-43ab-8cbd-75c72688ccb1",
   "metadata": {},
   "outputs": [
    {
     "data": {
      "text/html": [
       "<div><img alt=\"Output\" src=\"data:image/png;base64,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\"></div>"
      ],
      "text/plain": [
       "60 alpha Pi BesselI[0, sigma]\n",
       "-----------------------------\n",
       "            sigma\n",
       "           E"
      ]
     },
     "execution_count": 28,
     "metadata": {
      "text/html": [],
      "text/plain": []
     },
     "output_type": "execute_result"
    }
   ],
   "source": [
    "rateIntegral = Integrate[rateFun, {t, 0, 60*Pi}]"
   ]
  },
  {
   "cell_type": "code",
   "execution_count": 120,
   "id": "9e3b78c8-4a54-4d08-a107-a4b4be1ef05c",
   "metadata": {},
   "outputs": [],
   "source": [
    "stepData = es7[\"Dates\"];\n",
    "end = d8;\n",
    "stepFunction  = TimeSeries[\n",
    "    Append[Transpose[{Prepend[stepData, d1], Range[0, Length[stepData]]}], {end, Length[stepData]}]\n",
    "];\n"
   ]
  },
  {
   "cell_type": "code",
   "execution_count": 32,
   "id": "a554532e-3568-4698-b22a-2042aa868aeb",
   "metadata": {},
   "outputs": [
    {
     "ename": "Transpose::tperm",
     "evalue": "Permutation {DateObject[{2024, 11, 8, 0, 0, 0.}, Instant, Gregorian, 1.], 1} is longer than the dimensions {2} of the expression.",
     "output_type": "error",
     "traceback": [
      "\u001b[0;31mTranspose::tperm: Permutation {DateObject[{2024, 11, 8, 0, 0, 0.}, Instant, Gregorian, 1.], 1} is longer than the dimensions {2} of the expression.\u001b[0m"
     ]
    },
    {
     "ename": "TimeSeries::ntprs",
     "evalue": "The argument Transpose[{EventSeries[FromDateString[]][DateObject[{2024, 11, 1, 0, 0, 0.}, Instant, Gregorian, 1.], Dates], {0, 1}}, {DateObject[{2024, 11, 8, 0, 0, 0.}, Instant, Gregorian, 1.], 1}] at position 1 is expected to be a list of timeâvalue pairs or a list of states with equal dimensionality.",
     "output_type": "error",
     "traceback": [
      "\u001b[0;31mTimeSeries::ntprs: The argument Transpose[{EventSeries[FromDateString[]][DateObject[{2024, 11, 1, 0, 0, 0.}, Instant, Gregorian, 1.], Dates], {0, 1}}, {DateObject[{2024, 11, 8, 0, 0, 0.}, Instant, Gregorian, 1.], 1}] at position 1 is expected to be a list of timeâvalue pairs or a list of states with equal dimensionality.\u001b[0m"
     ]
    },
    {
     "ename": "DateListPlot::ldata",
     "evalue": "TimeSeries[Transpose[{EventSeries[FromDateString[]][DateObject[{2024, 11, 1, 0, 0, 0.}, Instant, Gregorian, 1.], Dates], {0, 1}}, {DateObject[{2024, 11, 8, 0, 0, 0.}, Instant, Gregorian, 1.], 1}]] is not a valid dataset or list of datasets.",
     "output_type": "error",
     "traceback": [
      "\u001b[0;31mDateListPlot::ldata: TimeSeries[Transpose[{EventSeries[FromDateString[]][DateObject[{2024, 11, 1, 0, 0, 0.}, Instant, Gregorian, 1.], Dates], {0, 1}}, {DateObject[{2024, 11, 8, 0, 0, 0.}, Instant, Gregorian, 1.], 1}]] is not a valid dataset or list of datasets.\u001b[0m"
     ]
    }
   ],
   "source": [
    "stepPlot = DateListPlot[\n",
    "    stepFunction,\n",
    "    InterpolationOrder -> 0,\n",
    "    PlotRange -> {{d1,d8}, Automatic},\n",
    "    GridLines -> {True,False},\n",
    "    PlotStyle -> Directive[AbsoluteThickness[1]],\n",
    "    Frame -> True,\n",
    "    Background -> None,\n",
    "    FrameStyle -> Large,\n",
    "    FrameTicks -> {{Automatic, None},  {{{d1, \"Day 1\"}, {d2, \"Day 2\"}, {d3, \"Day 3\"}, {d4, \"Day 4\"}, {d5, \"Day 5\"}, {d6, \"Day 6\"}, {d7, \"Day 7\"}, {d8, \"Day 8\"}}, None}},\n",
    "    ImageSize -> 1024\n",
    "];"
   ]
  },
  {
   "cell_type": "code",
   "execution_count": 33,
   "id": "0021e523-2971-44a4-90fa-d692138d14da",
   "metadata": {},
   "outputs": [],
   "source": [
    "Export[\"../images/step_plot_sales.png\", stepPlot];"
   ]
  },
  {
   "cell_type": "code",
   "execution_count": 34,
   "id": "0bfe51ca-93b4-4adc-ab16-3a335faf3d9b",
   "metadata": {},
   "outputs": [
    {
     "ename": "HistogramList::ldata",
     "evalue": "Table[DateToReal[d1, i], {i, FromDateString[$Failed]}] is not a valid dataset or list of datasets.",
     "output_type": "error",
     "traceback": [
      "\u001b[0;31mHistogramList::ldata: Table[DateToReal[d1, i], {i, FromDateString[$Failed]}] is not a valid dataset or list of datasets.\u001b[0m"
     ]
    },
    {
     "ename": "Set::shape",
     "evalue": "                                                                                                           Pi\nLists {bins, countsD} and HistogramList[Table[DateToReal[d1, i], {i, FromDateString[$Failed]}], {0, 14 Pi, --}] are not the same shape.\n                                                                                                           12",
     "output_type": "error",
     "traceback": [
      "\u001b[0;31m                                                                                                                       Pi\nSet::shape: Lists {bins, countsD} and HistogramList[Table[DateToReal[d1, i], {i, FromDateString[$Failed]}], {0, 14 Pi, --}] are not the same shape.\n                                                                                                                       12\u001b[0m"
     ]
    }
   ],
   "source": [
    "{bins, countsD} = HistogramList[dReal, {0, 14*Pi, 2*Pi/24}];"
   ]
  },
  {
   "cell_type": "code",
   "execution_count": 35,
   "id": "95e1a944-cbe1-4d8d-91d2-0e406c578692",
   "metadata": {},
   "outputs": [
    {
     "ename": "DateHistogram::ldata",
     "evalue": "EventSeries[FromDateString[]] is not a valid dataset or list of datasets.",
     "output_type": "error",
     "traceback": [
      "\u001b[0;31mDateHistogram::ldata: EventSeries[FromDateString[]] is not a valid dataset or list of datasets.\u001b[0m"
     ]
    },
    {
     "ename": "DateHistogram::ldata",
     "evalue": "EventSeries[FromDateString[]] is not a valid dataset or list of datasets.",
     "output_type": "error",
     "traceback": [
      "\u001b[0;31mDateHistogram::ldata: EventSeries[FromDateString[]] is not a valid dataset or list of datasets.\u001b[0m"
     ]
    }
   ],
   "source": [
    "salesHourlyHistogram = DateHistogram[\n",
    "    es7, \"Hour\", \n",
    "    PlotRange -> {{d1, d8}, Automatic},\n",
    "    Frame -> True,\n",
    "    Background -> None,\n",
    "    ChartStyle -> colors[[1]],\n",
    "    FrameTicks -> {{Automatic, None},  {{{d1, \"Day 1\"}, {d2, \"Day 2\"}, {d3, \"Day 3\"}, {d4, \"Day 4\"}, {d5, \"Day 5\"}, {d6, \"Day 6\"}, {d7, \"Day 7\"}, {d8, \"Day 8\"}}, None}},\n",
    "    FrameStyle-> Large,\n",
    "    ImageSize -> 1024\n",
    "];"
   ]
  },
  {
   "cell_type": "code",
   "execution_count": 36,
   "id": "42f4d2c0-dfc9-42e5-ae49-d47e54cb5e3b",
   "metadata": {},
   "outputs": [],
   "source": [
    "Export[\"../images/sales_hourly_histogram.png\", salesHourlyHistogram];"
   ]
  },
  {
   "cell_type": "code",
   "execution_count": 191,
   "id": "1133e7c2-6dbd-4733-8eb8-d6f0683d6580",
   "metadata": {},
   "outputs": [],
   "source": [
    "fitdata = Select[dReal, # < 14*Pi&]; \n",
    "n=Length[fitdata];\n",
    "loglike = (\n",
    "  σ Total[Cos[fitdata - φ]]\n",
    "  + (Log[α]-σ) n \n",
    "  - α 14 Pi Exp[-σ] BesselI[0, σ]\n",
    "  );"
   ]
  },
  {
   "cell_type": "code",
   "execution_count": 213,
   "id": "3fa9297e-254c-4ae6-812a-08123d119be7",
   "metadata": {},
   "outputs": [
    {
     "data": {
      "text/html": [
       "<div><img alt=\"Output\" src=\"data:image/png;base64,iVBORw0KGgoAAAANSUhEUgAAACcAAAAVCAIAAABKc2DEAAAA0HpUWHRSYXcgcHJvZmlsZSB0eXBlIGV4aWYAAHjabU/bjQMhDPyniivBL8ZQDpsQ6Tq48s9eSKKNMgh7PH6Ay/z7fZSfhDAVq97QAQpYty4jSKOF5Zn6aU+I7xxf9cJ16yOk+k5gbv246o49sH0MIllE84XgarthD1JZOo8VH7teRmvXQZs8AXp9/Wts6oIKdgtrQu7owVsJGg5VqDoeuAFRyLgL2S38hHu0wbNCRzYmZPq1ehZoCPdcQfOaDuXwIyKP1jxD9dRVRY6I+czmOv8Lw1p5yKeUKQAAAAlwSFlzAAAOxAAADsQBlSsOGwAAADx0RVh0U29mdHdhcmUAQ3JlYXRlZCB3aXRoIHRoZSBXb2xmcmFtIExhbmd1YWdlIDogd3d3LndvbGZyYW0uY29tXKKmhQAAACF0RVh0Q3JlYXRpb24gVGltZQAyMDI0OjEyOjA3IDAwOjM0OjMyo0D2LgAAAQFJREFUSIntlc+NhSAQxr/ZbBUehRo8UYAlePSKNViB8SwdKDVwhdgFtMIeSAh5+zbr5j3NHvxOTGaGXzJ/gGKMuFwf1yNv6kVUzjk9UwjhLGwsJKVkjMXz9V/7qrUmIgBt26bKD8OQXM45InLO5WAimqYpmyGEsmV/oObr+r6PMVprlVIl6SeFEBhj1trcvgw+St22res6AEIIAPu+/5oyz7OUMsUDWJYFgNYawOdBatM0+XzwETXGeO+VUt9d506TlPJhelPBXqJWVVWaD/vNOTfGPE18iVrXNYB1XZPJGCu94zh67/PAv40KII10WgxrbQkWQpTecnno/l9v6tv0BeNH3zcjZVZmAAAAAElFTkSuQmCC\"></div>"
      ],
      "text/plain": [
       "True"
      ]
     },
     "execution_count": 213,
     "metadata": {
      "text/html": [],
      "text/plain": []
     },
     "output_type": "execute_result"
    }
   ],
   "source": [
    "True ∧ True"
   ]
  },
  {
   "cell_type": "code",
   "execution_count": 198,
   "id": "a5f15017-37ae-48ce-9d5c-7010b64b02da",
   "metadata": {},
   "outputs": [
    {
     "data": {
      "text/html": [
       "<div><img alt=\"Output\" src=\"data:image/png;base64,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\"></div>"
      ],
      "text/plain": [
       "{379.774, {α -> 14.7926, σ -> 0.878421, φ -> -2.1888}}"
      ]
     },
     "execution_count": 198,
     "metadata": {
      "text/html": [],
      "text/plain": []
     },
     "output_type": "execute_result"
    }
   ],
   "source": [
    "{crit, learnedParams} = NMaximize[{loglike, σ > 0 && α > 0 && -Pi < φ <= Pi}, {α, σ,φ}]"
   ]
  },
  {
   "cell_type": "code",
   "execution_count": 41,
   "id": "53e5e0bd-890b-4f1f-997c-aa71c05d1794",
   "metadata": {},
   "outputs": [],
   "source": [
    "likehomog = lambda^n*Exp[-lambda*14*Pi];\n",
    "{crith, paramh} = NMaximize[{likehomog, lambda > 0}, lambda];"
   ]
  },
  {
   "cell_type": "code",
   "execution_count": null,
   "id": "f1261048-a229-4fb1-82fc-c47e2fb4c21b",
   "metadata": {},
   "outputs": [
    {
     "ename": "ReplaceAll::reps",
     "evalue": "{learnedParams} is neither a list of replacement rules nor a valid dispatch table, and so cannot be used for replacing.",
     "output_type": "error",
     "traceback": [
      "\u001b[0;31mReplaceAll::reps: {learnedParams} is neither a list of replacement rules nor a valid dispatch table, and so cannot be used for replacing.\u001b[0m"
     ]
    },
    {
     "ename": "ReplaceAll::reps",
     "evalue": "{learnedParams} is neither a list of replacement rules nor a valid dispatch table, and so cannot be used for replacing.",
     "output_type": "error",
     "traceback": [
      "\u001b[0;31mReplaceAll::reps: {learnedParams} is neither a list of replacement rules nor a valid dispatch table, and so cannot be used for replacing.\u001b[0m"
     ]
    },
    {
     "ename": "ReplaceAll::reps",
     "evalue": "{learnedParams} is neither a list of replacement rules nor a valid dispatch table, and so cannot be used for replacing.",
     "output_type": "error",
     "traceback": [
      "\u001b[0;31mReplaceAll::reps: {learnedParams} is neither a list of replacement rules nor a valid dispatch table, and so cannot be used for replacing.\u001b[0m"
     ]
    },
    {
     "ename": "General::stop",
     "evalue": "Further output of ReplaceAll::reps will be suppressed during this calculation.",
     "output_type": "error",
     "traceback": [
      "\u001b[0;31mGeneral::stop: Further output of ReplaceAll::reps will be suppressed during this calculation.\u001b[0m"
     ]
    },
    {
     "ename": "NIntegrate::inumr",
     "evalue": "                      -1 + Cos[phi - t] sigma\nThe integrand alpha (E                 )      /. learnedParams has evaluated to non-numerical values for all sampling points in the region with boundaries {{0, 0.00436332}}.",
     "output_type": "error",
     "traceback": [
      "\u001b[0;31m                                         -1 + Cos[phi - t] sigma\nNIntegrate::inumr: The integrand alpha (E                 )      /. learnedParams has evaluated to non-numerical values for all sampling points in the region with boundaries {{0, 0.00436332}}.\u001b[0m"
     ]
    },
    {
     "ename": "NIntegrate::inumr",
     "evalue": "                      -1 + Cos[phi - t] sigma\nThe integrand alpha (E                 )      /. learnedParams has evaluated to non-numerical values for all sampling points in the region with boundaries {{0, 0.00872665}}.",
     "output_type": "error",
     "traceback": [
      "\u001b[0;31m                                         -1 + Cos[phi - t] sigma\nNIntegrate::inumr: The integrand alpha (E                 )      /. learnedParams has evaluated to non-numerical values for all sampling points in the region with boundaries {{0, 0.00872665}}.\u001b[0m"
     ]
    },
    {
     "ename": "NIntegrate::inumr",
     "evalue": "                      -1 + Cos[phi - t] sigma\nThe integrand alpha (E                 )      /. learnedParams has evaluated to non-numerical values for all sampling points in the region with boundaries {{0, 0.01309}}.",
     "output_type": "error",
     "traceback": [
      "\u001b[0;31m                                         -1 + Cos[phi - t] sigma\nNIntegrate::inumr: The integrand alpha (E                 )      /. learnedParams has evaluated to non-numerical values for all sampling points in the region with boundaries {{0, 0.01309}}.\u001b[0m"
     ]
    },
    {
     "ename": "General::stop",
     "evalue": "Further output of NIntegrate::inumr will be suppressed during this calculation.",
     "output_type": "error",
     "traceback": [
      "\u001b[0;31mGeneral::stop: Further output of NIntegrate::inumr will be suppressed during this calculation.\u001b[0m"
     ]
    },
    {
     "ename": "NIntegrate::nlim",
     "evalue": "t = x is not a valid limit of integration.",
     "output_type": "error",
     "traceback": [
      "\u001b[0;31mNIntegrate::nlim: t = x is not a valid limit of integration.\u001b[0m"
     ]
    },
    {
     "ename": "NIntegrate::nlim",
     "evalue": "t = x is not a valid limit of integration.",
     "output_type": "error",
     "traceback": [
      "\u001b[0;31mNIntegrate::nlim: t = x is not a valid limit of integration.\u001b[0m"
     ]
    },
    {
     "ename": "NIntegrate::nlim",
     "evalue": "t = x is not a valid limit of integration.",
     "output_type": "error",
     "traceback": [
      "\u001b[0;31mNIntegrate::nlim: t = x is not a valid limit of integration.\u001b[0m"
     ]
    },
    {
     "ename": "General::stop",
     "evalue": "Further output of NIntegrate::nlim will be suppressed during this calculation.",
     "output_type": "error",
     "traceback": [
      "\u001b[0;31mGeneral::stop: Further output of NIntegrate::nlim will be suppressed during this calculation.\u001b[0m"
     ]
    }
   ],
   "source": [
    "stepHour = 2*Pi/24;\n",
    "stepMin = stepHour/60;\n",
    "processCountsMin = Table[NIntegrate[rateFun /. learnedParams, {t, 0, x}], {x, 0, 14*Pi, stepMin}];\n",
    "processCountsHour = Table[NIntegrate[rateFun /. learnedParams, {t, 0, x}], {x, 0, 14*Pi, stepHour}];\n",
    "\n",
    "tsfit = TimeSeries[processCountsMin, {d1, d8}];\n"
   ]
  },
  {
   "cell_type": "code",
   "execution_count": null,
   "id": "f13fef3b-ad43-459c-9527-81e72d064896",
   "metadata": {},
   "outputs": [],
   "source": [
    "tshomog = TimeSeries[Table[x/lambda*4*Pi /. paramh, {x, 0, 14*Pi, step}], {d1, d8}];"
   ]
  },
  {
   "cell_type": "code",
   "execution_count": null,
   "id": "7a236b42-4982-4b5a-bba0-ec46e0d68f97",
   "metadata": {},
   "outputs": [],
   "source": [
    "countFit = Table[\n",
    "    NIntegrate[rateFun /. learnedParams, {t, i*stepHour, (i+1)*stepHour}],\n",
    "    {i, 0, 7*24-1}\n",
    "];"
   ]
  },
  {
   "cell_type": "code",
   "execution_count": null,
   "id": "8f59a609-78c2-4ccc-b8a2-09e899a8abe8",
   "metadata": {},
   "outputs": [],
   "source": [
    "salesHourlyHistogram2 = Show[\n",
    "    BarChart[countsD, ChartStyle -> Directive[colors[[1]], Opacity[0.7]],     Frame->True,\n",
    "      FrameTicks -> {{Automatic, None},  {{{0, \"Day 1\"}, {24, \"Day 2\"}, {24*2, \"Day 3\"}, {24*3, \"Day 4\"}, {24*4, \"Day 5\"}, {24*5, \"Day 6\"}, {24*6, \"Day 7\"}, {24*7, \"Day 8\"}}, None}}\n",
    "    ],\n",
    "    BarChart[countFit, ChartStyle -> Directive[colors[[2]], Opacity[0.7]]],\n",
    "    ImageSize -> 1024,\n",
    "    FrameStyle -> Large\n",
    "];"
   ]
  },
  {
   "cell_type": "code",
   "execution_count": null,
   "id": "c8ab4bda-b776-47d8-a3db-5635952439d8",
   "metadata": {},
   "outputs": [],
   "source": [
    "Export[\"../images/sales_hourly_histogram_fit.png\", salesHourlyHistogram2];"
   ]
  },
  {
   "cell_type": "code",
   "execution_count": null,
   "id": "9ca46c90-1f23-461a-8234-76f231301ad3",
   "metadata": {},
   "outputs": [],
   "source": [
    "stepPlot2 = DateListPlot[\n",
    "    {tshomog, stepFunction, tsfit},\n",
    "    InterpolationOrder -> 0,\n",
    "    PlotRange -> {{d1,d8}, {0,400}},\n",
    "    GridLines -> {True,False},\n",
    "    PlotStyle -> {{Directive[AbsoluteThickness[1]], colors[[3]]} , {Directive[AbsoluteThickness[1]], colors[[1]]}, {Directive[AbsoluteThickness[1]], colors[[2]]}},\n",
    "    Frame -> True,\n",
    "    Background -> None,\n",
    "    FrameTicks -> {{Automatic, None},  {{{d1, \"Day 1\"}, {d2, \"Day 2\"}, {d3, \"Day 3\"}, {d4, \"Day 4\"}, {d5, \"Day 5\"}, {d6, \"Day 6\"}, {d7, \"Day 7\"}, {d8, \"Day 8\"}}, None}},\n",
    "    PlotLegends -> Placed[{Style[\"homogeneous fit\", Large], Style[\"data\", Large], Style[\"fit\", Large]}, Below],\n",
    "    ImageSize -> 1024,\n",
    "    FrameStyle -> Large\n",
    "];"
   ]
  },
  {
   "cell_type": "code",
   "execution_count": null,
   "id": "3a2974a6-bc98-4654-bdc3-bef10d26ea03",
   "metadata": {},
   "outputs": [],
   "source": [
    "Export[\"../images/step_plot_sales_fit.png\", stepPlot2];"
   ]
  },
  {
   "cell_type": "code",
   "execution_count": null,
   "id": "af12d8aa-22b2-4085-a8b9-8ad070645b89",
   "metadata": {},
   "outputs": [],
   "source": [
    "Plot[rateFun /. {alpha ->1, phi->0, sigma -> -1.5}, {t, 0, 8*Pi}]"
   ]
  },
  {
   "cell_type": "code",
   "execution_count": null,
   "id": "84286515-1030-456a-a898-cb11c1483fdb",
   "metadata": {},
   "outputs": [],
   "source": [
    "params = {alpha ->1, phi->0, sigma -> 2-2I};\n",
    "Plot[{Re[rateFun /. params],Im[rateFun /. params]}, {t, 0, 8*Pi}, PlotRange->{Automatic,Automatic}]"
   ]
  },
  {
   "cell_type": "code",
   "execution_count": null,
   "id": "45edfa66-4c15-4b9d-b422-0a29a3850319",
   "metadata": {},
   "outputs": [],
   "source": [
    "Plot[{Abs[rateFun /. params],Arg[rateFun /. params]}, {t, 0, 8*Pi}, PlotRange->{Automatic,Automatic}]"
   ]
  },
  {
   "cell_type": "code",
   "execution_count": 229,
   "id": "2a87ccac-63f0-4230-bf62-e4a8ea8b8c0a",
   "metadata": {},
   "outputs": [
    {
     "data": {
      "text/html": [
       "<div><img alt=\"Output\" src=\"data:image/png;base64,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\"></div>"
      ],
      "text/plain": [
       "        1 + N                          1  1 + N  3 + N        2             2\n",
       "  Cos[z]      Csc[z] Hypergeometric2F1[-, -----, -----, Cos[z] ] Sqrt[Sin[z] ]\n",
       "                                       2    2      2\n",
       "-(----------------------------------------------------------------------------)\n",
       "                                     1 + N"
      ]
     },
     "execution_count": 229,
     "metadata": {
      "text/html": [],
      "text/plain": []
     },
     "output_type": "execute_result"
    }
   ],
   "source": [
    "FullSimplify@Integrate[Cos[z]^N,z]"
   ]
  },
  {
   "cell_type": "code",
   "execution_count": 254,
   "id": "9725df8d-2520-44b3-afb5-a26c93159b16",
   "metadata": {},
   "outputs": [],
   "source": [
    "ClearAll[n, t, k, T,i];"
   ]
  },
  {
   "cell_type": "code",
   "execution_count": 269,
   "id": "566bef4d-15ae-4ccb-afd5-80de5248aadc",
   "metadata": {},
   "outputs": [
    {
     "data": {
      "text/html": [
       "<div><img alt=\"Output\" src=\"data:image/png;base64,iVBORw0KGgoAAAANSUhEUgAAAIkAAAA3CAIAAAC3hv6bAAAA0HpUWHRSYXcgcHJvZmlsZSB0eXBlIGV4aWYAAHjabU9bDsMgDPvnFDtCSIIDx6ErlXaDHX9JYZs6zRKx4zyANJ6PI90CnClpsYoGkEObNu4uKk1MztTOOK22avnqJ7Hld7fKt4Cx/O3qGyZz/VlEPIXEDa5F18BaJDz93Ge+rX7utV4XLfEG6PP0v7mKMQqyqUdlMkNzXZNLJxSmYjhwB7wxY2fSu/OAmY/BokN6DAZ42LV7JIgbe3xB4qh0yc7dM/hoFnGtZyzSeJPwohrfeQEd+VqRK2CAEQAAAAlwSFlzAAAOxAAADsQBlSsOGwAAADx0RVh0U29mdHdhcmUAQ3JlYXRlZCB3aXRoIHRoZSBXb2xmcmFtIExhbmd1YWdlIDogd3d3LndvbGZyYW0uY29tXKKmhQAAACF0RVh0Q3JlYXRpb24gVGltZQAyMDI0OjEyOjA2IDEzOjQzOjU5X78dtAAABCRJREFUeJztnD1yqzAQx0XmnSKTyTDAKTJMChcxB0gBXVrpALhJ6QYOAG06KHIA07gwHAMxmYwn1+AVysiKDBgIYL15+6scPlYLf2u1K8nR6rpGgJLcXNsBoBXQRl1atSGEhGGoaZqmaYSQJX0CGF39ZrPZUErruo7juKqqxXwCGF3aBEFgGAZCyDTNpfwBTsB4oy6gjbqANuqiQe2pLNBv1AW0URfQRl1O2mgDgWp0bk7aUEoxxnU/giD4+vq6ot//AydtDMPQdb0oij633d/fz+YS8M2P8cb3/e12ey1XAAk5F4iiCGadFUHWhkW2NE27b3Nd17bt2byaBsdxHMe5eI2maT0j+cI05NC+77+9vY0zV1WVmMv9yrUzLMua3GxZlhNaQwgRQi5+ISTanqu5vomiaGgDCKE0TU3TTJKEp3MjjHRgWRYzO6HNsizrur5uDGA+YIyl483aGIbx8vJyMbKJVFXleV4QBK7r8oO73W6ErwCjdV7Add1Bke39/R0h9Pz83HZBmqY81lmWJZ1lcb/tbBtFUbAqmIeF80RGbFesl8UWJ6mjmak4jrMs45bDMBxvsbvGXK/XPatRjLFpmh21KkKIrXAzs2LT6/W6T0Pn1+R5zp6CBVJKKUIoCAKxFe5VYytJkoiO/R6Mcf+XJt0oHbkwn9Y/snV/9TabDV/hRghFUYQQ4pbLsuSnRpAkCQukhmFgjPf7PT9lmiYf7VerVZZlo1uZBMuy+vekC9q4rns4HH6ZYrLbHx4e+BHDMEzT/Pz8ZH9ut9s4jgdFM5G7uzv+Wdd1MfUaZ1BCjH4zpaCNXJ6HrqqqTxqzWq1YSBmB67p1Xed5TikdrdB87Ha78xA0zlRZlr7v97z4gjaO4/TMtVi3aAyAt7e3CKHj8ciPVFVFKZUm5WzbruuaUkopHZQiiuz3e9WkZfCUZJqYRgh5fX3taci2bYyx53nia2X1DRsGPM/jY9LT05NpmmK2zWHT22KY6k8YhlmWscHsWui6nmXZ+SjAYsN5EdNFW9qQJAlPePrD0p5G4yxVY0g5ieRSnueNxjvytMYWpcSMOcA+N4bf/ksk3YgCSO8QY9z2Vs9bb9Zm0FrOYrRp06alggzS5k9jZyKEQEl/fRoFnLAWmxC+9Zcf+Yf6jRjSJZ/Pn4sh709jI3njKC1RFMXxeOxzJTCOH3laVVWHwwFetyL8GG9gmFGKU78hhFy3MgAkvrVJ0/Tx8fE3E47A5NwghIqiGDHMiHMwwCyIOdxQxOVnYHLgNx7qAnvV1QW0UZeTNoOWS4EFGNxv2D+EgH25CzAsF2CS6Lr+8fEBherc3KAhy6VRFIEki3GDxi2XAvPTPN6w/ZLTbE4ExtK87sm2vCzsCiAB/UZh6s7lUgnpSphPmxWYT1MXmLNRF9BGXf4CWW0Rw/wtS8MAAAAASUVORK5CYII=\"></div>"
      ],
      "text/plain": [
       "Sum[Cos[phi - t ], {i, 1, n}]\n",
       "               i"
      ]
     },
     "execution_count": 269,
     "metadata": {
      "text/html": [],
      "text/plain": []
     },
     "output_type": "execute_result"
    }
   ],
   "source": [
    "Sum[Cos[Subscript[t,i] - phi], {i, 1, n}]"
   ]
  },
  {
   "cell_type": "code",
   "execution_count": 288,
   "id": "d16d7c66-f569-4a21-a2a5-a7ca611675ee",
   "metadata": {},
   "outputs": [
    {
     "data": {
      "text/html": [
       "<div><img alt=\"Output\" src=\"data:image/png;base64,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\"></div>"
      ],
      "text/plain": [
       "  T α BesselI[0, σ]\n",
       "-(-----------------) + n (-σ + Log[α]) + σ Sum[Cos[ϕ - t ], {i, 1, n}]\n",
       "          σ                                             i\n",
       "         E"
      ]
     },
     "execution_count": 288,
     "metadata": {
      "text/html": [],
      "text/plain": []
     },
     "output_type": "execute_result"
    }
   ],
   "source": [
    "loglikeSym = \\[Sigma]*Sum[Cos[Subscript[t,i] - \\[Phi]], {i, 1, n}] + (Log[\\[Alpha]]-\\[Sigma])*n - \\[Alpha]*T*Exp[-\\[Sigma]]*BesselI[0, \\[Sigma]]"
   ]
  },
  {
   "cell_type": "code",
   "execution_count": 313,
   "id": "f06d8bff-639a-432b-bb19-8ac7a3c055d9",
   "metadata": {},
   "outputs": [
    {
     "data": {
      "text/html": [
       "<div><img alt=\"Output\" src=\"data:image/png;base64,iVBORw0KGgoAAAANSUhEUgAAAJIAAAA3CAIAAABoyISEAAAA0HpUWHRSYXcgcHJvZmlsZSB0eXBlIGV4aWYAAHjabU9bDsMgDPvnFDtCSIIDx6ErlXaDHX9JYZs6zRKx4zyANJ6PI90CnClpsYoGkEObNu4uKk1MztTOeKLxquWrn8SW390q3wLG8rerb5jM9WcRrRskbnAtugbWIuHp5z7zbfVzr/W6aIk3QJ+n/81VjFGQTT0qkxma65pcOqEwFcOBO+CNGTuT3p0HzHwMFh3SYzDAw67dI0Hc2OMLEkelS3bunsFHs4hrFZyx8SbhRTW+8wIVVFqNJpNtXQAAAAlwSFlzAAAOxAAADsQBlSsOGwAAADx0RVh0U29mdHdhcmUAQ3JlYXRlZCB3aXRoIHRoZSBXb2xmcmFtIExhbmd1YWdlIDogd3d3LndvbGZyYW0uY29tXKKmhQAAACF0RVh0Q3JlYXRpb24gVGltZQAyMDI0OjEyOjA2IDEzOjQ2OjQ5cXrcxwAABDVJREFUeJztnDFurDAQhk30TrFaRQg4Q4polSLNcoAUlNviA5AmJY33AKSlgyIHgJa1tsgZwEIRyjV4hZ8QApbYYDbhZb4qAcce89ueGRui1XWNgLVx890GAFMA2VaJAtkwxsfjUdM0TdMwxvMrBL5EzWx7fn4uiqKu69fXV8aYkjqBEdTIRggxDAMhZJqmkgqBccC3rRKQbZWAbKtEg3R7jcBsWyUg2yoB2VbJRNk0SSAHV8tE2YqicF23FoMQ8vn5qdbuX85E2QzD0HWdUipS+Pb2dlorwCWm+zbP83zfV2gKIM6skCQIAtjy/xZmycaXyjiOx4s5jrPb7eY0dAlKqaZptm0vUflPZm4C4HleGIYqLBnGsqwmHO270qqq5tc8UoZS+uWgFAdjLDvCLhmpIG8LgmCh8a5pmmVZTUTq+34nkXAcp67rJEkmVN7UPFLmfD7f3d1NqFwVeZ7Xde26bue6AtkMwzgcDgpHJYdXGARBcyVJEn6qdzXKsrxyi6I0Y/l0Oo0XGGe/3wuWFCSKIoRQFEWDd9vWdjJIfqsoiubMdjDFHDGYN91ACJnZl8EHK15t337UGNrphmmassYpV44/9/FqTdMclK2RnP96Op0ErY2iiFdYFAV/soSQS6NHCtd1pz2ivmz/FskwDDsewvd92XVP+VKZ5zkhJE3TCTtkURQ5joMQ4kHs+XwW+SvGWBiGfGV+f3+/v79Hy4ddCCHLso7Ho3j5G4QQY+zx8bFzY7vdfnx8SLXtOE6WZYJbJ7Zt97cu+8U8z+MDHyFkmqb4sNhut+KWN7y9vb28vPCfsywbz1sEu7AENwihwQ3DqqombEoxxgRTtCRJ+qvBpcKGYdR1bZrm0qO+LMvNZjNoQP+iVBfGyfPc8zzx8jcIoc1mU5Zl50aWZbKxr23b02JxQSzLWq5yjq7r/UEcx/HDw8NCLcZxzKep9CJpGAZjrO05jsejrutSsS/GuFlelIAxbq+3cRynaXo4HBQ20efp6YlvtFJKuVRxHGdZxt3kTHRdT9O040R46tnPzL6gmd3tVxxlQ94oiuZHyX32+33bVP4GLWewn7xAP3Qc7NGloK6TCImfT4nQNrttkuu6Iw/wYgIwB6mzt5/DeCx+5R7JyvZHbm4OgTFe1KV9Cz/9OH7+MGmvXSuicQrfawYhpC1HZ1vgkpGz3pPkWZSIu6aUVlWlxLEDaM5WMmNMVYgFyDLdt/2XLm0tTJxtGOP2kQpwZabIxncNfuhB1O9AWjZK6QSXNuftAaCPdCRpWRbfj5elOUkB5gMfSq0S+HRjlYBsq2SKbLIn6IBylp1t/N/MwAvnylkwJOFq6bpeliXk5mqRm21SJ+hBEIBaCyEn28QTdEA1Cnwb/+ylAaKVK6DgdHu320HOfmVgtq0ThSfo44WVvEYPcGBPcpXA5tYqAdlWyV8jnMM3/9b91QAAAABJRU5ErkJggg==\"></div>"
      ],
      "text/plain": [
       "σ Sum[-Sin[ϕ - t ], {i, 1, n}]\n",
       "                i"
      ]
     },
     "execution_count": 313,
     "metadata": {
      "text/html": [],
      "text/plain": []
     },
     "output_type": "execute_result"
    }
   ],
   "source": [
    "FullSimplify@D[loglikeSym,  \\[Phi]]"
   ]
  },
  {
   "cell_type": "code",
   "execution_count": 303,
   "id": "ebeebb16-caa5-42df-9da9-d06adb97579a",
   "metadata": {},
   "outputs": [
    {
     "data": {
      "text/html": [
       "<div><img alt=\"Output\" src=\"data:image/png;base64,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\"></div>"
      ],
      "text/plain": [
       "     T α (BesselI[0, σ] - BesselI[1, σ])\n",
       "-n + ----------------------------------- + Sum[Cos[ϕ - t ], {i, 1, n}]\n",
       "                      σ                                 i\n",
       "                     E"
      ]
     },
     "execution_count": 303,
     "metadata": {
      "text/html": [],
      "text/plain": []
     },
     "output_type": "execute_result"
    }
   ],
   "source": [
    "FullSimplify@D[loglikeSym,  \\[Sigma]]"
   ]
  },
  {
   "cell_type": "code",
   "execution_count": 308,
   "id": "4734239c-02c0-4999-bd66-2cfc2936ee04",
   "metadata": {},
   "outputs": [
    {
     "data": {
      "text/html": [
       "<div><img alt=\"Output\" src=\"data:image/png;base64,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\"></div>"
      ],
      "text/plain": [
       "n   T BesselI[0, σ]\n",
       "- - ---------------\n",
       "α          σ\n",
       "          E"
      ]
     },
     "execution_count": 308,
     "metadata": {
      "text/html": [],
      "text/plain": []
     },
     "output_type": "execute_result"
    }
   ],
   "source": [
    "FullSimplify@D[loglikeSym,  \\[Alpha]]"
   ]
  },
  {
   "cell_type": "code",
   "execution_count": 324,
   "id": "8e9e27ca-bc04-4fb4-9735-713dbdaecfaf",
   "metadata": {},
   "outputs": [
    {
     "ename": "Reduce::nsmet",
     "evalue": "This system cannot be solved with the methods available to Reduce.",
     "output_type": "error",
     "traceback": [
      "\u001b[0;31mReduce::nsmet: This system cannot be solved with the methods available to Reduce.\u001b[0m"
     ]
    },
    {
     "ename": "Reduce::nsmet",
     "evalue": "This system cannot be solved with the methods available to Reduce.",
     "output_type": "error",
     "traceback": [
      "\u001b[0;31mReduce::nsmet: This system cannot be solved with the methods available to Reduce.\u001b[0m"
     ]
    },
    {
     "ename": "Reduce::nsmet",
     "evalue": "This system cannot be solved with the methods available to Reduce.",
     "output_type": "error",
     "traceback": [
      "\u001b[0;31mReduce::nsmet: This system cannot be solved with the methods available to Reduce.\u001b[0m"
     ]
    },
    {
     "ename": "General::stop",
     "evalue": "Further output of Reduce::nsmet will be suppressed during this calculation.",
     "output_type": "error",
     "traceback": [
      "\u001b[0;31mGeneral::stop: Further output of Reduce::nsmet will be suppressed during this calculation.\u001b[0m"
     ]
    },
    {
     "data": {
      "text/html": [
       "<div><img alt=\"Output\" src=\"data:image/png;base64,iVBORw0KGgoAAAANSUhEUgAABK4AAAA3CAIAAACq3pWwAAAAz3pUWHRSYXcgcHJvZmlsZSB0eXBlIGV4aWYAAHjabU/bDQIxDPvvFIyQV512nB4UiQ0Yn4QWoUNYauw4jyplPh/3ckkIU7HqDR2ggHXrMkI0WljM1N/xjTHJtnvyi/oSPMKq3wLm9o+z71gs7WcRyRKaP4RW2wN7kcryeaz82P0yWjsv2uIDfAT/z01dUMFuEU3IHT10KyGDUIWq444rEI2Mm5BdgyfcYwyeHTpyMCHTz92zQMO45Qmaz3QoB4/IEKOsGrpGllHl0PSymue8AKChWuKQAxQSAAAACXBIWXMAAA7EAAAOxAGVKw4bAAAAPHRFWHRTb2Z0d2FyZQBDcmVhdGVkIHdpdGggdGhlIFdvbGZyYW0gTGFuZ3VhZ2UgOiB3d3cud29sZnJhbS5jb21coqaFAAAAIXRFWHRDcmVhdGlvbiBUaW1lADIwMjQ6MTI6MDYgMTM6NTA6NTOQv3L0AAARNUlEQVR4nO3dPW/qSNsH8OHWfoqjowjZNPsFUqwgRYpAu1IKk+JWqpXsegVNShqs1Fg6VXQXwcWRto1TUICVIl9gG2yho+h8DT/F9WR21i+DbcY24P+vOicQZ5gZrsueF7sTRREDAAAAAACANvlP0wUAAAAAAACAuuFSEAAAAAAAoHVwKfgvlmXZtt3pdDqdjmVZTRcHAACgKkh5AAAth0vBuOl0GgRBFEWO44Rh2HRxAAAAqoKUBwDQZrgUjJvP55qmMcZ0XW+6LAAAABVCygMAaDNcCgIAAAAAALQOLgUBAAAAAABaB5eCAAAAAAAArdPBI+YBAAAAWs73/cFgEATBzc1NEASMMdM0F4tF0+UCgAphVhAAAAAAGGNM1/XZbBZF0WazcRzH9/2mSwQAFTrhS8Fer0dPQ3Jdt+myAAAAAJy85XJpGAZjrN/vM8be3t6aLhEAHCQMw86n5Ku/1F8gVXq93na7bboUAAAAAGfi69evTRcBAFTSNI32A1qWlXz1hGcFVekUhIfwAgDAKUK+AwAAES4FWRAEpmlG+czn858/fzZdZAAAgMKQ7wAAQIRLQaZpWrfbzbkx+uLiouryAAAAVAH5DgAARLgUZIyxyWQym82aLgVAVWzbFhd99Xq9pksEAM1AvoPTgvwFUClcCv6/xWKRupkS4NTRDIC46Av3WwJoM+Q7SNXv96MoohuHkiiKJpNJg0VC/gKomuJLwU6nY9u22mPWg5bN7H0uhWEYYpRUxff9TqczGo2UHxmy8CHGZI8VxyAbKVtp1JFiH+3t7U3M5bvdrrHyHTfxbsv4Mh4tNNPhms13oNZ55LLU5MXOPX8hmsEx+A/7d19s803DJpPJ09NTRQfnT0HsdDrJfRofHx9KDp71Bt/3FT590bKsojFrbwlVsSxLUs/caDSieydsNpvpdCpWju/70+k0CIIoiobD4WmtRaExXS51NLfb7SZ/KPbPSkOBZVm8XWK5X95kNaC7LVO7J19NVk7qsFdWV8/ZMw+n/LvWqmbiL1X9uNq9zVT1eeEh+S52zqC0XEhn/8gTNM4ml+VJXuzg/NWqaHa6SSeL2k9EcUz+vVAbbapG9VOiZv6ZFVwul9QjTdPUdb2dV4OLxaKKBEy9jce42WwWq17DMKIoenl5KXd8fvCsN7y9vV1eXpY7uBLb7Za6VqV/ZTQavb6+8mUkg8Eg6yvhed7V1RX7fITujx8/+Etvb2+6rmuaxhi7vr4OgqDSMtfg4uKC9zff91NvBUENxL/+vK9SPahCxYjNM2w2G7HJjjby8ELyf6eerKR+GfP3zMNV9F1rQzPRFEo9++j2NtP9/X3VpyDl8p3rurqu8xOGKIrUJk2kM5IzaJx9Lqsif7Uhmp1B0olR/okeHx+jKJKvN2482hSyWCzoEqPoL6YsEP3zzz8ZY+/v7wrKdWo0TVOegOloi8WC/+Tl5UXtGfZeu92u5r9YP9/3Pc97fX2l/04mE13Xn5+fs95PKZNCSSy78JS5Wq10Xa+qxHUxDOPm5oYG0mazmWEYTZXk8fGRwksqSnLnF3mK9swjd67N5LruarWKouhInq9tGEZ1q1RIiXwXhuF4PJ7P52IYKT2IWQ7SWcx557JK89e5RrMzSzqsmk+UZwjgFKNNiQLn2isoTqkn51LFGdvYz8U3u66bnK/POuwh60+SCwAKHaSiBJwVa8TSxvbx00thGPLJ96Ib/anOO52O4zhZSwsK4UfzPE++YqF+4ggoY8z3/SAIHMdJfbNpmtPp1LKswWBgmqaYXW5vb9lnrxZDT1GHN59E0crng6aqTtpGo1Hsm7V3ZiAMwzAMJUFKvpgnGXnEMsgDSKyWxJBVQ+8t1DPzODDEHehcm8kwDLWXNIc30/X1ddWr14rmu+/fv7PPIJmKJ52inWEvpLPUoFFDLlOuaG0rz1/cuUYztUmn2YxDlKdROYXRRm3tlTj1yiPlUpBOWHlA8X1/MBjQcvMoinq9nvgFGI1GYRjy6fj8f5hqZz6f0y8+PT3xug7DUNd1PoNvmmb+WnNddzabRQK+WiB/2V5eXhSueDEMQ9f18Xiceky+Pj5rxE7XdfpEm83GcZz8Zwau667X6yiKgiCgemafU5Sl8RYZDoe8hpu9vRi3Wq14z3RddzAYLJdLljHwQ5O0juMEQSBO2DLGNE2bz+eO49AGjAMHhIo2397LRfrimKZJC7RY9XuKkkaj0cPDg7g8zPf96+tr+W+9v7/f399L3vD4+Kjrev7Iw4TbyolrPCiAiAvYxC5qWRYPWUEQTKfTqhNzoZ65l5IQd4hzbSa1lDTT7e1t/mHv0iNNhfLdbrcTT8hibNsej8diZxBzt6Qz7IV0lhU0astlShxD/hKdazRTmHQazzhEbRqVUxht1NZeuVOvPP65FByPx/xCUyzlbDabz+c8iCwWiyAI6IzWdV3P82LRJ6fZbDYcDvm3pd/v838/Pj6apsk3FNHxczbD09NTbNxoNpuVaEK1y0S32+18PudDj4X67nK5pDhFFfL29pbnt8IwfHp6oqp7f3//7bffWMX3xeF6vd6BYU4c9qC+Lg6l7G0X27bp25L1Bhq9o3/TIDftEaKfWJY1nU4ZY3zA6ZAxoXLNJzGbzTabDfscrJlMJjXsKRK5rnt/fy/u99M07fn5ee8p1Hq9Tl1zPxgM+PCb2D8lkYcxtt1us85sfv78yRhLXeYXhqHjODxk0anSt2/f5CVXZW/PzENViCuqPc2khJJm0jStnl1M+WOIvDzT6TTWGZiQuyWdYe8fRTpLfbXOXKZE4/mLtCeaHZ50lGecqk/wDqQ22iisvdKnXnnEbxtjmqbneWK49zxvOp3ydhInr378+CEZIJTzPC9riuD19ZXmZItOpIZhmLw+/vr1q7iROifDMNbrdc4pOLFnZ5V5MpnQGANjTNf1/F2h3MaV79+/Pzw80L/X6/XeG4Ln+Qi1eXl54cMeLy8vsRuLybcKjEaj1WolH2+2LIuGgefz+XQ6pVamju37vuM4NCPNhAHL1K3qeSpN7b4jGgF6e3u7u7vjP7y8vFyv1wr/ilzyiq7b7abe1S0ma3Uon/9fLpeDwYCfqUgiD2NsNptRlEiu4en3+8PhkJJ97LyH1mnrus4PS6dKNcjTM/dSGOJYwW99S5pJCbXNVINC+S4L/TqdORFN03Rd559a0hnkkM6y3qAqlzHG/vrrr/9K/f3335Jy5qnwY8hfpCXR7PCkU0Uoq/oELyfXdVPn04pGGwm1tZf/1Ovu7q7oiE98gShdCseWmvBlnFzVzxqi9Qz5+wehgZmYj4+PrNgnF4Zhzo8p9mwu9Z1042Bd16seztztdl++fEktQOr783+EvbbbbSNrbDRN8zxP0zQ+BpM1VOF5Hn0/J5OJaZqDweDbt283Nzfsc9aO2j0IAs/zKOinTmcprDSeSsVBEMn7+aBmp9O5ubkpNzNfTvKKbrVaied/pRmGYZrmarXiP5FEHrrp7mazCYIgmZupaWgXTTI38/U/pOoHFufvmXupDXHlOvC5NpNCaptJrmjoyJIz3x1yI0p5Z5BAOmMZQUNVLmOM/f777/+T+vXXX7NKW7TCG8xfMecazVQlnTpDmZzCNMoY831/PB6nnrcUjTYSyi9Jcp569fv9oouQU/YK0lJGPjGo67r4PRFdXFyIWSE2phi7Wo1dB+u6njUU1Ov1yu1v/vLlS/Lxo1nL0uRGo1F1d0Wr4fE+3W432Qtd16W7TleEb7RtZEUNfTTxBpWr1YqSosRisdB1PQiC5J0tNU1bLpdBEJimWfUuC55KxUGQ5Nuoh19cXIh7Emo+RY5VhW3bmqbleTBm0TqURB6OBhSDIAiCINkx6MbKNF5OP6FJ2prvF1euZ6ZSGOJUOZtmUqjOZsoZOuTy5zs680gNwnT+JIaCMAyDIIid98g7QyqkM5YjaBxJLpM4hvwldzbRTFXSqSKU1XmCl4UaMXUntsJoo7b28p96WZYVFdz2nHIpSHedenx8pP/OZjPP81KjIX0eeom224qv0oUi31UYmxOnqXbe6mEY8j/x8PAQBEGJTfC0s0Jc3WrbdrfbLRr7LMviE8SHE5+pzT43WMrvn3G429tberSI7/vUg2kjrJIbMXe7Xc/zkquJaMzs8GfLlFs/QLfn4aHBtm3P81IfXUDjdrFNL9Th+S3XxJccxzmS5w7xnhzrn3U+JLfb7fI/57rubrcTV/vk/MVUtKKJfzUkkSdGsk+Dfd7ogv5Ny3jG43GdDZqzZ1IilFeRqhB3iHNtppxqbqYaWrZQvuv3+6Zpjsdj8YyNFh9qmkYv8Q9+c3Mj3pNDJO8MMUhnWUHjtHLZMeSvmHONZqqSThUZp9JvRJ74zKW2SM5oozYR5Dla6VOvXKLPDWziOA2FPz6jTTfq4cQneNIOYH6o4XAoTq/zMEp3BGX/niUXf1c8ZuwlfvAY8a5fInF5d3Kuf6/lclnit+SGw6H4WcRKSM009AaqBL6oPYqirE+UWhWxOkyuuT2EWOxYkUzTzKpAtWVIJVa15G1i+ZfLJfVwqkZxopu6JfUosSHyyN98sYLtPXKyzyjssbFH9KbiXzFe2r0VHgk34+KSX/PYKhpJ5In9oljPkt8ise8jLxU9yTfryMmX8n8Zoxw9k96QpwPkCXEKv2staabUdY9ZpaqnmTabjZiX5cq1eLl8F2s78SWxdWJFknQGEdIZlyed1ZDL1Go2f7UkmiX/qOQNe3tyzpPqY/hG5I/PUXa95Yk2ahNB0YaQn3rJj5P66p6zt2OW1YqHoBUUyg9bNUlV1P9xms2dcMza0AFKxyU6mVB1VtSGqj7ESTRTFTlOdJz5DukMoJCTiGb1KPSJ5PUm/zhqq67Ohkh9Ndcj5tvDsqwGdzBX4QhXWEFrXV1d1X/f8FNBi6aO5LFmkKW2Zkq9+5xaJ5fvkM4AFDq/pFPoE8mXucqjjdqqa74hlFyDNkL5iKlpmrGlAqeCzxo3W4zYUgdx+cSRlBAaRzc2aLoUFSrR1WnF1N51udUVoIWOv5mqbsGjzXdH0oGRzuBUHH80q0GJT0RzcUUrQW3VVXG0ErOCnaiyBzVWTe1NPmmyIs82dN/3Pz4+lGxYBwAAqBnyHQBAC6UuBsECUcYYC8NQ1e3IAAAAjhbyHQAAcL80XYCjYFlWdU8RBAAAOBLIdwAAwGFW8PS2zgMAAJSAfAdy4hPA+U+aLRIAVKrtl4Ku615dXdX5gGYAAID6Id+B3Gg0enh44DeTGI1Gvu9XfSdbAGhWqy8Ffd8vsWXi4+OjovIAAABUAfkO5FzXvb+/7/f7/Ceapj0/P5/TwwYAIOmELwW32y2tYSj9pLL7+3vHcToFjcdjtR8EAACgUsh3ILdery8vL8WfdLvdbrfbUHEAQJkwDCmkO46TfPWEHyYBAAAAAIdLPqCL1ouK84QAcH5OeFYQAAAAAA4X20Rq27amaVghDHD2cCkIAAAA0Grdbtf3ffq367q73e7u7q7ZIgFADdq+QLTX6/3xxx/YFQ0AAGcPKQ8ker1eEASMMdM06aEj9EiJlp8oApw3zArmYtt2p9OxLKvpggAAAFQLKa+dttstPUaCP3yS/ttsqQCgUm2fFcyD0mG3293tdng4LwAAnDGkPACA9mjvrKDrunRnVdu25e9cLBZIhwAAcLqQ8gAAIKm9l4KGYURRZJpm0wUBAACoFlIeAAAktfdSMJXv++LTdfeOngIAAJwi5DsAAPil6QIcl36/j82TAABw9pDvAAAAs4L/glFSAABoA+Q7AABo7x1EbdueTqf8v5vNpt/v53nncrk0DKPy8gEAACiClAcAAEntvRQEAAAAAABoLSwQBQAAAAAAaB1cCgIAAAAAALTO/wGWR686iJPLKwAAAABJRU5ErkJggg==\"></div>"
      ],
      "text/plain": [
       "Reduce[σ Sum[-Sin[ϕ - t ], {i, 1, n}] == 0 && \n",
       "                       i\n",
       " \n",
       "          T α (BesselI[0, σ] - BesselI[1, σ])\n",
       ">    -n + ----------------------------------- + Sum[Cos[ϕ - t ], {i, 1, n}] == 0 && \n",
       "                           σ                                 i\n",
       "                          E\n",
       " \n",
       "     n   T BesselI[0, σ]\n",
       ">    - - --------------- == 0, {ϕ, σ, α}]\n",
       "     α          σ\n",
       "               E"
      ]
     },
     "execution_count": 324,
     "metadata": {
      "text/html": [],
      "text/plain": []
     },
     "output_type": "execute_result"
    }
   ],
   "source": [
    "Reduce[D[loglikeSym,  \\[Phi]] == 0 && FullSimplify@D[loglikeSym,  \\[Sigma]] == 0 && FullSimplify@D[loglikeSym,  \\[Alpha]] == 0, {\\[Phi], \\[Sigma],  \\[Alpha]}]"
   ]
  },
  {
   "cell_type": "code",
   "execution_count": 329,
   "id": "1faabccc-b16d-4c07-a0ec-5f0b60c7f060",
   "metadata": {},
   "outputs": [
    {
     "data": {
      "text/html": [
       "<div><img alt=\"Output\" src=\"data:image/png;base64,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\"></div>"
      ],
      "text/plain": [
       "             σ\n",
       "            E  n\n",
       "{{α -> ---------------}}\n",
       "       T BesselI[0, σ]"
      ]
     },
     "execution_count": 329,
     "metadata": {
      "text/html": [],
      "text/plain": []
     },
     "output_type": "execute_result"
    }
   ],
   "source": [
    "Solve[FullSimplify@D[loglikeSym,  \\[Alpha]]==0, \\[Alpha]]"
   ]
  },
  {
   "cell_type": "code",
   "execution_count": 349,
   "id": "b47ad697-5ffd-49ff-949a-41df82e6ffa9",
   "metadata": {},
   "outputs": [
    {
     "data": {
      "text/html": [
       "<div><img alt=\"Output\" src=\"data:image/png;base64,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\"></div>"
      ],
      "text/plain": [
       "        σ\n",
       "       E  (n - Sum[Cos[ϕ - t ], {i, 1, n}])\n",
       "                            i\n",
       "{{α -> ------------------------------------}}\n",
       "        T (BesselI[0, σ] - BesselI[1, σ])"
      ]
     },
     "execution_count": 349,
     "metadata": {
      "text/html": [],
      "text/plain": []
     },
     "output_type": "execute_result"
    }
   ],
   "source": [
    "Solve[FullSimplify@D[loglikeSym,  \\[Sigma]]==0, \\[Alpha]]"
   ]
  },
  {
   "cell_type": "code",
   "execution_count": 354,
   "id": "6076d698-d1f0-4c5f-a315-93c92aaf2650",
   "metadata": {},
   "outputs": [
    {
     "data": {
      "text/html": [
       "<div><img alt=\"Output\" src=\"data:image/png;base64,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\"></div>"
      ],
      "text/plain": [
       "        -1 + Cos[phi - t] sigma\n",
       "alpha (E                 )"
      ]
     },
     "execution_count": 354,
     "metadata": {
      "text/html": [],
      "text/plain": []
     },
     "output_type": "execute_result"
    }
   ],
   "source": [
    "rateFun"
   ]
  },
  {
   "cell_type": "code",
   "execution_count": 374,
   "id": "25f4f6ac-fed3-4379-93ac-71ac5d8c9815",
   "metadata": {},
   "outputs": [
    {
     "data": {
      "text/html": [
       "<div><img alt=\"Output\" src=\"data:image/png;base64,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\"></div>"
      ],
      "text/plain": [
       "-Graphics-"
      ]
     },
     "execution_count": 374,
     "metadata": {
      "text/html": [],
      "text/plain": []
     },
     "output_type": "execute_result"
    }
   ],
   "source": [
    "Plot[Exp[-t]*BesselI[0,t], {t, 0, 100}, PlotRange->{{0,100},{0,1}}]"
   ]
  },
  {
   "cell_type": "code",
   "execution_count": 389,
   "id": "bf133703-32c6-475a-a8ef-a8545cb0ae8f",
   "metadata": {},
   "outputs": [
    {
     "data": {
      "text/html": [
       "<div><pre style=\"&#102;&#111;&#110;&#116;&#45;&#102;&#97;&#109;&#105;&#108;&#121;&#58;&#32;&#34;&#67;&#111;&#117;&#114;&#105;&#101;&#114;&#32;&#78;&#101;&#119;&#34;&#44;&#67;&#111;&#117;&#114;&#105;&#101;&#114;&#44;&#109;&#111;&#110;&#111;&#115;&#112;&#97;&#99;&#101;&#59;\">&#48;</pre></div>"
      ],
      "text/plain": [
       "0"
      ]
     },
     "execution_count": 389,
     "metadata": {
      "text/html": [],
      "text/plain": []
     },
     "output_type": "execute_result"
    }
   ],
   "source": [
    "Limit[Exp[-t]*BesselI[0,t], t->Infinity]"
   ]
  },
  {
   "cell_type": "code",
   "execution_count": 394,
   "id": "fc39f899-b525-4ed2-9011-3a79a70753f1",
   "metadata": {},
   "outputs": [
    {
     "data": {
      "text/html": [
       "<div><pre style=\"&#102;&#111;&#110;&#116;&#45;&#102;&#97;&#109;&#105;&#108;&#121;&#58;&#32;&#34;&#67;&#111;&#117;&#114;&#105;&#101;&#114;&#32;&#78;&#101;&#119;&#34;&#44;&#67;&#111;&#117;&#114;&#105;&#101;&#114;&#44;&#109;&#111;&#110;&#111;&#115;&#112;&#97;&#99;&#101;&#59;\">&#57;&#55;&#57;&#54;&#45;&#54;&#51;&#54;&#48;&#45;&#56;&#76;&#54;&#86;&#76;&#57;</pre></div>"
      ],
      "text/plain": [
       "9796-6360-8L6VL9"
      ]
     },
     "execution_count": 394,
     "metadata": {
      "text/html": [],
      "text/plain": []
     },
     "output_type": "execute_result"
    }
   ],
   "source": [
    "$ActivationKey"
   ]
  },
  {
   "cell_type": "code",
   "execution_count": 399,
   "id": "55b270de-ba4f-45e4-868b-e42e75a39506",
   "metadata": {},
   "outputs": [
    {
     "data": {
      "text/html": [
       "<div><pre style=\"&#102;&#111;&#110;&#116;&#45;&#102;&#97;&#109;&#105;&#108;&#121;&#58;&#32;&#34;&#67;&#111;&#117;&#114;&#105;&#101;&#114;&#32;&#78;&#101;&#119;&#34;&#44;&#67;&#111;&#117;&#114;&#105;&#101;&#114;&#44;&#109;&#111;&#110;&#111;&#115;&#112;&#97;&#99;&#101;&#59;\">&#76;&#57;&#55;&#57;&#54;&#45;&#54;&#51;&#54;&#48;</pre></div>"
      ],
      "text/plain": [
       "L9796-6360"
      ]
     },
     "execution_count": 399,
     "metadata": {
      "text/html": [],
      "text/plain": []
     },
     "output_type": "execute_result"
    }
   ],
   "source": [
    "$LicenseID"
   ]
  },
  {
   "cell_type": "code",
   "execution_count": null,
   "id": "c616f79e-0715-4108-8dbe-0a4e9e9ad662",
   "metadata": {},
   "outputs": [],
   "source": []
  }
 ],
 "metadata": {
  "kernelspec": {
   "display_name": "Wolfram Language 14",
   "language": "Wolfram Language",
   "name": "wolframlanguage14"
  },
  "language_info": {
   "codemirror_mode": "mathematica",
   "file_extension": ".m",
   "mimetype": "application/vnd.wolfram.m",
   "name": "Wolfram Language",
   "pygments_lexer": "mathematica",
   "version": "12.0"
  }
 },
 "nbformat": 4,
 "nbformat_minor": 5
}
