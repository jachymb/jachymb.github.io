{
 "cells": [
  {
   "cell_type": "code",
   "execution_count": 1219,
   "id": "47ff85e0-42c6-41da-80c3-14afad99e1a9",
   "metadata": {},
   "outputs": [],
   "source": [
    "colors = ColorData[97, \"ColorList\"];"
   ]
  },
  {
   "cell_type": "code",
   "execution_count": 1,
   "id": "10843538-0f6a-4588-a043-9eebea6c8087",
   "metadata": {},
   "outputs": [],
   "source": [
    "d = Import[\"../data/purchase_times.csv\"];\n",
    "d = Sort[FromDateString /@ Flatten[d]];"
   ]
  },
  {
   "cell_type": "code",
   "execution_count": 3,
   "id": "43b0134a-d555-4d11-acd9-06f151938757",
   "metadata": {},
   "outputs": [],
   "source": [
    "d1 = FromDateString[\"2024-11-01 00:00:00.000\"];\n",
    "d2 = FromDateString[\"2024-11-02 00:00:00.000\"];\n",
    "d3 = FromDateString[\"2024-11-03 00:00:00.000\"];\n",
    "d4 = FromDateString[\"2024-11-04 00:00:00.000\"];\n",
    "d5 = FromDateString[\"2024-11-05 00:00:00.000\"];\n",
    "d6 = FromDateString[\"2024-11-06 00:00:00.000\"];\n",
    "d7 = FromDateString[\"2024-11-07 00:00:00.000\"];\n",
    "d8 = FromDateString[\"2024-11-08 00:00:00.000\"];\n",
    "d31 = FromDateString[\"2024-12-01 00:00:00.000\"];"
   ]
  },
  {
   "cell_type": "code",
   "execution_count": 12,
   "id": "707b4089-7792-4a95-aca5-9c27fb970be7",
   "metadata": {},
   "outputs": [],
   "source": [
    "DateToReal[start_DateObject, date_DateObject] := N[2*Pi*QuantityMagnitude[DateDifference[d1,date], \"Days\"]]"
   ]
  },
  {
   "cell_type": "code",
   "execution_count": 13,
   "id": "1d52a8e9-6212-4b08-a528-121a4337a9ba",
   "metadata": {},
   "outputs": [],
   "source": [
    "dReal = Table[DateToReal[d1, i] ,{i, d}];\n",
    "T = DateToReal[d1, d31];"
   ]
  },
  {
   "cell_type": "code",
   "execution_count": 15,
   "id": "5c5cae49-c3aa-4f96-8838-ea70b5d2e279",
   "metadata": {},
   "outputs": [],
   "source": [
    "jsonRep = {\"N\" -> Length[dReal], \"T\" -> T, \"t\" -> dReal};"
   ]
  },
  {
   "cell_type": "code",
   "execution_count": 1600,
   "id": "40557e45-30ae-44c2-a175-c15d9544f155",
   "metadata": {},
   "outputs": [],
   "source": [
    "Export[\"../data/purchase_times.json\", jsonRep];"
   ]
  },
  {
   "cell_type": "code",
   "execution_count": 17,
   "id": "dd0c78a5-5cbf-41a8-8a1e-313b106fa116",
   "metadata": {},
   "outputs": [],
   "source": [
    "dfiltered1 = Select[d, d1 <= # < d2 &];\n",
    "dfiltered7 = Select[d, d1 <= # < d8 &];"
   ]
  },
  {
   "cell_type": "code",
   "execution_count": 924,
   "id": "0ee07aa7-337a-4253-85d2-36ee1005ccc1",
   "metadata": {},
   "outputs": [],
   "source": [
    "es = EventSeries[ {#, 1} & /@ d];\n",
    "es1 = EventSeries[ {#, 1} & /@ dfiltered1];\n",
    "es7 = EventSeries[ {#, 1} & /@ dfiltered7];"
   ]
  },
  {
   "cell_type": "code",
   "execution_count": 1595,
   "id": "243b6f44-fc15-4c68-bf7a-e2eca57df4f2",
   "metadata": {},
   "outputs": [],
   "source": [
    "TimelinePlot[es1, PlotStyle->Tiny, PlotRange->{d1,d2}];"
   ]
  },
  {
   "cell_type": "code",
   "execution_count": 1590,
   "id": "e5140d2e-3471-43e7-ae96-72a7aca22d84",
   "metadata": {},
   "outputs": [],
   "source": [
    "ListPlot[es7, \n",
    "  Filling->Axis, PlotRange -> {{d1, d8}, {0,1}},\n",
    "  Ticks->{Automatic, None},\n",
    "  PlotMarkers->\" \", \n",
    "  Axes->{Automatic,None},\n",
    "  Ticks->{{d1,d2,d3,d4,d5,d6,d7,d8}, Automatic}\n",
    "  ];"
   ]
  },
  {
   "cell_type": "code",
   "execution_count": 1585,
   "id": "80bc3d75-50e8-46f9-8c78-3022a6eb33e5",
   "metadata": {},
   "outputs": [],
   "source": [
    "ListPlot[es, Filling->Axis, PlotRange -> {{d1, d31}, {0,1}},\n",
    "  Ticks->{Automatic, None}, PlotMarkers->\" \", Axes->{Automatic,None}];"
   ]
  },
  {
   "cell_type": "code",
   "execution_count": 1575,
   "id": "d8e0952b-d8e0-45c3-8dbd-d7c13cfd4992",
   "metadata": {},
   "outputs": [],
   "source": [
    "rateFun = alpha*Exp[Cos[t-phi]-1]^sigma;"
   ]
  },
  {
   "cell_type": "code",
   "execution_count": 32,
   "id": "a5f0d645-e54e-43ab-8cbd-75c72688ccb1",
   "metadata": {},
   "outputs": [
    {
     "data": {
      "text/html": [
       "<div><img alt=\"Output\" src=\"data:image/png;base64,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\"></div>"
      ],
      "text/plain": [
       "60 alpha Pi BesselI[0, sigma]\n",
       "-----------------------------\n",
       "            sigma\n",
       "           E"
      ]
     },
     "execution_count": 32,
     "metadata": {
      "text/html": [],
      "text/plain": []
     },
     "output_type": "execute_result"
    }
   ],
   "source": [
    "rateIntegral = Integrate[rateFun, {t, 0, 60*Pi}]"
   ]
  },
  {
   "cell_type": "code",
   "execution_count": 50,
   "id": "9e3b78c8-4a54-4d08-a107-a4b4be1ef05c",
   "metadata": {},
   "outputs": [],
   "source": [
    "stepData = es7[\"Dates\"];\n",
    "end = d8;\n",
    "stepFunction  = TimeSeries[\n",
    "    Append[Transpose[{Prepend[stepData, d1], Range[0, Length[stepData]]}], {end, Length[stepData]}]\n",
    "];\n"
   ]
  },
  {
   "cell_type": "code",
   "execution_count": 1570,
   "id": "a554532e-3568-4698-b22a-2042aa868aeb",
   "metadata": {},
   "outputs": [],
   "source": [
    "stepPlot = DateListPlot[\n",
    "    stepFunction,\n",
    "    InterpolationOrder -> 0,\n",
    "    PlotRange -> {{d1,d8}, Automatic},\n",
    "    GridLines -> {True,False},\n",
    "    PlotStyle -> Directive[AbsoluteThickness[1]],\n",
    "    Frame -> True,\n",
    "    Background -> None,\n",
    "    FrameStyle -> Large,\n",
    "    FrameTicks -> {{Automatic, None},  {{{d1, \"Day 1\"}, {d2, \"Day 2\"}, {d3, \"Day 3\"}, {d4, \"Day 4\"}, {d5, \"Day 5\"}, {d6, \"Day 6\"}, {d7, \"Day 7\"}, {d8, \"Day 8\"}}, None}},\n",
    "    ImageSize -> 1024\n",
    "];"
   ]
  },
  {
   "cell_type": "code",
   "execution_count": 1565,
   "id": "0021e523-2971-44a4-90fa-d692138d14da",
   "metadata": {},
   "outputs": [],
   "source": [
    "Export[\"../images/step_plot_sales.png\", stepPlot];"
   ]
  },
  {
   "cell_type": "code",
   "execution_count": 1057,
   "id": "0bfe51ca-93b4-4adc-ab16-3a335faf3d9b",
   "metadata": {},
   "outputs": [],
   "source": [
    "{bins, countsD} = HistogramList[dReal, {0, 14*Pi, 2*Pi/24}];"
   ]
  },
  {
   "cell_type": "code",
   "execution_count": 1560,
   "id": "95e1a944-cbe1-4d8d-91d2-0e406c578692",
   "metadata": {},
   "outputs": [],
   "source": [
    "salesHourlyHistogram = DateHistogram[\n",
    "    es7, \"Hour\", \n",
    "    PlotRange -> {{d1, d8}, Automatic},\n",
    "    Frame -> True,\n",
    "    Background -> None,\n",
    "    ChartStyle -> colors[[1]],\n",
    "    FrameTicks -> {{Automatic, None},  {{{d1, \"Day 1\"}, {d2, \"Day 2\"}, {d3, \"Day 3\"}, {d4, \"Day 4\"}, {d5, \"Day 5\"}, {d6, \"Day 6\"}, {d7, \"Day 7\"}, {d8, \"Day 8\"}}, None}},\n",
    "    FrameStyle-> Large,\n",
    "    ImageSize -> 1024\n",
    "];"
   ]
  },
  {
   "cell_type": "code",
   "execution_count": 1555,
   "id": "42f4d2c0-dfc9-42e5-ae49-d47e54cb5e3b",
   "metadata": {},
   "outputs": [],
   "source": [
    "Export[\"../images/sales_hourly_histogram.png\", salesHourlyHistogram];"
   ]
  },
  {
   "cell_type": "code",
   "execution_count": 498,
   "id": "1133e7c2-6dbd-4733-8eb8-d6f0683d6580",
   "metadata": {},
   "outputs": [],
   "source": [
    "fitdata = Select[dReal, # < 14*Pi&]; \n",
    "n=Length[fitdata];\n",
    "loglike = sigma*Total[Cos[fitdata - phi]] + (Log[alpha]-sigma)*n - alpha*14*Pi*Exp[-sigma]*BesselI[0, sigma];"
   ]
  },
  {
   "cell_type": "code",
   "execution_count": 633,
   "id": "a5f15017-37ae-48ce-9d5c-7010b64b02da",
   "metadata": {},
   "outputs": [
    {
     "data": {
      "text/html": [
       "<div><img alt=\"Output\" src=\"data:image/png;base64,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\"></div>"
      ],
      "text/plain": [
       "{379.774, {alpha -> 14.7926, sigma -> 0.878421, phi -> -2.1888}}"
      ]
     },
     "execution_count": 633,
     "metadata": {
      "text/html": [],
      "text/plain": []
     },
     "output_type": "execute_result"
    }
   ],
   "source": [
    "{crit, learnedParams} = NMaximize[{loglike, sigma > 0 && alpha > 0 && -Pi < phi <= Pi}, {alpha,sigma,phi}];"
   ]
  },
  {
   "cell_type": "code",
   "execution_count": 728,
   "id": "53e5e0bd-890b-4f1f-997c-aa71c05d1794",
   "metadata": {},
   "outputs": [
    {
     "data": {
      "text/html": [
       "<div><img alt=\"Output\" src=\"data:image/png;base64,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\"></div>"
      ],
      "text/plain": [
       "           45\n",
       "{9.32649 10  , {lambda -> 1.75667}}"
      ]
     },
     "execution_count": 729,
     "metadata": {
      "text/html": [],
      "text/plain": []
     },
     "output_type": "execute_result"
    }
   ],
   "source": [
    "likehomog = lambda^n*Exp[-lambda*14*Pi];\n",
    "{crith, paramh} = NMaximize[{likehomog, lambda > 0}, lambda];"
   ]
  },
  {
   "cell_type": "code",
   "execution_count": 1072,
   "id": "f1261048-a229-4fb1-82fc-c47e2fb4c21b",
   "metadata": {},
   "outputs": [],
   "source": [
    "stepHour = 2*Pi/24;\n",
    "stepMin = stepHour/60;\n",
    "processCountsMin = Table[NIntegrate[rateFun /. learnedParams, {t, 0, x}], {x, 0, 14*Pi, stepMin}];\n",
    "processCountsHour = Table[NIntegrate[rateFun /. learnedParams, {t, 0, x}], {x, 0, 14*Pi, stepHour}];\n",
    "\n",
    "tsfit = TimeSeries[processCountsMin, {d1, d8}];\n"
   ]
  },
  {
   "cell_type": "code",
   "execution_count": 1540,
   "id": "f13fef3b-ad43-459c-9527-81e72d064896",
   "metadata": {},
   "outputs": [],
   "source": [
    "tshomog = TimeSeries[Table[x/lambda*4*Pi /. paramh, {x, 0, 14*Pi, step}], {d1, d8}];"
   ]
  },
  {
   "cell_type": "code",
   "execution_count": 1141,
   "id": "7a236b42-4982-4b5a-bba0-ec46e0d68f97",
   "metadata": {},
   "outputs": [],
   "source": [
    "countFit = Table[\n",
    "    NIntegrate[rateFun /. learnedParams, {t, i*stepHour, (i+1)*stepHour}],\n",
    "    {i, 0, 7*24-1}\n",
    "];"
   ]
  },
  {
   "cell_type": "code",
   "execution_count": 1545,
   "id": "8f59a609-78c2-4ccc-b8a2-09e899a8abe8",
   "metadata": {},
   "outputs": [],
   "source": [
    "salesHourlyHistogram2 = Show[\n",
    "    BarChart[countsD, ChartStyle -> Directive[colors[[1]], Opacity[0.7]],     Frame->True,\n",
    "      FrameTicks -> {{Automatic, None},  {{{0, \"Day 1\"}, {24, \"Day 2\"}, {24*2, \"Day 3\"}, {24*3, \"Day 4\"}, {24*4, \"Day 5\"}, {24*5, \"Day 6\"}, {24*6, \"Day 7\"}, {24*7, \"Day 8\"}}, None}}\n",
    "    ],\n",
    "    BarChart[countFit, ChartStyle -> Directive[colors[[2]], Opacity[0.7]]],\n",
    "    ImageSize -> 1024,\n",
    "    FrameStyle -> Large\n",
    "];"
   ]
  },
  {
   "cell_type": "code",
   "execution_count": 1455,
   "id": "c8ab4bda-b776-47d8-a3db-5635952439d8",
   "metadata": {},
   "outputs": [
    {
     "data": {
      "text/html": [
       "<div><pre style=\"&#102;&#111;&#110;&#116;&#45;&#102;&#97;&#109;&#105;&#108;&#121;&#58;&#32;&#34;&#67;&#111;&#117;&#114;&#105;&#101;&#114;&#32;&#78;&#101;&#119;&#34;&#44;&#67;&#111;&#117;&#114;&#105;&#101;&#114;&#44;&#109;&#111;&#110;&#111;&#115;&#112;&#97;&#99;&#101;&#59;\">&#97;&#115;&#115;&#101;&#116;&#115;&#47;&#105;&#109;&#97;&#103;&#101;&#115;&#47;&#115;&#97;&#108;&#101;&#115;&#95;&#104;&#111;&#117;&#114;&#108;&#121;&#95;&#104;&#105;&#115;&#116;&#111;&#103;&#114;&#97;&#109;&#95;&#102;&#105;&#116;&#46;&#112;&#110;&#103;</pre></div>"
      ],
      "text/plain": [
       "assets/images/sales_hourly_histogram_fit.png"
      ]
     },
     "execution_count": 1455,
     "metadata": {
      "text/html": [],
      "text/plain": []
     },
     "output_type": "execute_result"
    }
   ],
   "source": [
    "Export[\"assets/images/sales_hourly_histogram_fit.png\", salesHourlyHistogram2];"
   ]
  },
  {
   "cell_type": "code",
   "execution_count": 1550,
   "id": "9ca46c90-1f23-461a-8234-76f231301ad3",
   "metadata": {},
   "outputs": [],
   "source": [
    "stepPlot2 = DateListPlot[\n",
    "    {tshomog, stepFunction, tsfit},\n",
    "    InterpolationOrder -> 0,\n",
    "    PlotRange -> {{d1,d8}, {0,400}},\n",
    "    GridLines -> {True,False},\n",
    "    PlotStyle -> {{Directive[AbsoluteThickness[1]], colors[[3]]} , {Directive[AbsoluteThickness[1]], colors[[1]]}, {Directive[AbsoluteThickness[1]], colors[[2]]}},\n",
    "    Frame -> True,\n",
    "    Background -> None,\n",
    "    FrameTicks -> {{Automatic, None},  {{{d1, \"Day 1\"}, {d2, \"Day 2\"}, {d3, \"Day 3\"}, {d4, \"Day 4\"}, {d5, \"Day 5\"}, {d6, \"Day 6\"}, {d7, \"Day 7\"}, {d8, \"Day 8\"}}, None}},\n",
    "    PlotLegends -> Placed[{Style[\"homogeneous fit\", Large], Style[\"data\", Large], Style[\"fit\", Large]}, Below],\n",
    "    ImageSize -> 1024,\n",
    "    FrameStyle -> Large\n",
    "];"
   ]
  },
  {
   "cell_type": "code",
   "execution_count": 1535,
   "id": "3a2974a6-bc98-4654-bdc3-bef10d26ea03",
   "metadata": {},
   "outputs": [
    {
     "data": {
      "text/html": [
       "<div><pre style=\"&#102;&#111;&#110;&#116;&#45;&#102;&#97;&#109;&#105;&#108;&#121;&#58;&#32;&#34;&#67;&#111;&#117;&#114;&#105;&#101;&#114;&#32;&#78;&#101;&#119;&#34;&#44;&#67;&#111;&#117;&#114;&#105;&#101;&#114;&#44;&#109;&#111;&#110;&#111;&#115;&#112;&#97;&#99;&#101;&#59;\">&#97;&#115;&#115;&#101;&#116;&#115;&#47;&#105;&#109;&#97;&#103;&#101;&#115;&#47;&#115;&#116;&#101;&#112;&#95;&#112;&#108;&#111;&#116;&#95;&#115;&#97;&#108;&#101;&#115;&#95;&#102;&#105;&#116;&#46;&#112;&#110;&#103;</pre></div>"
      ],
      "text/plain": [
       "assets/images/step_plot_sales_fit.png"
      ]
     },
     "execution_count": 1535,
     "metadata": {
      "text/html": [],
      "text/plain": []
     },
     "output_type": "execute_result"
    }
   ],
   "source": [
    "Export[\"assets/images/step_plot_sales_fit.png\", stepPlot2];"
   ]
  }
 ],
 "metadata": {
  "kernelspec": {
   "display_name": "Wolfram Language 14",
   "language": "Wolfram Language",
   "name": "wolframlanguage14"
  },
  "language_info": {
   "codemirror_mode": "mathematica",
   "file_extension": ".m",
   "mimetype": "application/vnd.wolfram.m",
   "name": "Wolfram Language",
   "pygments_lexer": "mathematica",
   "version": "12.0"
  }
 },
 "nbformat": 4,
 "nbformat_minor": 5
}
