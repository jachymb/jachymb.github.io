{
 "cells": [
  {
   "cell_type": "code",
   "execution_count": 1,
   "id": "b4ea6a02-b87f-40a3-b1a4-0806eb429ad6",
   "metadata": {},
   "outputs": [
    {
     "data": {
      "text/html": [
       "<div><img alt=\"Output\" src=\"data:image/png;base64,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\"></div>"
      ],
      "text/plain": [
       "            1\n",
       "-------------------------\n",
       "    alpha   1       alpha\n",
       "beta      (---- + s)\n",
       "           beta"
      ]
     },
     "execution_count": 1,
     "metadata": {
      "text/html": [],
      "text/plain": []
     },
     "output_type": "execute_result"
    }
   ],
   "source": [
    "lap = FullSimplify@LaplaceTransform[PDF[GammaDistribution[alpha,beta],t],t,s]"
   ]
  },
  {
   "cell_type": "code",
   "execution_count": 2,
   "id": "36bc7bf5-a938-4547-ab0e-97b57d44e414",
   "metadata": {},
   "outputs": [
    {
     "data": {
      "text/html": [
       "<div><img alt=\"Output\" src=\"data:image/png;base64,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\"></div>"
      ],
      "text/plain": [
       "                1\n",
       "---------------------------------\n",
       "    alpha   1               alpha\n",
       "beta      (---- + T (1 - z))\n",
       "           beta"
      ]
     },
     "execution_count": 2,
     "metadata": {
      "text/html": [],
      "text/plain": []
     },
     "output_type": "execute_result"
    }
   ],
   "source": [
    "lap /. s-> T*(1-z)"
   ]
  },
  {
   "cell_type": "code",
   "execution_count": 3,
   "id": "10ea4ee0-5329-48b6-bde5-a62b04a848bd",
   "metadata": {},
   "outputs": [
    {
     "data": {
      "text/html": [
       "<div><pre style=\"&#102;&#111;&#110;&#116;&#45;&#102;&#97;&#109;&#105;&#108;&#121;&#58;&#32;&#34;&#67;&#111;&#117;&#114;&#105;&#101;&#114;&#32;&#78;&#101;&#119;&#34;&#44;&#67;&#111;&#117;&#114;&#105;&#101;&#114;&#44;&#109;&#111;&#110;&#111;&#115;&#112;&#97;&#99;&#101;&#59;\">&#49;</pre></div>"
      ],
      "text/plain": [
       "1"
      ]
     },
     "execution_count": 3,
     "metadata": {
      "text/html": [],
      "text/plain": []
     },
     "output_type": "execute_result"
    }
   ],
   "source": [
    "n = 1"
   ]
  },
  {
   "cell_type": "code",
   "execution_count": 4,
   "id": "5da57c38-d92e-4707-a67d-7487602bc167",
   "metadata": {},
   "outputs": [
    {
     "data": {
      "text/html": [
       "<div><img alt=\"Output\" src=\"data:image/png;base64,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\"></div>"
      ],
      "text/plain": [
       "                                         1 - alpha\n",
       "             1                 alpha beta          T\n",
       "{-------------------------, ----------------------------}\n",
       "     alpha   1       alpha    1       alpha\n",
       " beta      (---- + T)       (---- + T)      (1 + beta T)\n",
       "            beta             beta"
      ]
     },
     "execution_count": 4,
     "metadata": {
      "text/html": [],
      "text/plain": []
     },
     "output_type": "execute_result"
    }
   ],
   "source": [
    "c1 = CoefficientList[\n",
    "    Series[lap /. s-> T*(1-z), {z, 0, n}],\n",
    "    z\n",
    "]"
   ]
  },
  {
   "cell_type": "code",
   "execution_count": 5,
   "id": "0be66ecc-6cb9-425b-924c-e1301822629f",
   "metadata": {},
   "outputs": [
    {
     "data": {
      "text/html": [
       "<div><img alt=\"Output\" src=\"data:image/png;base64,iVBORw0KGgoAAAANSUhEUgAAAJIAAAAVCAIAAAAirCC5AAAAz3pUWHRSYXcgcHJvZmlsZSB0eXBlIGV4aWYAAHjabU/bEQMhCPy3ipSAgIuW4+W8mXSQ8gOnSeYyWUdYloeSxvNxpFuAMyUtVtEAcmjTxt1JpYnpM7XTnmi8cvmqp1yW3l0q3wTG0rerbpie688gWi9IvOBcdDWsQcJTz33G26rnXut10CJvgD5f/xurGKMgm7pVJjM05zU5dYfCVAwH7oAXZuxMenc/YOZtsKiQHo0BHnatHgniwh4rSFyVLtlP98i3CuucBaeuvLkys7HOCw5wWnoPY0+nAAAACXBIWXMAAA7EAAAOxAGVKw4bAAAAPHRFWHRTb2Z0d2FyZQBDcmVhdGVkIHdpdGggdGhlIFdvbGZyYW0gTGFuZ3VhZ2UgOiB3d3cud29sZnJhbS5jb21coqaFAAAAIXRFWHRDcmVhdGlvbiBUaW1lADIwMjQ6MTE6MDMgMDM6MjY6MTRqtQaLAAACzklEQVRoge2ZPdKyMBDHk3c8hgUDnMFKKSjEA1iAlW1SO1SUNjLW2FoJhQeQhkJyDM14k7xFZhgeQAlPgh/P+KswxmV3k+x/J0LGGPjyafx7tQNffsN32T4SqWVLkgRjbJomhBBCSClV5dYfoNfkyJ623W633+8ZYwih4/GoxKc/Q4/JYT+5Xq8AAMMwmABxHDuOIzKzEwihPM8rg4ZhAADiOFb+ukbk41KSHIQQAKCejepp2263jLHL5aJya3SBF5PxeFyMhGEIIVyv1890Y7lcJknyzDc2EkURY6wee3XZXq5P2+12tVoVH5MkybKMMTYcDp/phuu6+/3+mW98gK7rlZF2bSOEcEUt1BVj3I97gFJKKS176bru6XRS+xbBiGzbJoTI23mAaZphGHI73TqXStGsl+M8z/lMritc/DabjWTVbiSO43vqxd1Qom2CEV2vV4SQvJ0HcMEuOgnHcRrlsO6GaCcZx7HrugAAXdcRQlmWie6oLpzP59Fo1IflOq0R6bousvclM2MYRtFJ2LadpqnIr34sW5Iktm03zitLi6ZpPfUslQrZldlsBmvcm6wqIkk70+m0ePZ9nzXdNS4WizAMyyOD4okQ4nlecfA/EeUq+CaMx+PJZAIA8H2fjwzK3zHGMMbl5ruRLMtM0+zDP5mjJoOqiHrKDMa4cgoHlRmt1TwMwzRNufy2wmtUnuetW4GjaRohRHCyKh5E1GkbdcqMJNVluwc/pJzG+tuI4zhpmh4OB8GVmM/nx+OxPJlSytstjud5nueVZfzXtEZECLEsS95OH4h2kuX7FXHry+USAKBpmuB8Xddvt1tlpN4QK2mIWiNar9e8RZS084DL5RJFUddfgfqyqVWXIAhASUhFsCzrHW6VKKX3mup3oLpslmVBCOV1FWPMha3rHnRdNwiCl9+xGYbRabf1RJHGCvBp5fiLQr7/bn8k/wEIOWwg49RaUQAAAABJRU5ErkJggg==\"></div>"
      ],
      "text/plain": [
       "  r           r\n",
       "{p , (1 - p) p  r}"
      ]
     },
     "execution_count": 5,
     "metadata": {
      "text/html": [],
      "text/plain": []
     },
     "output_type": "execute_result"
    }
   ],
   "source": [
    "c2 = Table[PDF[NegativeBinomialDistribution[r,p],k], {k,0,n}]"
   ]
  },
  {
   "cell_type": "code",
   "execution_count": null,
   "id": "ffc3b4a0-88cf-4361-afbb-a40c06849f9f",
   "metadata": {},
   "outputs": [],
   "source": [
    "eqSystem  = And @@ Thread[c1 == c2]"
   ]
  },
  {
   "cell_type": "code",
   "execution_count": null,
   "id": "05d462d8-f282-4960-a988-436685ef365a",
   "metadata": {},
   "outputs": [],
   "source": [
    "Reduce[eqSystem, {r,p}, Reals]"
   ]
  },
  {
   "cell_type": "code",
   "execution_count": null,
   "id": "68090d0c-c38e-4a82-a8df-300f7c0a6f41",
   "metadata": {},
   "outputs": [],
   "source": []
  }
 ],
 "metadata": {
  "kernelspec": {
   "display_name": "Wolfram Language 14",
   "language": "Wolfram Language",
   "name": "wolframlanguage14"
  },
  "language_info": {
   "codemirror_mode": "mathematica",
   "file_extension": ".m",
   "mimetype": "application/vnd.wolfram.m",
   "name": "Wolfram Language",
   "pygments_lexer": "mathematica",
   "version": "12.0"
  }
 },
 "nbformat": 4,
 "nbformat_minor": 5
}
