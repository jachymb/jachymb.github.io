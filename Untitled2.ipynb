{
 "cells": [
  {
   "cell_type": "code",
   "execution_count": 1,
   "id": "8b4f0311-1c55-4068-82dc-7ef0fdf68862",
   "metadata": {},
   "outputs": [
    {
     "data": {
      "text/html": [
       "<div><img alt=\"Output\" src=\"data:image/png;base64,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\"></div>"
      ],
      "text/plain": [
       "                                     t\n",
       "Piecewise[{{GammaRegularized[a k, 0, -], t > 0}}] \n",
       "                                     b\n",
       " \n",
       "                                                    t\n",
       ">   (1 - Piecewise[{{GammaRegularized[a (1 + k), 0, -], t > 0}}])\n",
       "                                                    b"
      ]
     },
     "execution_count": 1,
     "metadata": {
      "text/html": [],
      "text/plain": []
     },
     "output_type": "execute_result"
    }
   ],
   "source": [
    "p=CDF[GammaDistribution[k*a,b], t]*(1-CDF[GammaDistribution[(k+1)*a,b], t])"
   ]
  },
  {
   "cell_type": "code",
   "execution_count": 2,
   "id": "99d9095d-3a4f-4f97-bb8b-ead070d1da6e",
   "metadata": {},
   "outputs": [
    {
     "data": {
      "text/html": [
       "<div><img alt=\"Output\" src=\"data:image/png;base64,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\"></div>"
      ],
      "text/plain": [
       "                                       t                                       t\n",
       "Piecewise[{{-(GammaRegularized[a k, 0, -] (-1 + GammaRegularized[a (1 + k), 0, -])), \n",
       "                                       b                                       b\n",
       " \n",
       ">     t > 0}}]"
      ]
     },
     "execution_count": 2,
     "metadata": {
      "text/html": [],
      "text/plain": []
     },
     "output_type": "execute_result"
    }
   ],
   "source": [
    "p=FullSimplify[p ]"
   ]
  },
  {
   "cell_type": "code",
   "execution_count": 3,
   "id": "bde6ccd9-3ec2-43e4-8f0c-49a76abb4b57",
   "metadata": {},
   "outputs": [
    {
     "data": {
      "text/html": [
       "<div><img alt=\"Output\" src=\"data:image/png;base64,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\"></div>"
      ],
      "text/plain": [
       "                           t                                       t\n",
       "-(GammaRegularized[a k, 0, -] (-1 + GammaRegularized[a (1 + k), 0, -]))\n",
       "                           b                                       b"
      ]
     },
     "execution_count": 3,
     "metadata": {
      "text/html": [],
      "text/plain": []
     },
     "output_type": "execute_result"
    }
   ],
   "source": [
    "p[[1,1,1]]"
   ]
  },
  {
   "cell_type": "code",
   "execution_count": 4,
   "id": "1c3f6a1f-6f78-4ae0-b8b7-a6ddcca13e19",
   "metadata": {},
   "outputs": [
    {
     "data": {
      "text/html": [
       "<div><img alt=\"Output\" src=\"data:image/png;base64,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\"></div>"
      ],
      "text/plain": [
       "                                           t                                       t\n",
       "Sum[Piecewise[{{-(GammaRegularized[a k, 0, -] (-1 + GammaRegularized[a (1 + k), 0, -])), \n",
       "                                           b                                       b\n",
       " \n",
       ">      t > 0}}], {k, 0, Inf}]"
      ]
     },
     "execution_count": 4,
     "metadata": {
      "text/html": [],
      "text/plain": []
     },
     "output_type": "execute_result"
    }
   ],
   "source": [
    "Sum[p, {k, 0, Inf}]"
   ]
  },
  {
   "cell_type": "code",
   "execution_count": 5,
   "id": "f4f40050-e43e-4daa-9423-37506da7fcf7",
   "metadata": {},
   "outputs": [
    {
     "data": {
      "text/html": [
       "<div><img alt=\"Output\" src=\"data:image/png;base64,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\"></div>"
      ],
      "text/plain": [
       "{a -> 1.23433, b -> 2.6341, t -> 1}"
      ]
     },
     "execution_count": 5,
     "metadata": {
      "text/html": [],
      "text/plain": []
     },
     "output_type": "execute_result"
    }
   ],
   "source": [
    "params = {a -> 1.234334, b -> 2.6341, t->1}"
   ]
  },
  {
   "cell_type": "code",
   "execution_count": 6,
   "id": "a50c9d7e-f19a-4245-adc1-1d0d236d7894",
   "metadata": {},
   "outputs": [
    {
     "data": {
      "text/html": [
       "<div><pre style=\"&#102;&#111;&#110;&#116;&#45;&#102;&#97;&#109;&#105;&#108;&#121;&#58;&#32;&#34;&#67;&#111;&#117;&#114;&#105;&#101;&#114;&#32;&#78;&#101;&#119;&#34;&#44;&#67;&#111;&#117;&#114;&#105;&#101;&#114;&#44;&#109;&#111;&#110;&#111;&#115;&#112;&#97;&#99;&#101;&#59;\">&#32;&#32;&#32;&#32;&#32;&#32;&#32;&#32;&#32;&#32;&#32;&#32;&#32;&#32;&#32;&#32;&#32;&#32;&#32;&#32;&#32;&#32;&#32;&#32;&#32;&#32;&#32;&#32;&#32;&#32;&#32;&#32;&#32;&#32;&#32;&#32;&#32;&#32;&#32;&#32;&#32;&#32;&#32;&#32;&#32;&#32;&#32;&#32;&#32;&#32;&#32;&#32;&#32;&#32;&#32;&#32;&#32;&#32;&#32;&#32;&#32;&#32;&#32;&#32;&#32;&#32;&#32;&#32;&#45;&#54;&#32;&#32;&#32;&#32;&#32;&#32;&#32;&#32;&#32;&#32;&#32;&#45;&#56;&#10;&#123;&#48;&#46;&#55;&#56;&#48;&#51;&#51;&#55;&#44;&#32;&#48;&#46;&#50;&#49;&#52;&#56;&#54;&#55;&#44;&#32;&#48;&#46;&#48;&#50;&#49;&#56;&#48;&#50;&#54;&#44;&#32;&#48;&#46;&#48;&#48;&#49;&#51;&#50;&#56;&#48;&#53;&#44;&#32;&#48;&#46;&#48;&#48;&#48;&#48;&#53;&#54;&#55;&#51;&#50;&#53;&#44;&#32;&#49;&#46;&#56;&#51;&#57;&#50;&#56;&#32;&#49;&#48;&#32;&#32;&#44;&#32;&#52;&#46;&#55;&#53;&#55;&#52;&#32;&#49;&#48;&#32;&#32;&#44;&#32;&#10;&#32;&#10;&#32;&#32;&#32;&#32;&#32;&#32;&#32;&#32;&#32;&#32;&#32;&#32;&#32;&#32;&#45;&#57;&#32;&#32;&#32;&#32;&#32;&#32;&#32;&#32;&#32;&#32;&#32;&#32;&#45;&#49;&#49;&#32;&#32;&#32;&#32;&#32;&#32;&#32;&#32;&#32;&#32;&#32;&#32;&#45;&#49;&#51;&#32;&#32;&#32;&#32;&#32;&#32;&#32;&#32;&#32;&#32;&#32;&#32;&#45;&#49;&#53;&#10;&#62;&#32;&#32;&#32;&#49;&#46;&#48;&#49;&#54;&#52;&#49;&#32;&#49;&#48;&#32;&#32;&#44;&#32;&#49;&#46;&#56;&#52;&#48;&#48;&#49;&#32;&#49;&#48;&#32;&#32;&#32;&#44;&#32;&#50;&#46;&#56;&#55;&#56;&#48;&#56;&#32;&#49;&#48;&#32;&#32;&#32;&#44;&#32;&#51;&#46;&#57;&#53;&#48;&#49;&#50;&#32;&#49;&#48;&#32;&#32;&#32;&#125;</pre></div>"
      ],
      "text/plain": [
       "                                                                    -6           -8\n",
       "{0.780337, 0.214867, 0.0218026, 0.00132805, 0.0000567325, 1.83928 10  , 4.7574 10  , \n",
       " \n",
       "              -9            -11            -13            -15\n",
       ">   1.01641 10  , 1.84001 10   , 2.87808 10   , 3.95012 10   }"
      ]
     },
     "execution_count": 6,
     "metadata": {
      "text/html": [],
      "text/plain": []
     },
     "output_type": "execute_result"
    }
   ],
   "source": [
    "Table[p/.params, {k,0,10}]"
   ]
  },
  {
   "cell_type": "code",
   "execution_count": 7,
   "id": "b31e6d13-b563-42f3-a616-7043f4f1848b",
   "metadata": {},
   "outputs": [
    {
     "data": {
      "text/html": [
       "<div><img alt=\"Output\" src=\"data:image/png;base64,iVBORw0KGgoAAAANSUhEUgAAAZEAAAAsCAIAAAArYBIfAAAAznpUWHRSYXcgcHJvZmlsZSB0eXBlIGV4aWYAAHjabY/rDcMgDIT/M0VHwA/OMA5JiNQNOn7tQFWl6qHYnw/bEWm8nmd6hJhy0mIVDcgubdq4O9Q8NTPldsVLjRbR3U+8T6DuVvleYCx/u/uGmbn+LMo8QeIPzqJrYC0Snj71WW+rn3ut90ULPsIH6H+tYowCMvWonM3QnGty9ITCuRhO7IA3Eg7OunseMPMxWHRIj8EQD7t3jwRx44gnSHwqXchPj8pH4wTDo7izOc/beM4bTm1ao97qOsYAAAAJcEhZcwAADsQAAA7EAZUrDhsAAAA8dEVYdFNvZnR3YXJlAENyZWF0ZWQgd2l0aCB0aGUgV29sZnJhbSBMYW5ndWFnZSA6IHd3dy53b2xmcmFtLmNvbVyipoUAAAAhdEVYdENyZWF0aW9uIFRpbWUAMjAyNDoxMTowMiAwMDowNjozMhUK4/8AAAdzSURBVHic7Z09jqNKEMfh6Z1itVqNaJ9hI+PAwcABJsCZU4hXkDh0YuTYpBMtBHsA44BgQBPMGWi0Gq32Gv2C0vbrxQxu82Fgpn6RP6BpyvSfquo2pTLGFARBkInwz9AdQBAEuYL3r1m+7zuOM3QvEATphvevWQiCvCfKmjWbzdQ/+L4/SJ96IsuyBicVRZHjONwsRVH01D0EQWSo0Cz2B9d1B+lTHxRFoes6pbTBSQVB8Pj4yBizbfvHjx/NOgCKaZpms90bUBSFqqqz2eyqvfgd69odh+L93VwnxCDG7yY2dBwny7LSh+CbRFHUySEuUiMHQRAQQiilmqY1aNkwjPl8rijK4XColDzQI5Fza/z69avBodvw+/fvBnvB7cq27ZptuNfZrGM3vjAmwY1t0vIXvA2O41QOqA40C8IlGNWA7/uqqm632/aNy7Ner9/6yW3bJoQ0G8PypGkKA3632+m6XooiLctijB2Px177IDKfzxljeZ533jJ3xq/dcZALY+QMYpM8zy/emYbFNM3T6SQOKC5bHWjWfr//9u0bfxtFUZIkjLHPnz+3b1wey7IeHx/f+jbPc/G0ewV8sZeXlxsca0IMdWGMGbRJJVmWxXF8Op3greu6hJDv37/D27aaVRRFURRizGVZVk/ehOgrVgbSy+WyRpUopbqu16x7uNi+JCUPS4wcS0eHr4qi4L565QYcsauO45imCbvAvZpnoCCTBVSGzOKZ3mwhSH8XBieKok5Cntls5vu+aPye5l56ssnN+i9y0fimaUqOqefnZ0IIV5UsyyilQRDA27aa9fLysl6vWzYig2maRVHw+YHKbR4eHrgYc1zXPRwOiqJomsYYg9fy7Te4qvb7PSHEsix4CzEaY4wQUrk9IWS73TLG0jQNgoDLbhRFuq7zkNO2bfHiC4JguVyGYRgEQZIklFJKKewLZ8oYMwzj/HCO4ywWC9gALoUxp5bkJdX3/dVqFYbhxaBVpk3P89brNTfjqJb4jbD/MsaHcSQzvZMkCd8GRkEYhsofb6CtZj09PX39+rVlIxeJoiiO47fkhqNpWrP7iWT79ei6DvcZmGeU3zEMQxA4yAk+Pz/D55vNxrZtniiE7okTl3xCYLPZwAuZTP/hcOB6qmkaIeTp6Um+t+PEcRzP89I05afWEkIITwUul8s4jjtp9mbcsv/yxnddlzF2Op0kJ6Z9399sNiUd7CA2bDYZB0B0U+J8s9fXV9FX7JxO2ucOURiGuq7Lh5aVuYyiKCili8VC/NAwjJ8/f8Jr0Wv79OnTVV0VrU0pvWrfGiR/zc7xPC8IgjRNxYmgltzf3/PXMNKatTOUTbrq/0UaGF/TNMMwKKVq1Qw7xzTNJEnOJ5EGXgd/PB7ZGcN2qT2WZdm2nSTJ0B2pRlVVwzC4td+KWBvQ4a/Jh3oQBBeH+m63s237fK62TZtdMZRNboak8QGeaQXviTFWqXSapsVxrGkaT8uIXkVbzerP9xH58uWL6A50Pv3Xd/sNAMO+vr6KH8ZxfHd316ZZODUeS44WPtRt25YZ6ofDwTAMQkjNyLm2zbEx2v7LGF9RFNM07+/va6SKA+GFuBohSRLuObbVrLu7uxuMcEiZQbSVZZmu629t2UxD5duXIcuyIAjaT03sdjvP87h5YQaw5Z8TIIrkKbPZbNZhbDgscE/u0G2sB/yFMdzexoCM8Y/Ho+RqQcuyCCFcpHzfj+OYS1hbzXp4eOADAODuH4z81WolmW+rQdO0NE09z4NmKaWV1smyrJQA6rb9engOHlrg+Ui+sAAm6eC1jCPtui6kxngUIHlfhaUPqqrGcRzHsTi6NE0LwxDOVFXV7XYrLizk09VBEEC6Qe1ucXYfF0YJ0N/bSAnMyZ7PU1/FDWxyMy4a/6rUXp7nfAGQ53mMsf/dkVKkLWY6JBE91ZuhKMputyt92KDzV7WPAB3aebrA7PukL5JBRm57OsjBLxaLMSzwKYpiuVwO3QvkowA5wff0HIGp0IFmWZa12WwGf0gLIQQvoNuQ5/lIJq0GAYJ9RTpUHyEQdvGV5dNC5XaH3LO4FA1BEGRs/OVnhWGIgoUgyJjBZysjCDIl/tKs1Wo10XlWBEE+CP9rFjx+ADULQZAxg7EhgiBTAjULQZApgZqFIMiUQM1CEGRKNNestyr5IAjyERDrN4v0/ZeYhppVU8kHQZCPABQcY4xBLT7+H+a+n6nXRLPqK/kgCIL0RxPNqq/kgyAIAs9iU4THZvHaP1DETIzM1L9L84nF7s7/it9Es+or+SAIggCqqkLJslIdvBqKoiCElErkiRu0mjesrOSDIAgCvFUHr4b9fn9eIk98Qt+/jXsDjyfH50AgCPIWYvFTSefmdDrV55qa+Fn1lXwQBEHacP7QZ7HaaxPNqq/kgyAIUkOphHApDz6bzfiahEqaaFZ9JR8EQZAaICDjq6NKNa42mw2llE8yntMwB19XyQdBEKQWmEYEAUnTVJSt+Xwufnu+3EEtJcbEIp273Q6rQiAIMirKmoUgCDJm8LkOCIJMCdQsBEGmxH9mZIfuBJ8eNQAAAABJRU5ErkJggg==\"></div>"
      ],
      "text/plain": [
       "                   k  r\n",
       "Piecewise[{{(1 - q)  q  Binomial[-1 + k + r, -1 + r], k >= 0}}]"
      ]
     },
     "execution_count": 7,
     "metadata": {
      "text/html": [],
      "text/plain": []
     },
     "output_type": "execute_result"
    }
   ],
   "source": [
    "p2=PDF[NegativeBinomialDistribution[r,q],k] // FullSimplify"
   ]
  },
  {
   "cell_type": "code",
   "execution_count": 8,
   "id": "68310680-b7d6-48c9-ad2b-fe650aee721e",
   "metadata": {},
   "outputs": [
    {
     "data": {
      "text/html": [
       "<div><img alt=\"Output\" src=\"data:image/png;base64,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\"></div>"
      ],
      "text/plain": [
       "                          2  r                   3  r\n",
       "  r           r    (1 - q)  q  r (1 + r)  (1 - q)  q  r (1 + r) (2 + r)\n",
       "{q , (1 - q) q  r, ---------------------, -----------------------------, \n",
       "                             2                          6\n",
       " \n",
       "           4  r\n",
       "    (1 - q)  q  r (1 + r) (2 + r) (3 + r)\n",
       ">   -------------------------------------, \n",
       "                     24\n",
       " \n",
       "           5  r\n",
       "    (1 - q)  q  r (1 + r) (2 + r) (3 + r) (4 + r)         6  r\n",
       ">   ---------------------------------------------, (1 - q)  q  Binomial[5 + r, -1 + r], \n",
       "                         120\n",
       " \n",
       "           7  r                                 8  r\n",
       ">   (1 - q)  q  Binomial[6 + r, -1 + r], (1 - q)  q  Binomial[7 + r, -1 + r], \n",
       " \n",
       "           9  r                                 10  r\n",
       ">   (1 - q)  q  Binomial[8 + r, -1 + r], (1 - q)   q  Binomial[9 + r, -1 + r]}"
      ]
     },
     "execution_count": 8,
     "metadata": {
      "text/html": [],
      "text/plain": []
     },
     "output_type": "execute_result"
    }
   ],
   "source": [
    "Table[p2/.params, {k,0,10}]"
   ]
  },
  {
   "cell_type": "code",
   "execution_count": 9,
   "id": "f5da033f-6aad-4ce2-934d-c17c52523dc8",
   "metadata": {},
   "outputs": [
    {
     "data": {
      "text/html": [
       "<div><img alt=\"Output\" src=\"data:image/png;base64,iVBORw0KGgoAAAANSUhEUgAABBAAAABbCAIAAABF1+EbAAAAznpUWHRSYXcgcHJvZmlsZSB0eXBlIGV4aWYAAHjabY9hDsMgCIX/e4odAQEfehzb2mQ32PEH02bpMkzh4/mgMY3X80yPCM6UtFhFA8hDmzbuDpVmzJqpffJqSBfc9FS2Zegule8FxtK3u26YlevPIuIJEn9wFl0Da5Hw1HOf/bb83Gu9L1pwBS7I/3sVYxRkU8/KZIbmXJOjFxSmYjixA27MOJh09zpg5mOwcEiPwQgednePBHHhiCdIfCpdsp8enY/GCYZnkcab87yN57wBSLxapicaZP4AAAAJcEhZcwAADsQAAA7EAZUrDhsAAAA8dEVYdFNvZnR3YXJlAENyZWF0ZWQgd2l0aCB0aGUgV29sZnJhbSBMYW5ndWFnZSA6IHd3dy53b2xmcmFtLmNvbVyipoUAAAAhdEVYdENyZWF0aW9uIFRpbWUAMjAyNDoxMTowMiAwMDowNjozOYLYOncAABwHSURBVHic7d1BiNvYGQdwaclhDrM00DksS0gHSZDtLYd2Kd3xNAxlpENhd2kONuQwh25AoqWXXbsLA734YnWghy427BbqQxt7ISXpzRqWaRq7oU0phLILPVgiDOk2hTnkMIc5GNTD17y+lS1Zlp4s2fr/DiEzYz9/etb3pKf39CT7vi8BAAAAAADM8kreAQAAAAAAQHGhwwClY1mWYRh5RwEAkA+0gQCFshIpiQ4DAAAAiHR2dpZ3CADlknXSocMAAAAAwozH436/n3cUAOXy0UcfvXjxIrvyZdz0DOUhy/L0L1utVr1eX34wAABLtpw28Cc/+ckvfvGLjY0NgWUCrCWBKXl2dvbrX//6Zz/7mYi4ZriUUbkABUTdY8uyPM8bDAZ5hwMAsFRLaAOfPHly7do19BYA4hCYkltbW5PJ5Pnz56+99pqg6L4CU5IgFU3TZFmWZXnNBqA9z5NfyjsWACgutIEBv/vd76rVakZRQZmta67FFCclq9VqdpWDEQZIRdO08XicdxTiKYrC+v15xwIAxYU2kDeZTJ49e7a1tZVZXFBe65prMcVJSU3Tvvjii4wCwAgDAAAACPDgwYO33nor7ygAyusb3/hGRt0qdBgAAABAgM8///z69et5RwFQXm+88cbnn3+eRcnoMEDpbG9vO44zGo3yDgQAIAfZtYGu62qaJrxYgPUmMCWzm7g1p8PQ7/cty2I3mniel0UQAMtUr9dN06xUKrRX27add0SQLbRjALzs2sCzs7OMVmgBWGMCU3J7e9t1XYGxMfNHGDqdTrfb9X3fNM27d+9mEQTAkrXbbf8lPIShDNCOAfAyagPxgGeAZESl5OXLl3O7h0HX9Z2dHUmS2u02Tq3SY6tiCR+37ff7sixnt6oPLsbni+0509+CbdtYBDYa2rHiQBu4xiaTSd4hwP8g0UorThomOKPI4R6G0Wgkc3KcHsBXiizLhmEs4UOp+2iapvCST09PhZdZBJZlse9oXW88oNkyEcsnG4Zhmqbv+8PhsNFo8K8cjUaNRsN1Xd/3dV2Pf2ywLCtZfc6NVqzlJOYyoQ1EG7iQFWoD08xHEt6wINHKkGj80wmWdsms4Ck5Nw2TnVEsu8Ng23alUun1emzkJfd17lkkjuOs9KlJvV73fb/dbucdiEiGYRwfH9MX1Gq1KpVKAZMzDTqQNJvN6Jc5jrO7uytJEl0m59vrR48eqaqqKIokSXt7ezEnL9Kxk0oTHq1YBwcH6/SYHrSB2UEbmLtkU5KyaFiQaNkpTqJ5nqeq6nA4pIpVVXUJ99wXPyXnpmGyM4qldhio49Lr9fjHQGb0dPoEWq2W4zh5RwH/NxqNHMc5Pj6mH+v1uqqqd+7cyTcqgfr9/snJie/7V65cmftiSmlqmK5evcr/iaX0ycmJqqpxPvro6Oj999/PLlqBqtVqt9td5idmB20gLGTl2sAEU5KyaFiQaCVBzzJjV76azabrupmevq9ESsZJwwRnFP/vMPAjLGxWU7VaFZhjd+7cUVU14qHxgQFE9nvDMGzbpvFK27YpVOqg02gUzaijMUf6D39Jkt+0ha4x8G8MTPMKhMoHHHixYRjxryXwA5eBd9FGsS3l64f/ZSDOwGgdq6WZ752Ok6+BmJvAGIYRFlVMfE9XkqTRaOS6bqfTSVBUMcXPL9M0G42GZVmVSsU0TT6Jbt68Kb38pviGLILneZ7nsYoVHu2iZjY+vL29vTjHgLByYkauaZpt23xqC5/DgDZwLrSBvLVvA6VsGhYk2lzrlGjM3D4nUpIkPKOgURVd13VdZ+NlkiS1Wi1/QTQjKoKqqhGvGQ6HfAx8SLquS5LU6/VarRZt6nA4lCTJdV3WE6LyJUkaDoemabL3mqbJBiXpxexHKo3/Ex8eXwj9ldUJfTorR9d1VVXZGwO1F6hbVjj/FhYP/8ZAObSZrKiZlTn3i1NVlR+i7fV6EjdOqqpq2FcQVvj0prHfs1FCqi72Y3x8ABQq/Uuz65Zj7l4tRGCPmol2gJnbzvIi5sf1er3oz4oWJ1pmblRxdjPXdYWUE40aEJaYMzM3JbSBfOFoA+dauTbwxo0biT9IYMOCROMLX49E88Nzjd+uiOwoT0rGScMEZxSvSJLU7/cdx1nydDTWz2MTznZ2dvjLDHt7e/yYHX+1gE2l+PLLL+k/tHkStxYKW1Wq3W6zNyqKoqrqw4cP+UgoDNq5WSV4ntfpdNiPiqK0Wq2PP/6Yfnz27JkkSazYg4MDIave1ut1fv0WXddPTk74F+i6zqpof38/zrVkHi1Fz3clDw8PaV8n3W7XcRy6JJByrxgMBmyUkP7z6NGjZEVJkmTb9uHhIdvFC4i/bmEYRuCaUMop+HTlhv5PS4LSxSH6jWVZjUZDkiR2kWPutZOHDx+++eabaUISJeZupihK9MV+UY2Yqqqs6Qg0QTwhXzfawGloA8MUvw0sLCTatHVKNMbzvEajoet62OA5UpIkPqO4JEnS6ekpP8KyHLQvWpbF74iWZYWN7PA3siiKwrKXsAlYM7cieoSLvm9ZlrvdLtu/Hz9+LElSYDo4+5GGvfr9Pr2+2+3GnDg+l6ZpfHNAVzuYvb099v9Fs2s0GnU6HX7n9jzPdd1arVar1aZfn3KvoFuRkr03gMYu068rfO/evXv37oX99d1333333XcTFz49pC6wHbEsi5pv27YbjcZ3v/td6eXeSF/rcDjc2dmhk1eKJDAlMSBsPpJhGNOnyJk2iKIaH1Hl7O/vs/8Hjqk8IV832sCZ0AZOE9UGfvLJJ3RhdaYPP/zwm9/8ZsqPmGn5DQsPiTbT2iQaQzUTMb2tgCk5HA4/+eSTsL+mPC0Jk/iM4lL6z+bbApaBM9sCTdMi+qmUwK7r0n5DW5I+PFmW+b5y2B30vV6vVquxtCQsmIDXX39dkiS29/NXJdOg2FjViV1FgdaLmP594LYwISgtTdNkDU2yWYmKonQ6Hb6cNC1LRrm3BI7j0GWter3+9OnTSqWiqiqd2tIFErpY4rouWyMi2QCCwJnE8ZuFUkEbGA1tYIDYNvC999577733ErwxpeU3LEi0aGuTaAxtUcTwSzFTslKpVCqVBG9MI/EZxSuSJF29epWv5UVvMB8MBtPTqma+kkbTwso/Pj42TVPsQAd91uHh4dxXVqtVVVXZYizUraeu/7SjoyN+Ll0ggQNd2JjpTV3wjBaspDV3A7lKVR0YM2XS7BVUb4suwjONlv3iyzk5OeGvARdHplOSeO12W1VV13Wnq1dRlF6vR9P9o/NoCcOJMZuFlI2P8HJiSvx1ow2MgDZw2gq1gcsRs2FBokVYp0QjNFoS1ukiSMmZFjqjeEV62XWgKUqj0Si77k61WtV1vVKpzJyOzF8SENXjp945m6YWGIMLuH37tuM4tLPu7Ozoul6r1WaGur29HbEmmqZpbAKiYRgxZxwGMmrmGG4y/X5/PB7PHFVstVqdTmfm+U2avSLQAs7sx9OpVXTTQA0rS0Xbth3Hmd6t4xSVNXYY832fJkrytwqlvKxCCxoEdsWjoyOJW9CA/1On04me8b+9vV2QdaPj72bRR/elNWIk8deNNjAC2sBpcdrAIjSARYNEi7BOiSa93PDhcBh9jCjhaUmY5GcUdITj5zXSMEQWqyQRds8Qmb43X5IkupldmlrEiS01wO5w59ciYPfy88sC8ENjvV7PNE0WJ79wAQsgcOd+WKjTM+H42+35t/ALIISN09Ff+W+BFjGIuepLIE5Cf5rZgvDlBL4O/hP5eOhT4q8QwhdLS1IE3ksxx9ln+K2LeEFGyxllukrSzG9nekUL/6tP66Q1jtiXxRdC72UreER8boIEjx9tIPLoF8RpfIbD4dy1U9I3YtErqwiENjAAbWC06DYw0wbQz36VpIwaFh+JNmWlE82flWsz78kJ23nKc1oyNw2TnVHM3tSI3QX8qRXB/KnFzspj7jJnYWgHFbKbCSxq2nLOIJevsNs186tMsJuhEcsU2kAm9zYw0wbQX+KyqjANicZLnGsxrc1pSUZpuNQnPa8xx3GW8EDydUJzPcNWocmrqPLY3d0VeGdFpjzP45fsgGJCG7goUQ0XGsBSQaJlB6cl0dBhSGI8HjuOw9/maJpmcR47X3D0BEFJxJo5Aosqm2q1enh4KPxJxllQVXXNmt01gDYwDVENVwEbwMuXL+cdwlpBoi3Hmp2WbG1tZVHs7A6D7/s4QkcLjNQs+bF3K63dbvtTqz0spyhazaaY9yEt33g8XvLTV+KYbnySNbtoxLKGNjAxUW1ggnKybgMvLi4yKrm0kGhLsGanJefn5wJLYzDCAAAAAAKgwwCQu4zSEB0GAAAAEABTkgByt9QpSQAAAAAL2djYwCADQI6ePn2a0W3x6DBAGWmaRjeQBR5QAgBQBhm1gZqmCZkIDlA2olJyPB5PP7tDCHQYoHQqlUqz2fR933XdsGdPAgCsq+zawGvXrqHDALAogSn59OnTN954Q2BsDDoMkMp4PKY+8Qqddvd6vWq1KkmSoii6rne73enXeJ5H29XpdJYdHwCsDrSBvBs3bvzpT38SFScAbxVzLSaBKfn3v//9W9/6VhZBXsqiUCiPVbyYdOXKFfZ/RVGOj4+nX6MoSnGWNgeAwkIbGCj57OwsVXAAIVYx12ISlZKTyWRzc3NjY0NwfJIkYYQBAAAARPne97735MmTvKMAKKPPPvtM1/WMCkeHAUrN87z9/f28owAAyIfwNvDWrVuffvqpwAIBSiVNSjqO8/3vf19sPAymJEF52bbtOI7runkHAgCQgyzawI2NjWvXrj158uT69esCiwUogzQp+dlnn7399tvCQ2JkTNSGUpFlmf8R+z8AlMoS2sDJZHL37l26iRMAoolKyd/+9re3bt0SEdFs6DAAAAAAAEAo3MMAAAAAAACh0GEAAAAAAIBQ6DAAAAAAAEAodBgAAAAAACAUOgwAAAAAABAKHQYAAAAAAAiFDgMAAAAAAIRChwEAAAAAAEKhwwAAAAAAAKHQYQAASMiyLMMw8o4CAP4HKQmQEXQYAAAK6i9/+ct4PM47CoASOT8/v3//ft5RABQOOgwAAAX16aefapqWdxQAJbK5ufnXv/714uIi70AAikX2fT/vGAAAVowsy9O/bLVa9Xpd1Ec8ePDgxYsX77zzjqgCAdaYwJQcj8eDweDHP/6xiLgA1sSlvAMAAFg9dKnFsizP8waDQRYf8fvf//5Xv/pVFiUDrB+BKalp2hdffDGZTC5dwjkSwP9gShIAZEjTNFmWZVnu9/t5x5IDz/PklxZ649nZ2de//vWMooIyQ0rGScm33nrrwYMHywoKYAWgwwAAGdI0zfd93/er1WreseRAURTafNM0F3rj/fv3sdgLZAEpGScl33nnnT/84Q9Liwqg+NBhAAAonD//+c/f+c538o4CoKQ2NzfPz8/zjgKgQEraYWBjsqPRKO9YAACCJpNJ3iEAlNpkMkEaAjBl7DDYtn379m3f94fDYaVSyTscAFhV29vbjuPgugNAQQhMye3tbTwFBYApY4ehXq/TOmuvv/56grf3+33LstgYhed5ogMEgNVQr9dN06xUKtQa2LYtpNjnz59vbW0JKQqgVASmpKqq6DAAMGXsMDCPHz/WdT3BGzudTrfbpbum7t69KzwwAFgV7Xbbf0nUQxguLi6+9rWvCSkKoGwEpuTZ2ZmoqABWXXk7DJ7n1Wq1drud4L26ru/s7EiS1G63BT6nCUCSJLbkn/BH/Pb7fVmWLcsSWywj8BJ7yT179izvEOD/kJLlhIcwAPCSdBgsy0o2QZCm8Sxn7efoFQk9z1NVdTgcKoqyhGDiC6vb4lRdMvzS13MXpB+NRvyLc5z0Zds2H8lylrlMtgpnHKenp8LLTGah/UEgy7LYhxb5xoPJZLK5uZn47cKbC6Tk2qekxK0FkkXXKEyRU/LKlStZL5RU5M0HCFi4w0CHCrq+Hh+18s1mc9GPS+zg4CDseMl6C4tuRdZm1m2hqi4ZVuF03FVVNeJoZNt2pVLp9XpsTDm7y28xsUgcx1nppfHr9brv+8lG1QRaaH8QyDCM4+Nj+tBWq1WpVIp8hE52D0MWzQVSMjsFSUkyHo9ZxWqatoSsLH5KZjolqfibD8BbuMNwdHT0/vvvL/SWfr9/cnLi+/6VK1cW/bjEqtVqt9ud+aejoyNJkoTfp5jedN0WreqSoQflsI5Qs9l0XXdmyzgajRqNRq/X458oNBgMBAaTRqvVchwn7yhWXvz9QaDRaOQ4zvHxMf1Yr9dVVb1z506mH5pYsilJWTQXSMlyOjg4cF0306Gk1UpJ4Uq++bCKFusweJ7ned6i03iq1WpGBxh+OG/61H9vb2/mWQh/R1TETVFhhcfZHE3TbNvmx/Hntrwz6zajqpsbXljVCRFxNnPnzh1VVSOePxqYGsF+bxiGbds0pG7bNn13dOmRZr/QXGHaUvoPP4rCf9cLXT3l3xjY/QKh8gEHXmwYRvyrpPyUjMC7aKPYlvL1w/8yEGdgdtD0/sC/dzpOvgZibkLA3LNbwzDCgo/v0aNHqqqy/BqNRq7rdjqdZKVlLdnq71k0F0jJudYvJZmwY30JU1K4km8+rKLFOgyPHz8+ODjIJpKviHOEMAzD8zx23j/9gps3bybur88tfK5Go3FwcEBv13V97haJqtuYB9fo8BaqukXnJzx69EgKWdP2+Ph4f38/7I2j0ajZbLIvRdd1/mDZaDSazWar1Wo0GpIkDYdDx3HYUbZWq9HsF5oMY5omG0WxLGt3d5fKpCZ75owsz/MajQY/j9myLLaTuK7baDTYsXM0GvGzOHRdV1U12Y7Eo/L5+RiBo3WtVqP1u2hj2VdTrVbD9mS63s+oqtrr9dhhrN/vU9WR8XjM13n6NJEi9wf6iMPDQyp/OBw2Go1kXdmTkxM2xaLf79O3I72cB1hac5MXKRltLVOSwm61WjP/hJQUouSbD6tosQ7Dw4cP33zzzYxCWUi/33ccJ3rqp6IoyXIvTuFz8Us47+3tzR03X3LdRoeXuOrmomO8rutzx6nYRSzWqu7s7PAXUANh89dB2cyuL7/8kv7DDn5shSu2+e12m71RURRVVR8+fMhHQmHQYZvtFZ7ndTod9qOiKK1W6+OPP6YfaUoJK5bG9+fVzXzsESJsW05OTvgX6LrOqmh/f5+Nd8dEDxjhLycfHh7SYYx0u112zickTebuD4PBgE1eov9QByMx27bpdCdNIcNwf/vb39KUXGRIyWlrlpLsvmdVVcPG3ouZkv/4xz8isvLi4iJN4dH48RbDMAIDWXNvCBSy+QBLsNiqYTPnIxmGMX02nPXef3p6yg/nFbBw/rJc4KAyU4K5XmksGp4oqqpK8eZA02ssy+IPsZZlhQ3a8rfoKYrCzkvI1atX2Z+m3xs9dk87syzL3W6XHbkfP37MNodhP9I0m36/T6/vdruBVyamaRp/ohN4kMje3h77/6LnDaPRqNPp8JnreZ7rurVarVarTb9eSJrM3R/oDuk0H8Gja7HpH8b0z3/+M+xPr7766re//e2U5c+US0vLQ0rOtE4pyVKD5lnNXBqkmCl5enr673//O+yv169f39jYSPkRYaabr/hZKWrzAZZAwHMYBoOBPyVZUayn3ul0RM3CLInlV12CT6QTiIgLe5qmRVyBo1MT13VpHwsbMV+ULMu6rvMTAGa+rNfrOY4TuFzEgmHTA+j3NMGmVqtRtYzHYyGHBKpAfgZI+jIZNiYewC+PQ0T1bOfuD3RqYppm+ikWiqI4jqMoCju6pzm7ei9cxHT/lHJpaZGS0dYsJZmwe3ALm5I/+MEPIrLy1VdfTRxnRsRuPsASLNZhyHpXZkfEue3R1atX+fMMsXfoZlp4mJR1G7/qRFn0E+k6nOu6EVtK8wTCKvz4+Ng0TbE7IX3W4eHh3FdWq1VVVdk0a7pgSRc1px0dHfFnPIFTk8AJUMwTF7q4mNECu4ZhmKYZONmlqg7MBmFSpkmc/YGqd9Fl2Wba3d0NFHVychIxO3+9xU9epGSENUvJadvb24HfICWnJZuStDabD+WxWIdhe3u7IOsE03R/ur2M7mab+bJkR7KYhYtVnLolYk8CDMNwXXfuk/Kq1aqu65VKZeYdFPzFTtu26U7KlOi6I5uDG5hdEHD79m3Hcehr2tnZ0XW9VqvNDHV7ezvirhVN09jUaqqZOKEGzhVmTlBJpt/vj8fjmfMlWq1W2C2nadIk5v4QOAUMuwpOB+bo9KGTS3Y8tm3bcZzAeU+ccsoGKRlhnVIywLIs13Wnp6oiJafxQ390gwc/+BM25Bhn8wEKZbEOw82bNxPc3sQWiaP2iwaFUz4URlEUWp+BinVdd3rYejQaUSc+i8KFm1m3WVRdHImrLqw0Oo6yZ19EbMVgMGi1WqqqsikTt2/fZn9yXZd+f3JyMhwO08emKEqv16PvWpblZrMZ8TxXOnyyC4qDwYDWWmEbxRZIoQF9+avYYY/fkL29Pf4T2YKJNNMjcI1qOByyOSR7e3vxZ4Cwa2CSJLGNpT95nler1dhnTW9Iq9ViEzlkbhnHQJrEn48Rf3/Y2dnhP304HM78CPrl3HW9xuMxu6ez0WhMT+SIWU5hZdRcICXXPiWlWQ9fnznohJQUaO7mAxSLvyB+CLtQJElqtVr8b/gBaOGFZ6E4dSuw6spJVdVAHbJlHMtmCfsSzfNOn6Giyplpoey+d+/eb37zmyzCKC2kJIOUJHNT8o9//OPPf/7zLD4aYBUtfNPz7u7u3GXCisDzPH55ipVQkLpdxaorPsdxljA0VE403z39Sl+iyknv8uXLeYew/pCS2Vm/lASAhTsM1Wr18PCw+M8WiVhGurAKUrerWHVFMx6PHcfhh/hN08zoeedlRg+1lVKvLpqgHLq1MbvZ1U+fPs2o5HJCSi7HOqXkxcXF9G3fAKW12HMYSDHXDA40Kylbq+jCs1OEul3axq43VOMStNvtlE+OE1uOKBhhyAJScgnWKSWfP3+ebwAAhSLgOQwAACAQOgwAAFAo6DAAABTL1tbWv/71r7yjACi18/Nz3OUCwKDDAACQHFsY0bIsUWVubm6en5+LKg2gVESlpOu66DAAMOgwAAAkVKlUms2m7/uu64Y9TiuZS5eS3GAGUHICU/Ls7Oy1114TGBvASkOHAQAgoV6vR09yVRRF1/Vutyuq5MuXL2OQAWBRAlMSnXYAHjoMAJCh8XgceDjuOrly5Qr7v6Io06ucsQfodjqdhUp+++2379+/LyBEgK9CSsZJyfF4rKpqJiECrCZ0oAEgQ0VYKThHiqIkW83zxo0bH3zwwa1bt4SHBCWHlIyTkv1+n0YqAIBghAEAQADP8/b390WVdunSpY2NjRcvXogqEKBs0qTkf/7zH9zxDMDDCAMAQFq2bTuO47quwDJ/+tOffvTRR4eHhwLLBCiJNCl59+7dH/7wh8JDAlhpMh5+CQCQgCzL/I9ZtKXNZvNHP/oRlmoBiENISk4mkw8++OCXv/yloKAA1gQ6DAAABXVxcTGZTDY3N/MOBKAsJpPJxcUFkg4gAB0GAAAAAAAI9V/oYBDAVnXTJAAAAABJRU5ErkJggg==\"></div>"
      ],
      "text/plain": [
       " r                          t\n",
       "q  + GammaRegularized[a, 0, -] == 1 && \n",
       "                            b\n",
       " \n",
       "              r                             t                                 t\n",
       ">   (-1 + q) q  r == GammaRegularized[a, 0, -] (-1 + GammaRegularized[2 a, 0, -]) && \n",
       "                                            b                                 b\n",
       " \n",
       "            2  r                                        t\n",
       ">   (-1 + q)  q  r (1 + r) + 2 GammaRegularized[2 a, 0, -] \n",
       "                                                        b\n",
       " \n",
       "                                      t\n",
       ">      (-1 + GammaRegularized[3 a, 0, -]) == 0\n",
       "                                      b"
      ]
     },
     "execution_count": 9,
     "metadata": {
      "text/html": [],
      "text/plain": []
     },
     "output_type": "execute_result"
    }
   ],
   "source": [
    "Assuming[t>0, FullSimplify[((p2 /. k->0) == Limit[p, k->0])] && FullSimplify[((p2 /. k->1) == Limit[p, k->1])]&& FullSimplify[((p2 /. k->2) == Limit[p, k->2])]]"
   ]
  },
  {
   "cell_type": "code",
   "execution_count": null,
   "id": "ccf5e8e1-48fd-4b54-9148-ea910741e12c",
   "metadata": {},
   "outputs": [],
   "source": [
    "Reduce[\n",
    "    Assuming[t>0, FullSimplify[((p2 /. k->0) == Limit[p, k->0])] && FullSimplify[((p2 /. k->1) == Limit[p, k->1])]&& FullSimplify[((p2 /. k->2) == Limit[p, k->2])]],\n",
    "    {r,q}, Reals\n",
    "    ]"
   ]
  },
  {
   "cell_type": "code",
   "execution_count": null,
   "id": "50dbe50b-6a64-472d-9d79-45ad4f458d23",
   "metadata": {},
   "outputs": [],
   "source": [
    "p2/.k->0"
   ]
  },
  {
   "cell_type": "code",
   "execution_count": 63,
   "id": "9b19bf9a-a8dc-4242-9441-15d607cd4b73",
   "metadata": {},
   "outputs": [
    {
     "data": {
      "text/html": [
       "<div><img alt=\"Output\" src=\"data:image/png;base64,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\"></div>"
      ],
      "text/plain": [
       "                               1\n",
       "InverseLaplaceTransform[----------------, r, T]\n",
       "                                 z\n",
       "                        1 - ------------\n",
       "                                       a\n",
       "                            (1 + lam r)"
      ]
     },
     "execution_count": 63,
     "metadata": {
      "text/html": [],
      "text/plain": []
     },
     "output_type": "execute_result"
    }
   ],
   "source": [
    "InverseLaplaceTransform[1/((1-z*(1+r*l)^(-a))), r, T]"
   ]
  },
  {
   "cell_type": "code",
   "execution_count": 43,
   "id": "6aea0116-ad51-4ea7-bdb8-5f3f7082acb0",
   "metadata": {},
   "outputs": [
    {
     "data": {
      "text/html": [
       "<div><img alt=\"Output\" src=\"data:image/png;base64,iVBORw0KGgoAAAANSUhEUgAAAJoAAAAtCAIAAADZUuWNAAAA0XpUWHRSYXcgcHJvZmlsZSB0eXBlIGV4aWYAAHjabU/bjQMhDPyniisBbDOGctgska6DK/+G4CTaKIOwh/EDO82/33v6WZCSk1Vv6EAmrFuXQdLyxvYl94d9oI+Ilaue5Ax9UKrvAGbox1V3bC/to1GWTXT9QK4WBdFIZeslJjkiX0Zr10ZBnkB+jf71beqCiuJGa5Ld0clbIqVDlVwdd9wAJhacku1GP+HOMvjK0LEKF2T6NXsmKIVzraDrmg4tPIMvbkW7eGVkqGqRIxRGuM4/lVRa1fs0VHMAAAAJcEhZcwAADsQAAA7EAZUrDhsAAAA8dEVYdFNvZnR3YXJlAENyZWF0ZWQgd2l0aCB0aGUgV29sZnJhbSBMYW5ndWFnZSA6IHd3dy53b2xmcmFtLmNvbVyipoUAAAAhdEVYdENyZWF0aW9uIFRpbWUAMjAyNDoxMTowMyAwMTo1MjozMYI0yugAAANZSURBVHic7ZwxcqswEIalNzlGCo/RGVIRFxSGA6TAXZoUqM7YF0iDJj1tOujcKhQuEk1OYVTmGnqFJgoPcEIwFi9rfY1h8ezu+JdWQiBjpRRyQOHP1Ak4xgS+nIQQjHFRFFMnYgPIcjLGMMYPDw9TJ2IPsHIWRbHb7ZRSl5eXU+diD7ByxnHMOZ86C9uAlfM8cXKCwskJCicnKJycoHByggJDXbOVUnqe1zB6nrff7yfJxw5g5TxPXLEFhZMTFE5OUDg5QeHkBIWTExROTlBc6I/tdrvdbqdNxTGMu7u76+trfeyWEUDhii0onJygcHKCwskJCicnKGDKGUUR/kBKOXU63yOEMAlTSgf76ZDzpLsAKKVCiFMH5ZwrpfI8H8XbAKIo+tH3fd9XH5RlObgJ/iPnqXcB6Cx937cZdBJub287m2a9F2KMGWPmkjFWVTU47qecFnYBPD4+3t/f1y1Qtx7Ecfz09NS213uhUmq9Xms7pTRJEm1svxPTn085T70LQEoppZzP53XjJFsPGl3E2KMoYozpss8Yo5RijDvLJiGEMVb30y6PQRB0DiuHmM1mCKGiKA71Ttyiw79q8fr6ihDK87x96RjyPP/CZ/+gphX3iYgQqqqqESgMQ3MahqE5DcNQ55CmKUIoSRKdVcOD+uhAnue1nRiqquqfqg6EENKu2hEbhGGYpmnbbm9m+/LycnV1ZS3cIXzfr9eDIAien5/Nqed5cRzrYzMuvL+/t/3UXwpsONHM5/P+MxpThDnnnPNGDWvAGNvv96ZQ1xkoZ/1OoF21OmlX2qnQVVSz2Wzqlwgh5vjrbJfLpTler9fK1pMMKeVmsynLsvPqQDn1nUCDI5L8HtOAsizr2YA6oZRmWWaqma6rv4jlcpmm6aGmZq/YHtk1TQOqD0gD/JRlmSTJf1InfgqllBDSWWY1F9ZSmc1mQojGTad9CCGmUjHGGsV2XMZtNEKILMu+bsSfvVNKqSuYfrS9Wq0wxvWx5Ehubm7e3t4axlMENT5XqxVCyPO8+soZ57yqKv2F3W5nppSjI4RYLBYjOtQ/UX2y0rEc2HMmPQr9J+4AaN+6WMDqEvxisTiTP4SRUgZBYD+u7XeF9ND1S2ci/cF4mpew3KtfoID5vPNs+QsktMAAod6YMQAAAABJRU5ErkJggg==\"></div>"
      ],
      "text/plain": [
       "       1\n",
       "----------------\n",
       "         z\n",
       "1 - ------------\n",
       "               a\n",
       "    (1 + lam r)"
      ]
     },
     "execution_count": 43,
     "metadata": {
      "text/html": [],
      "text/plain": []
     },
     "output_type": "execute_result"
    }
   ],
   "source": [
    "FullSimplify[1/((1-z*(1+r*lam)^(-a)))]"
   ]
  },
  {
   "cell_type": "code",
   "execution_count": 108,
   "id": "f8ae5a92-12f8-452f-a559-34c6b16eef50",
   "metadata": {},
   "outputs": [
    {
     "data": {
      "text/html": [
       "<div><img alt=\"Output\" src=\"data:image/png;base64,iVBORw0KGgoAAAANSUhEUgAAAGsAAAAtCAIAAAAm3AIqAAAA0XpUWHRSYXcgcHJvZmlsZSB0eXBlIGV4aWYAAHjabU/bjQMhDPyniivB2GYM5bBZIl0HV/4NgUTZKIOwx+MHOI2/33v6mdAsyUtUNEAIb960k1RZWD5Le9gHcOxcvupJz613SuWtYWz9uOqB5bV+DBJdxOYL5Oa7YQ8yXXruKz52vfZar4M2eQLy+vrX2C0UBTmc1lUi0MhrIqVDUSmBO24ACzNOFb/RD0SwDTErrM/GCR1xrR4JRuGcK9i8bt0yT2fErWgnL9Zo3ZoeW2GG6/wDk4ta4wlyw+gAAAAJcEhZcwAADsQAAA7EAZUrDhsAAAA8dEVYdFNvZnR3YXJlAENyZWF0ZWQgd2l0aCB0aGUgV29sZnJhbSBMYW5ndWFnZSA6IHd3dy53b2xmcmFtLmNvbVyipoUAAAAhdEVYdENyZWF0aW9uIFRpbWUAMjAyNDoxMTowMyAwMTo1OTo0ORSvUxwAAAJtSURBVGiB7Zs90qowFIaTO98SLC0YyDKQgkJcAIVa0cbakQ1YUdjaWgkdLWNhIYyFa5Bsha9gLpcbFNEDAWfyNDLJJOfw5uSHJOIsy5AEwJ++Hfh6Bq0gIQRjHARB347UMVAFPc/DGG+3274dec0QFQyC4Hw+Z1k2Ho/79uU1Q1RwPp9HUdS3F00ZooLfhVQQilQQilQQilQQilQQCh7gdzFjTNM0LlHTtPv93os/9QxRwe9C9mIoUkEoUkEoUkEoUkEoUkEoUkEoP/lPGIZhGPbryhcxGo12u13+LFfUUGQvhiIVhCIVhCIVhCIVhCIVfE2SJPgvq9WKz84q5Lubvu9Xs+BQSuM4FmyUw7Ksj8tqmpamaTnlvxjs+q4FYwwhpOu6SKNVHMd5dhenHG4YY8/z8vQiJU1Tvkyhpe/7eePEcYy6CQdKKdeAAow+5K0wpJRSSvPnuhjs+q4FY4wxpqpqObEjo4QQz/PKAZWHf4FpmkmSNK9QURSEUBAE1RgUN5PcbjfHceD1PBjLH+G6ruM4RcRxpWzbPh6PDS0ul0vXdTHGh8PBsiwu96dhLXAul8t6vRZmrny2Z5qm67rlXFVVuaisQdf17PnuwYcxOJvNcIX6ItUu3CnT6bR43mw2NRIA+VDBKIqqI267nnEUbbbf7xu2mRjEjYPAACzarJgWu26zhohTUFGUt6a/rmlrSPmnIGMs7xqTyQQhtFgsMMaEkFbMIIRs275er1xi10afkSSJYRjt1PXGMhRMuQP2C+TDjkPozoJhGEP4awNjzDTNtmoTfU5CCDmdTiKXNVUwbvOt5UkTFLk/COUXQ35lHdEzQgEAAAAASUVORK5CYII=\"></div>"
      ],
      "text/plain": [
       "      1\n",
       "-------------\n",
       "           -a\n",
       "1 - (1 + r)"
      ]
     },
     "execution_count": 108,
     "metadata": {
      "text/html": [],
      "text/plain": []
     },
     "output_type": "execute_result"
    }
   ],
   "source": [
    "expr = 1/(1-(r + 1)^(-a))"
   ]
  },
  {
   "cell_type": "code",
   "execution_count": 113,
   "id": "c43fb70a-66d5-4295-8805-3ac1d254403e",
   "metadata": {},
   "outputs": [
    {
     "data": {
      "text/html": [
       "<div><img alt=\"Output\" src=\"data:image/png;base64,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\"></div>"
      ],
      "text/plain": [
       "                              1\n",
       "InverseLaplaceTransform[-------------, r, t]\n",
       "                                   -a\n",
       "                        1 - (1 + r)"
      ]
     },
     "execution_count": 113,
     "metadata": {
      "text/html": [],
      "text/plain": []
     },
     "output_type": "execute_result"
    }
   ],
   "source": [
    "InverseLaplaceTransform[expr, r, t]"
   ]
  },
  {
   "cell_type": "code",
   "execution_count": 118,
   "id": "00b3103d-f838-4d10-960a-f509a45e5a76",
   "metadata": {},
   "outputs": [
    {
     "data": {
      "text/html": [
       "<div><img alt=\"Output\" src=\"data:image/png;base64,iVBORw0KGgoAAAANSUhEUgAAAIcAAAAtCAIAAAALAu/VAAAA0HpUWHRSYXcgcHJvZmlsZSB0eXBlIGV4aWYAAHjabY9bEsMgCEX/XUWXgIAXXY5pzEx30OUXom0nneJELodHJI3n40i3MM6UtFhFA8hNmzbuLipNmz5TO++JbOXylSfeF++OyjeBsfh25Ybpuf4MIp5C4g+uRVfDGiQ8ee4z3lY991qvg5Z4G+jz9L+xijEKsqnfymSG5roml+5QmIrhwB3wwoydSe/uB8y8DRYV0qMxjIddq0eCONhjBYlPpUv20z3yrU4WOrj4YzbXMxvrvABWMFqu65CQAQAAAAlwSFlzAAAOxAAADsQBlSsOGwAAADx0RVh0U29mdHdhcmUAQ3JlYXRlZCB3aXRoIHRoZSBXb2xmcmFtIExhbmd1YWdlIDogd3d3LndvbGZyYW0uY29tXKKmhQAAACF0RVh0Q3JlYXRpb24gVGltZQAyMDI0OjExOjAzIDAyOjA0OjM3tzSl7AAAAshJREFUeJztmz3SokAQhpmtPYYBxXAMNCAAD2BAGZEYQGzBBUygvtyUSMhIKQIDIfIMMFdhA2rnYx1cWUBo3HkSqQG6u3h7fhhaVFWVwAHGj7kD4LTwIarIsowQiqJo7kDGYfGq+L6PEDqdTnMHMibLViWKouv1WlXVarWaO5YxWbYqhmEkSTJ3FOOzbFU+Fa4KRLgqEOGqQISrAhGuCkTQovfBCCEY44dGjHFRFLPEMxbLVuVT4SMYRLgqEOGqQISrAhGuCkS4KhDhqkDkZ/0Tx3Ecx/OG8p9zOBzW63V9zN8iIcJHMIhwVSDCVYEIVwUiXBWIfKYq2+0W/YYQMpnfPM+pX9u2+xuqGOrvSGEYsqeGY1lWlmXTOA3DUBCEsix7W9B1vfe9GOPerv/oK++uDq3TVlGUKZ0OwTTN1trlZp9ACPm+T0/RxrIse/v9VmWC6tCvr6/j8dhsAV6SahhGEARsu6IozdR2HKdut23bsizaV3r7/Vbl3dWhhBBCiCRJzcZ5S1JlWfZ9v5n47CSkqmqe591tiqIoCEIURc/6CmJg7U8329/vd9M0h9sZNIsyuK5rmiadRVjju93ucrl0tLbf713XRQgFQaDreus1zU6m67rneQ9DukB3Jyfgdrs9DF8QaBbEqKrquu7DBZIkdV/F1SNbx4t93y+KonWo6NlXmktPyt9vYYcvCGiaRo8dx+n+TAdCCHFdN03T1rM9VUmShF3PDQjyNTQPzudzxzyAjKZpnuc9S9Pp5pWBHYXmAV3kTJbXo2PbtizLdOXGMt28IopinufszAafcQfePM/P5/OLlKJ517qSwxj3eztlKcvS8zy28V+dNvvKM0eszda7MMYvrWVZNu6OQ5fYWnZc3sfLRwCQIZsuvZl0d3Kz2Szrz9eEEFVVp/c79Xd7WZbTNAW4RG4FoXnqGng1BUQ+8/vK0vkFhH9mLDwHxT0AAAAASUVORK5CYII=\"></div>"
      ],
      "text/plain": [
       "      1\n",
       "--------------\n",
       "        z\n",
       "1 - ----------\n",
       "             a\n",
       "    (1 + l r)"
      ]
     },
     "execution_count": 118,
     "metadata": {
      "text/html": [],
      "text/plain": []
     },
     "output_type": "execute_result"
    }
   ],
   "source": [
    "1/(1-z*ph) /. ph -> (1+r*l)^(-a)"
   ]
  },
  {
   "cell_type": "code",
   "execution_count": null,
   "id": "fa4d9087-2d38-4b17-9baa-18abe481e901",
   "metadata": {},
   "outputs": [],
   "source": []
  }
 ],
 "metadata": {
  "kernelspec": {
   "display_name": "Wolfram Language 14",
   "language": "Wolfram Language",
   "name": "wolframlanguage14"
  },
  "language_info": {
   "codemirror_mode": "mathematica",
   "file_extension": ".m",
   "mimetype": "application/vnd.wolfram.m",
   "name": "Wolfram Language",
   "pygments_lexer": "mathematica",
   "version": "12.0"
  }
 },
 "nbformat": 4,
 "nbformat_minor": 5
}
