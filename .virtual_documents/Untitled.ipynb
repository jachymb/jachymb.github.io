import numpy as np
import scipy
import matplotlib.pyplot as plt


alpha = 1#2.34456
beta = 1.3435


def f(k, x): return scipy.stats.gamma.cdf(x=x, a=k*alpha, scale=1/beta)


def n(k, T=1): return f(k,T)*(1-f(k+1, T))


a = np.array([n(k) for k in range(1, 50)])


a


plt.plot(a[:10])


np.flip(a).sum()



