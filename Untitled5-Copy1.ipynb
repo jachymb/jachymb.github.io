{
 "cells": [
  {
   "cell_type": "code",
   "execution_count": 1,
   "id": "a800d5c6-bb4c-40ca-b818-6aa3ee7b0a4f",
   "metadata": {},
   "outputs": [
    {
     "data": {
      "text/html": [
       "<div><img alt=\"Output\" src=\"data:image/png;base64,iVBORw0KGgoAAAANSUhEUgAAAPQAAAAVCAIAAAD+VVSOAAAAz3pUWHRSYXcgcHJvZmlsZSB0eXBlIGV4aWYAAHjabU/bbQQhDPyniivBL8ZQDnvHSukg5Z+9kEQb3SDs8fgFZX5/neWREKZi1Rs6QAHr1mUEabSwPFO/7IXTdo7veuG69RFS/Utgbv24647lpf0bRLKI5obgujf6HqSydB4rPna9jNbugzb5Aej36R9jUxdUsFtYE3JHD95K0HCoQtVx4glEIeMlZM/wE+7RBs8KHdmYkOn36lmgIbzyC5rXdCjHGRFlK1+KXVa1yaG0s/mdN1S6WrMA6AFWAAAACXBIWXMAAA7EAAAOxAGVKw4bAAAAPHRFWHRTb2Z0d2FyZQBDcmVhdGVkIHdpdGggdGhlIFdvbGZyYW0gTGFuZ3VhZ2UgOiB3d3cud29sZnJhbS5jb21coqaFAAAAIXRFWHRDcmVhdGlvbiBUaW1lADIwMjQ6MTE6MDUgMTQ6NDQ6Mzhwb1teAAADYUlEQVRoge1aTVLrMAxWOEeH6cScgRWwYOMeg62zZugF2CQHgBsQrtAsuiCZngJvuIjfQoMQqaO4vLaY1N+iM4l/pE+WLclp5pyDhIQp4uy3FUhIOBSScydMFsm5EyaL6Jw7+0RVVb2mqqqo9Vd02xWT4fL/RLxjDw53FBhjSGLbtkPdtNbGGOdc27YAUNc1NeEbay12U0rJErE/Qmu9Jx7OHZ2LMWa/+vOZj0YEAMqy3Kv6XxgicoyTe7FYNE2D8sqyvL6+7rrO23O1Wt3c3ADA1dUVAHx8fFDTZrNRSuV5DgC3t7fWWlno4+Mjkby7u3t9ff27XA6BUyBycOfuum61WjVNg48PDw9KqZeXl6H+aDvU7/z8nDeR7dbrtVJKEFpV1dPTEz3OZjO+JD/Gr3A5BE6FCB1vWmsaQ2+8UUBrjZEoBGVZ8mhF2YIQX+iXN6ERKQDJCnDNrbVCuIyZi3c5h4J7zETc97SkrmtBHHIJzGFkIl9+zJMVfBQE4B4NEa+1JldDVvgrr6i3tSzLbft6gX1wu45m5/FzCcy5YyZCzo39eeLuBXYbXTuZCODbnjBjTIjddxJPm2zIjjxj44YglXqBZegYa9uW08Fp/ygXt3tBGScRfI/9heLVK10OvAKRMwB4e3u7vLzksW8+n8/ncxiDc65pmizLRsu1xWKxXq/f39+FPkVRkKLL5RIzPDyNuq57fn5Go+BsOKSX/yE2m81sNqPHPM/bti2K4i9y+QGiJbJcLrE/FqYhyPMc060sy4bqXYmI8+XWvSxFBm5H4eCB72GrlycR+CQ4SimFA/lpQbsZBgKl95wLPPxi4+J+ehUYGxFgJ3dIbUARQ/ZDmQi4zwyVNxtjRrMiF5Y/bcc7ujftobcY3FLcjjTnUOK07QrW2tEsK04ubnfnjpMIzYOF0Oh9wGhmFUIEUEvaH3VdG2N6aevQpIElrVKKdEWLeLn1tjXaERWlqpxL985jrd3WSr5JiJYLlxISSGMmwhWjlGEvEIgAV5rrKmgwtMsFbN8zesELFCxz4fP7Iq9skAzq3Ft1HIUkCSGf3yLk4p1KuAqMmQjXfDTl4IqFaDhEJHPT+j93URT39/f4zSzhxDE15764uJDL/4TTwdScOyGBEN1fXhMS9oXk3AmTxT+fO+9FCZVSqgAAAABJRU5ErkJggg==\"></div>"
      ],
      "text/plain": [
       "α > 0 && β > 0 && t > 0 && k >= 0"
      ]
     },
     "execution_count": 1,
     "metadata": {
      "text/html": [],
      "text/plain": []
     },
     "output_type": "execute_result"
    }
   ],
   "source": [
    "$Assumptions = \\[Alpha] > 0 && \\[Beta] > 0 && t > 0 && k >= 0 (* Globálně platné předpoklady o proměnných, Wolfram je použije při úpravách*)"
   ]
  },
  {
   "cell_type": "markdown",
   "id": "981ed252-8535-45b3-8bfc-dad0fa780afb",
   "metadata": {},
   "source": [
    "Funkce, která podle definice vytvoří probability generating function z probability mass function "
   ]
  },
  {
   "cell_type": "code",
   "execution_count": 6,
   "id": "fa586426-e800-4a59-83f9-f586d531ac3c",
   "metadata": {},
   "outputs": [],
   "source": [
    "DistributionQ[dist_] := StringMatchQ[ToString[Head[dist]], ___ ~~ \"Distribution\"]\n",
    "\n",
    "PGF[dist_, z_Symbol] /; DistributionQ[dist] := Module[{k}, Sum[PDF[dist,k] * z^k, {k, 0, Infinity}]]\n",
    "PGF[pmf_, k_Symbol, z_Symbol] := Sum[pmf * z^k, {k, 0, \\[Infinity]}]"
   ]
  },
  {
   "cell_type": "markdown",
   "id": "08b6e069-936d-40df-a3bd-6e20973c2863",
   "metadata": {},
   "source": [
    "# Zadání úlohy a diskuse\n",
    "\n",
    "Máme renewal proces, tedy i.i.d. kolekci náhodných proměnných $X_i \\ge 0$, které interpretuji jako čas čekání na následující událost. \n",
    "\n",
    "Definuji $S_k = \\sum_{i=1}^k X_i$. \n",
    "\n",
    "Zajímá mě rozdělení diskrétní náhodné proměnné $N(T) = \\max\\{k | S_k < T\\}$.\n",
    "\n",
    "Pokud $F_k$ je distribuční funkce $S_k$, z i.i.d. předpkladu snadno vyplyne, že obecně:\n",
    "$$P(N(T)=k) = F_k(T)\\cdot(1-F_{k+1}(T))$$\n",
    "\n",
    "Zde zkoumám situaci, když $X_i \\sim \\mathrm{Gamma}(\\alpha,\\beta)$. Není těžké ukázat, že zde $S_k \\sim \\mathrm{Gamma}(k\\alpha,\\beta)$. V principu teda stačí dosadit distribuční funkci $F_k(T) = \\frac{\\gamma(k \\alpha,\\beta T)}{\\Gamma(\\alpha)}$  do vzorce a máme hotovo, ale zajímalo mě identifikovat, jestli je to třeba jen reparametrizace nějakého běžného rodělení, nebo aspoň nelze zapsat nějakým elegantnějším způsobem, se vzorcem $P(N(T)=k) = \\frac{\\gamma(k(\\alpha+1),\\beta T)}{\\Gamma(\\alpha+1)} - \\frac{\\gamma(k \\alpha,\\beta T)}{\\Gamma(\\alpha)}$ nejsem příliš spokojený.\n",
    "\n",
    "Našel jsem větu, která říká, že \n",
    "\n",
    "$$ \\mathcal{L}_T \\left(PGF_{N(T)}(z)\\right)(r) = \\frac{1-\\phi(r)}{r(1-z\\phi(r))}, $$ \n",
    "\n",
    "kde $\\mathcal{L}$ je Laplaceova transformace a $\\phi(r) = \\mathcal{L}_t\\left( f_{X_i}(t)\\right)(r)$ v tomto případě.\n",
    "\n",
    "Zkoušel jsem to použít, ale oklikou jsem se dostal zase k tomu samému.\n"
   ]
  },
  {
   "cell_type": "code",
   "execution_count": 13,
   "id": "d022064f-6e22-4814-8873-2dc91230e270",
   "metadata": {},
   "outputs": [
    {
     "data": {
      "text/html": [
       "<div><img alt=\"Output\" src=\"data:image/png;base64,iVBORw0KGgoAAAANSUhEUgAAAF0AAAAtCAIAAABDMfBVAAAAz3pUWHRSYXcgcHJvZmlsZSB0eXBlIGV4aWYAAHjabU/bbQQhDPyniivBL8ZQDnvLSekg5Z+9kEQb3SDs8fgBLvP761UeCWEqVr2hAxSwbl1GkEYLyzP1y16o587xXS+yEzxCqn8JzK0fd92xvLR/g0gW0XwhuNpu2INUls5jxceul9HafdAmPwD9fv1jbOqCCnYLa0Lu6MFbCRoOVag6XngCUcg4hewZfsI92uBZoSMbEzL9Xj0LNIQzV9C8pkM5zogoW/lS7LKqXQ6lnc113pUhWuMIB7fPAAAACXBIWXMAAA7EAAAOxAGVKw4bAAAAPHRFWHRTb2Z0d2FyZQBDcmVhdGVkIHdpdGggdGhlIFdvbGZyYW0gTGFuZ3VhZ2UgOiB3d3cud29sZnJhbS5jb21coqaFAAAAIXRFWHRDcmVhdGlvbiBUaW1lADIwMjQ6MTE6MDUgMTQ6NDQ6MzkHaGvIAAAC7klEQVRoge2aMa+qMBTH6cv7FMaBCJ/ByTg4CKsJAyMrzAYWRxfI3VmdpIOJq2FwgMbB7wBh8mvwhr4Qni0VYivPpL/l9vbW03P/lIOev6Cua0VC8GvsBP5TBOqi6zoAAELIPTJCSETYNkJ0iaIIALDf70UEVxTldrvN53NBwTH8dYEQXq/Xuq6n0yn34JiqqmazmaDgf6mFkee5oihJkvAKmCRJO/MwDHlFJvmaugshzLKsruuiKLAieFLUfuIk53heiqIwDAOPkyTJ8xyPm0nujHxeTNMEBOSy0+m02+3wOMuyxWIhOrGRdblcLuS1IpdVVTWZTMh5cdX3O+qLqqqPx+NpEkK4XC4F7fgduliWhd8NIYSwFrgM27YtakvuFasoCnIXTdPeDIureIPrulyy7ULg80gEouVo+I77qKEsy89sBGrZZ6DxZeflY0hd6Ehd6Ehd6Ehd6PzGP87n8/l8HjeV0dlsNpvNBo/lc5qOvI/oSF3oSF3oSF3oSF3oSF3o8NHF8zyE0NOkOB+2P12OrWma7Bdy0AX3RNo9etE+bH+6HFvHcdgXjIMuPz8/2+22+fUDPmx/uhxb27YPhwPjhf/oout6FEUIocbKedkfK8uyLMv23rZtXy6XAbn3g7SZyDu3AUKI18RxDACIoohcs1qtGBGez0sQBI7j4B6nYRie57HTvd/vjuOw13Ch3Xw1DCMMwy53radja1nW8XjstZ+mae3GfRiGyivDwHXdoiiof+Lu2zdZMdyFQY4tw8Z9Pi/r9boZ+75fv/pU+XQTDaWnD9veLgiCNE27FvBybL/Dh21Yr9dhGDKuBC/H9l1dhH8/p4Xnebqu+77PWMPLsX1XF1VVGVWdIwihOI5fPukGObasi9o+wJqmDTX0mprfniF3ed+HJWN2pdrTsc3znPFM4ODDfswbHcTLrNjfKeJQd5fL5bgfgqiw35GWZblarRgL+PR3dV1P0/STNfhNAHjxj8u+Nx3Zf6HzBy0QMveSQSd+AAAAAElFTkSuQmCC\"></div>"
      ],
      "text/plain": [
       "   1 - ϕ\n",
       "-----------\n",
       "r (1 - z ϕ)"
      ]
     },
     "execution_count": 13,
     "metadata": {
      "text/html": [],
      "text/plain": []
     },
     "output_type": "execute_result"
    }
   ],
   "source": [
    "theoremRHS = (1-\\[Phi])/(r*(1-z*\\[Phi]))"
   ]
  },
  {
   "cell_type": "code",
   "execution_count": null,
   "id": "7365515f-7446-4e94-9439-3bce774be0f3",
   "metadata": {},
   "outputs": [],
   "source": [
    "waitingPDF = FullSimplify[PDF[WeibullDistribution[\\[Alpha],1/\\[Beta]], t]] (* use the scale-rate parametrization *)"
   ]
  },
  {
   "cell_type": "code",
   "execution_count": 15,
   "id": "a6bd8430-67d2-43ba-8dfd-0aa5d944a3a5",
   "metadata": {},
   "outputs": [
    {
     "data": {
      "text/html": [
       "<div><img alt=\"Output\" src=\"data:image/png;base64,iVBORw0KGgoAAAANSUhEUgAAAGIAAAAVCAIAAAAy4KwgAAAAzXpUWHRSYXcgcHJvZmlsZSB0eXBlIGV4aWYAAHjabU/bjQMhDPyniivBL8ZQDpsQ6Tq48s8sTpSNMgh7PHgMlPn3+yg/C8JUrHpDByhg3bqMII02dmbqZzwByTO+6oVr6iOk+maYqR9X3bGztI9BlDfouiG4WhpykMrWeez6yH4ZrV0HJXkC9Hr619rUBRXsFtGE3NGDtxI0EqpQdTxwA6KRcReyW+QJ97DBV4eOZVyQ6dfuWaAh3NcXdG3ToRxrRLWsfCqWkeRQytP1nX8Kelp6HB9WzgAAAAlwSFlzAAAOxAAADsQBlSsOGwAAADx0RVh0U29mdHdhcmUAQ3JlYXRlZCB3aXRoIHRoZSBXb2xmcmFtIExhbmd1YWdlIDogd3d3LndvbGZyYW0uY29tXKKmhQAAACF0RVh0Q3JlYXRpb24gVGltZQAyMDI0OjExOjA1IDE0OjQ0OjQwMfVFqwAAAkNJREFUWIXtmE/uojAUx189hzEGOIMrwoKFcAAXnsDEro0rL0DjWrfu4AjKwoU0LDyDJcaLdBZ1+utogQ6gZiZ+Vk0pj+/79t9TxDmHL3X0Pi3g3+BrkxFGNjmOgxBCCFFKkyShlL5a1gfRJltvEyEkTVPOOec8z3MAcF335WI/RFmyf9hEKUW/CcNQ9luWJdv9ft/kexjj9yy6Ms2C557ntxBChBD5SJ8sVwiCQLbjOI7jmHMeRZHstG2bG8AYm8/nJiPbo9Vc0VNNWbI/q4kQstlsVCNvtxsAXK9X0YMxns1mRVHUzvB6vV4sFrXD2lOmWTKdTne7nXnA0mS108IYk15GUSRGxnGcZRkAZFlWMSGMMTWUOjlRFIkIAsaY+TxrKdOsIj5qGLAs2R+bxDYJggAADDeXlrJ1btu2GjkIAq2bD3qqMdHcyQlw33SUUs/zAGC/33PO0zRFCJmvVZXT6TQajbSPbNu+XC6i7fv+4XBo9gmBoWbLskwOimruNuV5rl5hlmVlWYYxbhCxKAr1slAZj8eyvVwuebvfSR1qruVu0/F4fKiGXNdtPwkNCMNQXNLb7VZe2NqR79RcWl5WLIpqmr0lETvo4WwyfLex5lp6Irrv+w8PMMbNLvXhcPiGwvKvNLf3rgcA5/N5MBgQQtTCdLVaNYs+mUxEmf9SzDXLk74VYnm3L2FU3lCCm2uuLjsM6QFAmqbdbmnP85Ik6TDgM4aatXuzAYi/5t9Lx3E6d78BCHWT4Kts+s/4/ntpxC/BKw6XcgLRmAAAAABJRU5ErkJggg==\"></div>"
      ],
      "text/plain": [
       "    α\n",
       "   β\n",
       "--------\n",
       "       α\n",
       "(r + β)"
      ]
     },
     "execution_count": 15,
     "metadata": {
      "text/html": [],
      "text/plain": []
     },
     "output_type": "execute_result"
    }
   ],
   "source": [
    "waitingPDFLaplace = FullSimplify@LaplaceTransform[waitingPDF, t, r]"
   ]
  },
  {
   "cell_type": "markdown",
   "id": "b3857fe9-b283-4c01-b10d-1ce07e9f7eca",
   "metadata": {},
   "source": [
    "Když dosadíme do věty, získáme:"
   ]
  },
  {
   "cell_type": "code",
   "execution_count": 20,
   "id": "a98823fa-c0c2-4459-8c0d-d6e681aa629e",
   "metadata": {},
   "outputs": [
    {
     "data": {
      "text/html": [
       "<div><img alt=\"Output\" src=\"data:image/png;base64,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\"></div>"
      ],
      "text/plain": [
       "        1\n",
       "-----------------\n",
       "                α\n",
       "    r (-1 + z) β\n",
       "r + -------------\n",
       "     α          α\n",
       "    β  - (r + β)"
      ]
     },
     "execution_count": 20,
     "metadata": {
      "text/html": [],
      "text/plain": []
     },
     "output_type": "execute_result"
    }
   ],
   "source": [
    "theoremRHSwaiting = FullSimplify[theoremRHS /. {\\[Phi] -> waitingPDFLaplace}]"
   ]
  },
  {
   "cell_type": "markdown",
   "id": "de4ec18a-a615-4c88-94ec-c015dc4184aa",
   "metadata": {},
   "source": [
    "Abychom získali $PGF_{N(T)}$, jedna možnost je zkusit na výše uvedeném udělat inverzní Laplaceovu transformaci. \n",
    "To ale u mě Wolfram neupočítá. Nezvládne totiž ani najít odpovídající rezidua."
   ]
  },
  {
   "cell_type": "code",
   "execution_count": 25,
   "id": "f4cfed65-5140-4759-9735-0870e91e93fd",
   "metadata": {},
   "outputs": [],
   "source": [
    "(* InverseLaplaceTransform[theoremRHSGamma, r, t] *)\n",
    "(* ResidueSum[theoremRHSGamma, r] *)"
   ]
  },
  {
   "cell_type": "markdown",
   "id": "6b4aa637-7e8e-49a4-9f7c-beec8e6201bc",
   "metadata": {},
   "source": [
    "Nicméně, můžeme aspoň zkusit inverzi pro konkrétní hodnoty $\\alpha$."
   ]
  },
  {
   "cell_type": "code",
   "execution_count": 31,
   "id": "f3990ce2-8281-4149-a91c-411e3f9735a7",
   "metadata": {},
   "outputs": [
    {
     "data": {
      "text/html": [
       "<div><img alt=\"Output\" src=\"data:image/png;base64,iVBORw0KGgoAAAANSUhEUgAAAEsAAAAVCAIAAACBqIQ6AAAAznpUWHRSYXcgcHJvZmlsZSB0eXBlIGV4aWYAAHjabU/bjQMhDPyniivBL8ZQDpsQ6Tq48s8sTqKNMgh7PH6Ay/z7fZSfBWEqVr2hAxSwbl1GkEYb2zP1056wI3N81QvX1EdI9Z3ATP246o7tpX0MItlE1wvB1bIhB6lsnceOj6yX0dp1UJInQK+vf41NXVDBbmFNyB09eCtBw6EKVccDNyAKGXchu4WfcI82+KrQsRoXZPq1ehZoCPe1gq5rOpTjjIhWK5+KpWU5lDK71vkHTkZaqTZ8yOsAAAAJcEhZcwAADsQAAA7EAZUrDhsAAAA8dEVYdFNvZnR3YXJlAENyZWF0ZWQgd2l0aCB0aGUgV29sZnJhbSBMYW5ndWFnZSA6IHd3dy53b2xmcmFtLmNvbVyipoUAAAAhdEVYdENyZWF0aW9uIFRpbWUAMjAyNDoxMTowNSAxNDo0NDo0MUbydT0AAAIJSURBVFiF7Vc7juowFLVHbxURSuGwBooopKAg2QIdbbKAVGzAEXVqOm8BpaAgVxSsAVsWQmzDUxhZngRMQFO8oDmVP/fjc+17CFgphT4aX32MyrIsy/Kp2Xg8fhoHY5znea+jdZCm6VObPM8xxhhjc+BeDPsAADabjTu3lJJS+naK7XbrLjQAxHGslPrxMJUTnPNWlKZp7lpmWeYOpUEp7VpyzhljLTM7qb3uDm4CmixP7pAQoj2NcxRFr1X+LRRFYQ7dNI1Z930fAByOQgiM8Xw+r6pKr/zOKxVCxHFspgCALfTp4bsAACmlXdPJZHK5XBwu+krqujZN+++93G5EUaT6STQATKdTPV4sFpTSoijM7nK5PJ1OPZMKIcIw1GNCyGw20+O+d7jb7Ry7hJDz+dwzlA1dC9OHNr00Teu6btlfr9fRaHQ31PF49DzPTKWUt5HdqWa729Bm65HSuDWgKx62tHSVhjFmG5ukjiyUUtvLuNwY6m7OskxnopQmSeI+cQuMMc75Sy5vwM3w7vqNYZIkTdPYOs4Ya9X1KYIgeMn+VSRJ8qiInPNHDLFSCgAOhwNCKAxDI1xCiPV6bTR3uPihpUbWEEJBEPTXsf8ZXwghz/OklL7v28/yM+ghzZAQoier1crec389DAW338Oqqvb7Pefc/hbRzTl0YPX3/3Do+GM4fHw+w28UkbpjspvTGgAAAABJRU5ErkJggg==\"></div>"
      ],
      "text/plain": [
       " t (-1 + z) β\n",
       "E"
      ]
     },
     "execution_count": 31,
     "metadata": {
      "text/html": [],
      "text/plain": []
     },
     "output_type": "execute_result"
    }
   ],
   "source": [
    "PGFa1 = FullSimplify[InverseLaplaceTransform[theoremRHSwaiting /. \\[Alpha] -> 1, r, t]]"
   ]
  },
  {
   "cell_type": "code",
   "execution_count": 32,
   "id": "dc5f3fa4-b42b-4996-b1c0-301ac2594c28",
   "metadata": {},
   "outputs": [
    {
     "data": {
      "text/html": [
       "<div><img alt=\"Output\" src=\"data:image/png;base64,iVBORw0KGgoAAAANSUhEUgAAAVoAAAA2CAIAAAAJcsa0AAAAzXpUWHRSYXcgcHJvZmlsZSB0eXBlIGV4aWYAAHjabU9bjgMhDPvnFHsE8sCB4zAdKvUGe/xNhlSrqWpE4jhOEGX9vp7lJ8BUizbrGEB16NDB00mvGztTHVe80GYyuutFsAmFof03sFI/7rqln/vHosqbSLzgXDQHcpHw1mnu+kg/z97vi5K8gTeh77WKMRrI1KNyNcNw3otTT2hcm+GJB+BGwslVH54XzHwMFg6ZMRjgZXf3KhAXzviCxFWZQn6mVzFKl6IZiQ+p2Y3v/AFT4FqtmlewcgAAAAlwSFlzAAAOxAAADsQBlSsOGwAAADx0RVh0U29mdHdhcmUAQ3JlYXRlZCB3aXRoIHRoZSBXb2xmcmFtIExhbmd1YWdlIDogd3d3LndvbGZyYW0uY29tXKKmhQAAACF0RVh0Q3JlYXRpb24gVGltZQAyMDI0OjExOjA1IDE0OjQ0OjQxRvJ1PQAACmZJREFUeJztnU9o014cwF9/eCgq6GGHMsocScGBBwfKVlxaxoS2B8EJO6xDoTeXnLUVnLfCSHcoHmzxtHlqhYG7yLYKc6y1YhmswsCONmEr4jpEcCg4odLf4c2YtVmaNP2TLd/PaSbfl/ft+8Zvvu/7vi8xVSoVBAAAgNCZTivQNLa3t+UFurq6zp8/3xZddES5XP78+bO8jMViMZvN7dHH4CgxRwdv1FPiDkql0pMnT27evCkjQ1GUzWZrm0pKsNlsHMchhJLJJEVRrehifX399evXJEnKyHg8HovF0sDFTSYT/uN0xJjtMcfLly+vXr0qI6PlRtVqkYpmWJZlWVZGgKZp3Je8mEAsFovFYqp0iMVi79+/V9VED7jd7lZ3MTMz8+PHj5Z2QdN0S6/fNtpgjunp6d3d3Vb3ImkRjuPqWuq/xpyQclKplNPpxJ0pbFIsFsfHx1X18vHjx+vXr6vX7vTz8+dPA06RdMu3b98aC8S0QxBEXRlN7oDneZPJFAgEAoGAyWQymUypVKpKJp1O4//bPM/Xnd5jsZ6eHrWalMvlM2dOycSniZTL5T9//nRaC0AvTExMxONxGQFN7oAgiMrRyYLkjAt7DZfLFYlE6l5zfn5+YGBAlRrfv38/d+6cqiathmEYPeQp1tfXr1271mktmkwqlTKZTB6PR3kTnZgjm81euXKlgwpQFLW2tiYjoMIdYDMIhEIhhQ2x10gkEkpMuLKyoiSqEbO6ujo8PKyqSRXYYQlouVSzYBhG1R0vifaRQUftrl0lJdhsNqHH2nizbma+FRjEHCrcAUVR4qyD3++v24Tn+Rs3buC/CYIYGRmpK6/WFyCEPnz4YLfb1bYSiMfjJEmKk5ftuenbwP7+/sWLFzVeJBgMCiPj8/nko03tmEwmm80m9BgMBnmeFwuMj49XKpWlpaWWqtEKdnZ2ent7NV5EozmcTmethxVoTipxZWVF8ngmk+nu7hb+WTd3kMlknE6n2t4PDg4aXjbned7r9bIsK05ensRbrZam5FNCoZB4ime1WovFosZryoBvbnGPS0tLDTwhTivazWG1WtPp9HFnJdyB2umA3+9fXl6WDO2KxWImkxEuODExIX+pYrFotVplBHK5XNWRnz9/XrhwoVZ5mWhTzPz8PEJobGzsOIF4PC5cqnb+6fF4ZM6K4zp5NcRg+Wg0KoyqElvUjszm5qY4caB2ZDDiuRvP8z6fT0lUqJFMJiN5XDyeDMPUnuJ5XphoVAmg9ppjc3Oz9oi43KBT5qAoSu6pLI7/k8kkQoimaRw5syyrcSVWYaGBAE3THMdJnsrn8z6fb3h4+O3bt+Lji4uLb968kWzidrvrKkDTNEmSx51lWRYhJKjkdrvFI+Z2u48bH6HUQr4XmeGlaVrh4G9sbIyNjVEUlc/nxcfD4fDXr18lmygZGUGNyt8fftxAqao7qCuMK6bkfztJklXXwbcuQgjfuvifyWRS6LRt5sjn83fv3rXb7RsbG+Lj0Wi0ykDifptojkq9QZb5IUeig2AwiMcRR85+v1/LXLFqyqewyXGRYS6Xe/z48eLi4vPnz8XH3717J5k4CIVChUKhru+UVzIQCLAsK6iE4zRhQAqFgnwcW/lbauF0OjmOa2BAlFAoFKLR6OzsLHZeAnt7e11dXbXyCkcG/a0ZQQgtLS1VKpVEImFqfZ61UCiwLCs8ilUNWiwWw7cuXuGqiorbY47Nzc3p6elXr15VmWNra0tydUNX5vjnDlKp1MjISDqdFof0AwMD8isTMhAE0cTA8tatWzabzWw2Dw4Orq6uCscly2x4ng8EAolEQkuPOHgTUqEIIYIgSJIUZmvBYDAajUpOExBC8nXBTWRsbKyrqwvrUCgU5IVVjUw6nRbP3QiCSCaTtUF40/H7/ZVKBdcLkySp/IEkM9NsmzlGR0etVqvFYrFYLNlsVl5Yb+aQyB04HA5hPqOwWKCdTE5OPnv2DP99XMmdy+USP9VlGBkZwbddA+AUdzKZ5DjuOKfQTnAsg//OZrOShfHKRwYhtLKyUlVIQlFUYw9VIcmCHShGvglenyZJcm5uroEeO47YHLlc7vLly7UynTLHcfxzB93d3dvb2z09PeIlt7pPm/ZjNpuHhoYWFhYQQqlUamhoqEoA15woDEzww1/y+YPXRMSr3DzPcxxXVTSJ1185juM4rtWLcPKIAwTJJW5VIyNJYyvB6G98WzWtVdKw4062YcQBgq7MIdPkv1qhqakpsYTyHKx2FP62yclJnEFYX1+v8pepVCoajSpfKaQoiqZpr9cr/p+M6w4IgsCnBAfscrlIkpTcT/HlyxckG6yqpbe3d3l5We3gC0+kvb29qtp4tSPD83xtnQjDMA8ePFClkioYhhH/5Hg8vry87PP5WtejQjSaY2dnp6+vT3yqg+aQCSiOTBYikcja2hoOfQVkVimbTm9vr5Lgx2w2u93uhYWF/f39qsmCw+FAR1dx6k6uIpFILBbzer1CE8FIkUiEZVmSJIWpkzhcEvficDiauyvW7/fTNC1M3BQu+goBQrlcrjqldmQymUxPT08oFBI3mZqaamkVQCQSCQaDQnder5fjOMH/MgyDj3McJ0w6WpQRrKIxcwgBwokxR/3FjTaifGvzr1+/PB7Po0ePWq1SS2nFjtp8Pm+322dnZzVeR2bRt1ZSY186oRXm2N3dHR4eDofDGq+j3BwVWYtwHCezqNnyDc6qGBgYUFhlhQOEwcHBVqt04rDZbH19fdpr4xOJBJQDasdisfT39+vHHDjKOO6svjYFEwShZBM0ZnJy8uDgoJXqnFSmp6e1b6rXYRb5hBIIBPRjjrW1NZl0g77cgSrMZjO84U+STr1gA5BEb+ZQtLKgE+q+oQEAgMbgeV5+S6Xu3AFFUS3dMwcAhmV+fl5mtx7SoTvAGCRAKBQKeMWoncUdTUQoNOy0Is3hpJsDyVqE5/m67xYyVU7FK7EBANCOTqMDAADaD7gDAAAOOVxo/PTpU+3rdAAAOPWcPXsWv08FQXQAAIAApBIBADgEogMAAA4BdwAAwCHgDgAAOOQEb2ECmsi9e/fkv9Fy+/bt0dHRtukDdARIJQIol8tls1nJl74BhgImC0BzPiUKnALAHQCoVCrpbU8+0BHAHQDo9+/fnVYB0AXgDozOcV8EAQwIuAOjA4kDQADcgdHZ2dmRf2EWYBzAHQD/MNVwct8LBDQAuAOjkMvl7ty5UyqVqg6KEwfiL3C43W6WZZv4XSlA/4A7MATxePzp06f3798XvimMWV1dtdvttfKhUKhQKGj5mihwEoGqRGPh9XrD4bBQZfDw4cOZmZkqGZ7nSZLkOA6+wmQ0IDowFsI3hTGS+xRcLhfLsuALDAi4A2PR399fKpVwBmF7e/vSpUtVAgzD2Gw2mCYYE5gsGI5sNvvixYtwODw3N2e32/v6+oRTqVTK4XDALWFYIDowHEKAsLW1JfYFCCGHw4GOLjcyDNMhNYEOAO87MCJVGQQBiAsMDkQHRgQHCLWJA8DgQO7AoGSzWYRQf39/pxUBdAS4AwAADvkf8p8I+vkk0TgAAAAASUVORK5CYII=\"></div>"
      ],
      "text/plain": [
       "Sqrt[z] Cosh[t Sqrt[z] β] + Sinh[t Sqrt[z] β]\n",
       "---------------------------------------------\n",
       "                 t β\n",
       "                E    Sqrt[z]"
      ]
     },
     "execution_count": 32,
     "metadata": {
      "text/html": [],
      "text/plain": []
     },
     "output_type": "execute_result"
    }
   ],
   "source": [
    "PGFa2 = FullSimplify[InverseLaplaceTransform[theoremRHSwaiting /. \\[Alpha] -> 2, r, t]]"
   ]
  },
  {
   "cell_type": "code",
   "execution_count": 33,
   "id": "2082928d-d0ce-4020-a337-ba865ad0a3c0",
   "metadata": {},
   "outputs": [
    {
     "data": {
      "text/html": [
       "<div><img alt=\"Output\" src=\"data:image/png;base64,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\"></div>"
      ],
      "text/plain": [
       "               1/3\n",
       "  I Sqrt[3] t z    β        1/3                               1/3\n",
       "(E                   (-1 + z   ) (-3 I + Sqrt[3] + 2 Sqrt[3] z   ) + \n",
       " \n",
       "             1/3                              1/3\n",
       ">     (-1 + z   ) (3 I + Sqrt[3] + 2 Sqrt[3] z   ) + \n",
       " \n",
       "                                     1/3\n",
       "                 ((3 + I Sqrt[3]) t z    β)/2       1/3    2/3\n",
       ">     2 Sqrt[3] E                             (1 + z    + z   )) / \n",
       " \n",
       "                                         1/3\n",
       "                (t (2 + (1 + I Sqrt[3]) z   ) β)/2  2/3\n",
       ">   (6 Sqrt[3] E                                   z   )"
      ]
     },
     "execution_count": 33,
     "metadata": {
      "text/html": [],
      "text/plain": []
     },
     "output_type": "execute_result"
    }
   ],
   "source": [
    "PGFa3 = FullSimplify[InverseLaplaceTransform[theoremRHSwaiting /. \\[Alpha] -> 3, r, t] /. x_Root :> ToRadicals[x]]"
   ]
  },
  {
   "cell_type": "markdown",
   "id": "f5f28e16-0d1f-47a6-a02f-d47312f13dbf",
   "metadata": {},
   "source": [
    "Na první pohled není zcela zřejmý obecný vzorec, obzvlášť pokud bychom chtěli volit $\\alpha \\notin \\mathbb{N}$, což se mi nepodařilo takto upočítat.  Nejspíš taky začnou problémy při $\\alpha > 4$ protože patrně se  někde vevnitř pro celočíselné $\\alpha$ objeví polynom stupně $\\alpha$. Paradoxně `FullSimplify` skryje určitou pravidelnost ve vzorci, ale výstup bez toho byl moc dlouhý a hlavně poškozuje srozumitelnost následujících výpočtů. \n",
    "\n",
    "Pohled na mocninnou řadu odhalí podobnou strukturu PMF:\r\n"
   ]
  },
  {
   "cell_type": "code",
   "execution_count": 38,
   "id": "da492b39-beda-43f7-af2f-deab460d2d2d",
   "metadata": {},
   "outputs": [
    {
     "data": {
      "text/html": [
       "<div><img alt=\"Output\" src=\"data:image/png;base64,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\"></div>"
      ],
      "text/plain": [
       "                 2  2    3  3     4  4     5  5\n",
       "  -(t β)  t β   t  β    t  β     t  β     t  β\n",
       "{E      , ----, ------, ------, -------, --------}\n",
       "           t β     t β     t β      t β       t β\n",
       "          E     2 E     6 E     24 E     120 E"
      ]
     },
     "execution_count": 38,
     "metadata": {
      "text/html": [],
      "text/plain": []
     },
     "output_type": "execute_result"
    }
   ],
   "source": [
    "CoefficientList[Series[PGFa1, {z, 0, 5}], z]"
   ]
  },
  {
   "cell_type": "markdown",
   "id": "0d07a0a3-98bc-4f97-bcf6-9d72ae180e84",
   "metadata": {},
   "source": [
    "Pro $\\alpha=1$ by se rozdělení mělo redukovat na Poissonovo, což pro zajímavost můžeme porovnat takto:"
   ]
  },
  {
   "cell_type": "code",
   "execution_count": 43,
   "id": "da790c91-4b0c-405c-97ea-94d652766c30",
   "metadata": {},
   "outputs": [
    {
     "data": {
      "text/html": [
       "<div><img alt=\"Output\" src=\"data:image/png;base64,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\"></div>"
      ],
      "text/plain": [
       "                 2  2    3  3     4  4     5  5\n",
       "  -(t β)  t β   t  β    t  β     t  β     t  β\n",
       "{E      , ----, ------, ------, -------, --------}\n",
       "           t β     t β     t β      t β       t β\n",
       "          E     2 E     6 E     24 E     120 E"
      ]
     },
     "execution_count": 43,
     "metadata": {
      "text/html": [],
      "text/plain": []
     },
     "output_type": "execute_result"
    }
   ],
   "source": [
    "CoefficientList[Series[PGF[PoissonDistribution[\\[Beta]*t],z], {z, 0, 5}], z]"
   ]
  },
  {
   "cell_type": "markdown",
   "id": "3f9341c6-d934-46ea-8e32-1d03725a28f3",
   "metadata": {},
   "source": [
    "Dále pro vyšší $\\alpha$ máme:"
   ]
  },
  {
   "cell_type": "code",
   "execution_count": 48,
   "id": "a34e9956-f5bb-4a9e-a041-875e49a1a4e4",
   "metadata": {},
   "outputs": [
    {
     "data": {
      "text/html": [
       "<div><img alt=\"Output\" src=\"data:image/png;base64,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\"></div>"
      ],
      "text/plain": [
       "                            4  4    5  5   6  6    7  7   8  8    9  9\n",
       "                           t  β    t  β   t  β    t  β   t  β    t  β\n",
       "           2  2            ----- + -----  ----- + -----  ----- + ------\n",
       " 1 + t β  t  β  (3 + t β)   24      120    720    5040   40320   362880\n",
       "{-------, ---------------, -------------, -------------, --------------, \n",
       "   t β           t β            t β            t β             t β\n",
       "  E           6 E              E              E               E\n",
       " \n",
       "     10  10    11  11\n",
       "    t   β     t   β\n",
       "    ------- + --------\n",
       "    3628800   39916800\n",
       ">   ------------------}\n",
       "            t β\n",
       "           E"
      ]
     },
     "execution_count": 48,
     "metadata": {
      "text/html": [],
      "text/plain": []
     },
     "output_type": "execute_result"
    }
   ],
   "source": [
    "CoefficientList[Series[PGFa2, {z, 0, 5}], z]"
   ]
  },
  {
   "cell_type": "code",
   "execution_count": 49,
   "id": "ca3dd14c-a761-4dc4-a90e-0aec8e06f7b2",
   "metadata": {},
   "outputs": [
    {
     "data": {
      "text/html": [
       "<div><img alt=\"Output\" src=\"data:image/png;base64,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\"></div>"
      ],
      "text/plain": [
       "                   2  2    3  3      4  4      5  5\n",
       "  -(t β)   t β    t  β    t  β      t  β      t  β\n",
       "{E       + ---- + ------, ------ + ------- + --------, \n",
       "            t β      t β     t β       t β        t β\n",
       "           E      2 E     6 E      24 E      120 E\n",
       " \n",
       "      6  6        7  7        8  8         9  9         10  10          11  11\n",
       "     t  β        t  β        t  β         t  β         t   β           t   β\n",
       ">   -------- + --------- + ----------, ----------- + ------------ + -------------, \n",
       "         t β         t β          t β          t β            t β             t β\n",
       "    720 E      5040 E      40320 E     362880 E      3628800 E      39916800 E\n",
       " \n",
       "        12  12            13  13            14  14\n",
       "       t   β             t   β             t   β\n",
       ">   -------------- + --------------- + ----------------, \n",
       "               t β               t β                t β\n",
       "    479001600 E      6227020800 E      87178291200 E\n",
       " \n",
       "          15  15                16  16                17  17\n",
       "         t   β                 t   β                 t   β\n",
       ">   ------------------ + ------------------- + --------------------}\n",
       "                   t β                   t β                    t β\n",
       "    1307674368000 E      20922789888000 E      355687428096000 E"
      ]
     },
     "execution_count": 49,
     "metadata": {
      "text/html": [],
      "text/plain": []
     },
     "output_type": "execute_result"
    }
   ],
   "source": [
    "CoefficientList[Series[PGFa3, {z, 0, 5}], z]"
   ]
  },
  {
   "cell_type": "markdown",
   "id": "5d0bb8d1-b6fc-44a1-963c-27be5311bf97",
   "metadata": {},
   "source": [
    "Hodnotu $n$-tého koeficientu v řadě se nabízí zobecnit do následujícího vzorce:"
   ]
  },
  {
   "cell_type": "code",
   "execution_count": 54,
   "id": "323c081f-6d30-4a05-a102-20d169d28d7a",
   "metadata": {},
   "outputs": [
    {
     "data": {
      "text/html": [
       "<div><img alt=\"Output\" src=\"data:image/png;base64,iVBORw0KGgoAAAANSUhEUgAAAJsAAAA4CAIAAABlix2bAAAAz3pUWHRSYXcgcHJvZmlsZSB0eXBlIGV4aWYAAHjabU/bkQMhDPuniivBL2Qoh03IzHVw5Z9ZnGQ2E+1gy7LlhTL/fh/lZ0GYilVv6AAFrFuXEaTRxs5M/Ywn+pE9vupF08QjpPpuYKZ+XHXHztI+FpFsousPwdXSkItUts5j10fOy2jtuijJE6DX1b/Wpi6oYLeIJuSOHryVoJFQharjgRsQg4y7kN0iT7iHDb4mdCzjgky/Ts8CDeG+nqDrmA7l+EZUy8qnYhmrHErZXc/5B1zKWrd6HqssAAAACXBIWXMAAA7EAAAOxAGVKw4bAAAAPHRFWHRTb2Z0d2FyZQBDcmVhdGVkIHdpdGggdGhlIFdvbGZyYW0gTGFuZ3VhZ2UgOiB3d3cud29sZnJhbS5jb21coqaFAAAAIXRFWHRDcmVhdGlvbiBUaW1lADIwMjQ6MTE6MDUgMTQ6NDQ6NDVBn7EkAAAG+0lEQVR4nO2cv2+jPhTAzen+hLulqiqEM3e8oSIZuoQ/IEPbiakSnk9k6ZgF1BmkTp0Cw60nJRkYAHXIeHNsoep0+/0FfAff1+L44QAJMcnlMxEwD8Ozn5+f/SKlaQrOnBAfRFfgzJ45a/TUOBqN2rYtSRJCSHRF+s5xaBQhlCSJZVmiK9IM27YP3wRFanQwGEiSJElSHMe+78dxXFXScRzHcQ5Zt+NFmEZt216tVmmapmn69vYGAFBVVVRluiaOY0mSbNvOna9q04QQ3/dzJRFCVEipKIbIPqooCju+vLykB/TlGZyqHwuEkOFwiDE2TTN7vlGbxhjLsmwYRhAEnucFQVBVshfj6MvLC3sZVVXTDLmv0BqEUKlVzzYgTdM4t3Ouci65rgshxBhnmy+jtE1XMZlMAAC6rvOLCdNokiT0ACH0+PhICOnuWVR4aQ+YzWas9ei6nrN1NeHcaBgGhPDXr198CaxN0xYGIby/v29nooRpVJZl2jNGo9HNzQ2EkOMZ0cFjOp26ritJUtPv/vz8/PXr11KxWYfr8vLy/f29kWTK3d3d6+tr1dXNZjMcDotvV9qmqYnCGHue185ECdOoaZq0Z9zd3dHX4IwirDC7pf6DCCGEkFKjFwQBO08I0XW9+AVps3Ndd7lcckb329tbTovEGA+Hw9xMplGbbkB66nieR9t7EcMw0jQdj8cAAAghR4hhGOPxmFMAY0ylCacXnlGnhGH45cuX4vk4jkejEQBgsVikabparSRJav0URVE6dQXqc/oarTK5b29vWfdSUZQoik4gyiheo1JD9tUVgiDIjdyqqvakn+3CThqlUYwqJ9u27TrOd6MRyLKsrTOBHKUdtJSq3nxctNcoHYfoh96lBoqiyLJc0827urpqKr9UOCHk9vY2dxIhVDrJoUKWyyW/kn1pDa19Ksuy6EGxk2GMc0+Joogvje9JMjzP2yoqB8aYVTUrx/O83GIOX7JhGKxkUWAURVUe9YHZSaNUc1V+v2VZxTevoqbtbaHR9P9ZSu4MxripHA41W+QB2G51OaFzRVHSNF2tVpzAZk2o7d0aDKLhiKbCR6NRTvJqtdqjkSy14cJo1xAwxtm+UtoXG/VRSnctnYbLOxLe+jN2QUvPaL1eX1xcsJ8sRJmDs+hTiuM4u3f3UjabTXeeS9qn/ZQtNfr+/r5er5kpfnh4KJYxTZPFQmu6soqitF4AOfOHbIdlJ7day6bmtBH98TKOkT99lLo/hmFQFxxwV3G7DqwsFouObO+/gMT09/T0NJ/P2XohNX2N1q32SNOn//79u2ks6ZT4/Pnzp0+f6LGUpmkcx3Sfy83NDZsbEEKen58F7sBDCD08PNScq/z48eP79+9dV6m3qKo6HA7p8cfsBXYWAAAh3Gw2B63X3xBC6k89r6+vr6+vO63PsfABAHBxcZEkydXVVTaOJVadmqYtFguBFThePoBMiPnp6Sl7bT+bJJqDEMrV5Ex9/vi6juOEYYgxzgb86OB6YHzfl2X5hHdjd80fX7cnCHfHToB+afQ8fO6O+F0pDIRQ173zNNIu+PRFo77vj0ajOsF0mvRTR2ZVZkRv2UukrBcaJYSEYbjf+BQnM6K31F+l4Cx+9EKjXdjbqsyIPsPPtsiRXc3MIl6jXaiTkxnB8H2fTtKqCmiaxiZy7EzrKmmaZts2TRilud+l2XD8bAsGhLDqkmCN1h8+G7Fer/lZebZt39/fs4WmInTpgkXQNE2L45i/9WTr7u3pdDqbzSzLmk6nAIAoipbLZW4hazKZzOdzvhxK1UcTqdE4jlsMnz9//txapiozgoIQmk6nURRVPdr3fV3Xs2Owoijz+XzHZFYIIXsiGxFyS0Y1sy0Gg0HVpY9VFw6ArusYY9d1m97oeR6/AMfksv7BcZrCMMyNwbIsN61kkawaFEXZZfmPY9VEalTIYoBlWUmS0DT6qu9SbBBBEFSFmjVNWy6X9Ji1zq7jNpwWJt4z6gL+wOw4zng8hhBW2bfc7bZtK4pSZe1palv6967g1jWvCcf+n6ZGt6Zd0FhjlceYvd33/SRJSrfGdUQdP7Hv89E6sLlEnTn4ZDLZunBEEwJKP41pmrqu08eFYeg4jqqq9I8RWte/JiyrlQMNZM5ms/LL3W9O2wOWZTGbBgCos5e6JxnXTdl9H6Tg/xyr+a9LLy8v1O7R/vTt27etwouZEf1nP9kWe2lZ7QAA0M43Ho89z+M0T1pPOmnJ9lc+nWZGdMFe1CF4HM396xIna8r3fRrEqS+808yILmj0dlWInI8WoX+DUzwPIXx9faXz1yRJtvoO/zL98nWr+ujj4yMdYAghrutyInxnjqOPmqY5GAxYAO+4bOmB6dc+ozO70y+re2Z3zho9Nf4D5sWWmj/MbH4AAAAASUVORK5CYII=\"></div>"
      ],
      "text/plain": [
       "         k α + m\n",
       "    (β t)\n",
       "Sum[------------, {m, 0, α - 1}]\n",
       "     (k α + m)!\n",
       "--------------------------------\n",
       "               β t\n",
       "              E"
      ]
     },
     "execution_count": 54,
     "metadata": {
      "text/html": [],
      "text/plain": []
     },
     "output_type": "execute_result"
    }
   ],
   "source": [
    "HoldForm[E^(-\\[Beta]*t)*Sum[(\\[Beta]*t)^(k*\\[Alpha]+m)/(k*\\[Alpha]+m)!, {m, 0, \\[Alpha]-1}]]"
   ]
  },
  {
   "cell_type": "markdown",
   "id": "7059c876-b249-4863-8a63-da2e112fd8e7",
   "metadata": {},
   "source": [
    "Ovšem když nepoužiju `HoldForm` Mathematica mi rovnou nabídne zobecnění pro reálné $\\alpha$."
   ]
  },
  {
   "cell_type": "code",
   "execution_count": 59,
   "id": "bd4f7fe8-08dd-4a1a-9a34-a850d4cdbe84",
   "metadata": {},
   "outputs": [
    {
     "data": {
      "text/html": [
       "<div><img alt=\"Output\" src=\"data:image/png;base64,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\"></div>"
      ],
      "text/plain": [
       "  Gamma[k α, t β]    Gamma[α + k α, t β]\n",
       "-(---------------) + -------------------\n",
       "    Gamma[k α]         Gamma[α + k α]"
      ]
     },
     "execution_count": 59,
     "metadata": {
      "text/html": [],
      "text/plain": []
     },
     "output_type": "execute_result"
    }
   ],
   "source": [
    "nthCoef = E^(-\\[Beta]*t)*Sum[(\\[Beta]*t)^(k*\\[Alpha]+m)/(k*\\[Alpha]+m)!, {m, 0, \\[Alpha]-1}]"
   ]
  },
  {
   "cell_type": "markdown",
   "id": "c0ecf46e-2ec7-4685-97a2-c5b28cdcbdfd",
   "metadata": {},
   "source": [
    "Což je pozoruhodné, ale dostal jsem se obloukem s pomocí neformálních postupů jen k tomu, co jsem zjistil z elementárního vzorce. "
   ]
  },
  {
   "cell_type": "markdown",
   "id": "49d52624-f99f-455c-9a76-df5d3b6e2a45",
   "metadata": {},
   "source": [
    "Možná stojí za povšimnutí, že hodnota $t$ není moc zajímavá, neboť se vyskytuje vždy v součinu s $\\beta$ a naopak."
   ]
  },
  {
   "cell_type": "code",
   "execution_count": 68,
   "id": "3bc9c629-0ae3-485f-be50-c9455798316e",
   "metadata": {},
   "outputs": [
    {
     "data": {
      "text/html": [
       "<div><img alt=\"Output\" src=\"data:image/png;base64,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\"></div>"
      ],
      "text/plain": [
       "  Gamma[k α, β]    Gamma[α + k α, β]\n",
       "-(-------------) + -----------------\n",
       "   Gamma[k α]       Gamma[α + k α]"
      ]
     },
     "execution_count": 68,
     "metadata": {
      "text/html": [],
      "text/plain": []
     },
     "output_type": "execute_result"
    }
   ],
   "source": [
    "nthCoef2 = E^(-\\[Beta])*Sum[(\\[Beta])^(k*\\[Alpha]+m)/(k*\\[Alpha]+m)!, {m, 0, \\[Alpha]-1}]"
   ]
  },
  {
   "cell_type": "markdown",
   "id": "a62aceea-2b3b-4d17-a97f-eac10fa44171",
   "metadata": {},
   "source": [
    "Nicméně vzorec\n",
    "\n",
    "$$p(k) = e^{-\\beta} \\sum_{m=0}^{\\alpha-1}\\frac{\\beta^{k\\alpha+m}}{(k\\alpha + m)!}$$\n",
    "\n",
    "pro celočíselné $\\alpha$ by možná mohl být pro něco zajímavý? Dalo by se to považovat za celkem elegantní v případě, že místo Gamma bychom použili jako speciální případ Erlangovo rozdělení. Ale nepodařilo se mi identifikovat jméno nějakého běžného rozdělení, které by takovou PMF mělo."
   ]
  },
  {
   "cell_type": "markdown",
   "id": "9fb08eda-3bee-4cb7-bedb-1b796daf7e7a",
   "metadata": {},
   "source": [
    "# Další úvahy\n",
    "\n",
    "Rozdělení zjevně nějakým způsobem generalizuje Poissonovo. Ale říkal jsem si, jestli by to nějakým způsobem přece jen nemohlo být příbuzné i negativně-binomickému. To má jednak Poissonovo jako limitní případ, ale hlavně vznikne jako Gamma-Poisson mixture. Myslím, ale že přímo negativně-binomické neude, protože Gamma-Poisson mixture se v případě $\\alpha=1$ redukuje na Geometrické a nikoliv Poissonovo.\n",
    "\n",
    "Můžeme se alespoň podívat na rozdělení z jiného pohledu:"
   ]
  },
  {
   "cell_type": "code",
   "execution_count": 77,
   "id": "81ab5888-4034-48d3-8f79-bf1ed8b7eaf2",
   "metadata": {},
   "outputs": [
    {
     "data": {
      "text/html": [
       "<div><img alt=\"Output\" src=\"data:image/png;base64,iVBORw0KGgoAAAANSUhEUgAAApsAAAAwCAIAAADRtCY3AAAAzXpUWHRSYXcgcHJvZmlsZSB0eXBlIGV4aWYAAHjabU9bjgMhDPvnFHuEvHDgOEyHSr3BHn/DkGo1VY1IHCcOoszf17P8LAhTseoNHaCAdesygjTa2JmpX/FCP0hSvelF08MjpPrfwEz9uOuOnaV9LMr9pOuF4GppyEUqW+ex6yPnZbR2X5TkDbwJf69NXVDBbhFNyB09eCtBI6EKVccTDyAGGaeQPSJPuIcNviZ0LOOCTL9PzwIN4Vxf0HVNh3KcEdWy8qVYRpdDKbvrO39U2FqziKBhcwAAAAlwSFlzAAAOxAAADsQBlSsOGwAAADx0RVh0U29mdHdhcmUAQ3JlYXRlZCB3aXRoIHRoZSBXb2xmcmFtIExhbmd1YWdlIDogd3d3LndvbGZyYW0uY29tXKKmhQAAACF0RVh0Q3JlYXRpb24gVGltZQAyMDI0OjExOjA1IDE0OjQ0OjQ3r5HQCAAADuRJREFUeJztnb+q40YXwEchLxBIFZaLkdQspE4RJBdbWHqAFPatnCYglWGxCFxYLhiCh61t2GpJYanIA9guXFjmFvsCaSxzWcJWgUBeQCnOl7Pz6Z8lWbIl6/wqWX9mRnPGczRnZs6RwjBkBEEQBEG0nC+uXQCCIAiCICqANDpx++z3e0ngeDxeu0RMVVUozLUL8hmxlkzTFC9drLQkqWuRIX3WmUq4AUijEzcO51zXddd1w/+wbfvahWKqqkJhrl2Qz0ynU6yi8XjseR5eOhwOYRhallVrAUhSVyRD+uxSDYA4H9LoxC2z3+8dx3Fddzgc4snVanXFIjUTzvl8PsefL168+Pjx4yULQJK6IleXPlEVpNGJW2a5XCqKIiqJCBEzL543TZNzDsZGzrlt22iNPB6PkiR5noeWYTgQhzVwP5B/oAlPcc7xTIbx2TTNSLHjxtL8bLdbWZbh+Hg8jsfjyWRSOrUStEtSmHWFIigk/Wpzv7r0icoICeJ2URTFsqy0q77vG4aBPw3DwJ+GYTDGXNedzWaMMcuyfN9njAVBEAQB/ncURWGM+b5vWRY+a1kWmo7hZtGSjOknFgkMm0EQ4HHibYZh+L4f+TmbzTIrIwuoJXhrRVEy7qmJ1kmqhAhOVmBO6ZfL/WTBsqUf1twAiEqgMTrRFXBMo6oqnNE0TbTrvnr1ar1e409xyPj69Ws4+PTpExyA/mCMGYahaRpj7HA4wJn5fI4PyrKsKMput8tZyPl8bhjGYDDwPG+xWIByiuB53ng8hkwxl+VyWXpctd/v+/0+Y2y1WoVhuNlsrrsGqvmSqlwEWJ6T0q8896ZJnzgH0uhEo8FFtpGlOiWADiuyukc0ujqOE8kaj9Emidzd3aVdYv/ZSwEcKeYvZxAEo9FoNpuJvTay2+2+++478Uyv1+v1eoVyEXl6enrx4gX+lGXZ9/0rrkprvqQqFwFyUvqV59406RMnwfmj+LcXaXSi0eBK44wZ1uzHN5tN2lXbtheLBRg5wzDEwdyZSJIkmmrB3psfnDd9fn5OuyGinLbb7ffff1+qsP97PKI8NE278M6xdkmqkAjQ5LBYLNI6YjFlOEiTftHcT9IE6ROFkGUZWmx89wFpdOKWGY/HQRDs9/vEq5vNxrKsxKFbaSCvh4eH0inAjLLv+4vFItEyESkw51yW5T///LN0jnHiOqNu2iWpQiIAk0P4//PQaSmflH7R3EtweekTVUEanbhlhsOhYRi6rieOOcRxIec8YsstxzfffMMYe3p6wiwKWd1N01QUZT6fa5o2m81Go1FcyfV6PTzped7z8/P9/X1iajAcTFOTwPF4fPXqVeSkbds4IX0Z2iWp/CIoRB7pF8r9ZANoiPSJqiCNTtw4q9VqNpspioKWz59++gkvBUEA57fbbdpCpELIsuy6ruM4kOx0Os3vl0NV1fV6/f79e/g5mUwURdF1PdIjTyaT8XgM6e92O1AAo9EobsuF1cvL5TIj0w8fPtzd3XHOxRnlh4eHy4/SWiSp/CLIT07pF8r9ZANojvSJaqhlBT1BVETa3qG2c5n3cl2XMXZySxXOT2fTzc1LrW6BJxtAfumHXW0ATSYuERqjE8TNApPE2ZuaNpsNDchulZMNgKR/Y9So0W3bFneVVPsgbGWJrxxBw1FaCmBfEh0z1Q24rLrkbhDwrhVxIAUns6dUSwO7KcqJu5scDofsNc9nAn8Qxlh4yiE5bs7OAPYQLhaLagrXKuqWVE3kbAB5pM+63QDaxRcs5l4xUVM2jbTNFWiLSHswY0+IqqpFNb3oiDGuRIFyHpJBKOX2kFS77BkAR5tpV9GbB5ETCH2R1ts+Pj4+Pj6e41t7Pp+HYZizvz5Jdmlvm8u/+/nSZ+1pABcYDIieDGoa0pQGPpUSFS4Uu2iBP4/R0aeg67qj0eiSo9gSwIaQEnuUoaFX6LVYnGaDz/mIGp5MJmEYioEQ6mY4HIZheMkoF5qmVdh9dJy///4bDv7555/rloS4PF2T/tu3b2vtOkzT3Gw20D/PZrPElYZXAazF0+k07QZQVRk3JJJgdYdtJO/evStcxs5zOBwURXn79u21C0K0mK+++urNmzdv3rz59ttvr10W4tJ0Tfq1urLZ7/fr9Rr3PcL2geytH5fB87ztdhuGoeitL5GiqxyS59FlWcatmTANzAQLc2RKGP10JloPRJN+5OMoO+pR2oOlTSjiDg2xnJhREAS4lQUTh+zEZgf3p01MDAYDnG3CoE9pM/di1aHFHnLUdZ0xhjt5RKsUzA6I9YPFE0+mzdxjpuINpmmKUwZQV+L9juPg9iHxWdEfYeKkgzgxIVaCbdumaWY0D4IgOkjRGHQZPD09KYqCSnG/3wdB0ITVAMPhsCYbarJGPx6PsJERkSRpPB6HYQjOjLDzlSRpMBiATcP3/Yi5PggCXddFiwdesm273+/DJahlUUdmPAi2iBIbUsH6HXciARbjMAwVRRG3eYBnRPC08Pvvv+P9y+XSMIw0gz/EPIDGB9bvtMknVVWx6kQjufiCuLEkYpVyHAfEEYahYRioX8V3ScxU1/XpdJpY52nAFBpsFMbS4iQC+iOMNBh8R/bf4gb4YBI/I9brNUrZsqzxeHyyMES7IPfgRFHm87llWY7jQC8KTSgMwxJr8rfbLY6FPM/TdR2285X4OMCRJPSZOD5s2vR0gkbnnK/X64hzRNd1QYeBngNHS/Ay2LlrmmZZVsRcj/rshx9+YIyhCjkZ9SjtwQsjy3LkpRaLRSW6JwiC0sEVFEVBHR+JQ5UNylGWZcMw0J1FHXieFwSBqPtns1nkAxml3O/3gyAgb9IEQeSMQZcfzvnDw0PplX2ccxx/7nY7MEbiaK1RC8m/xCNxHBx/czHUD17dbreRkVm/3xe7bHGkCF9Y4gJOKX1DSPaDF+b+/h7MEpqmeZ4nhm48h9ls5jiO4ziGYRS1wAwGAzyeTCb5F/pFgixlxMY4n91uJ5q8GGMQTAK9RhcNYYKYphn/iIk02r/++uvnn38ulz6Rk99+++38RP74449ff/31/HSIC/Py5ctffvnlnBQ8z4v7oAVWq5UkSdkx6HICCvicxXfb7Va0oZqmiV3uZDKxbbsSjZDI/f095zx/D/9Zo/u+f2bFFUKSJFGTNXkrs6ZpsJ5C07T3799nLz6Mq7E0QBN7ngfuG0vo9c6Sp6K+/vrrSvQNUQLxkws/8dNGSC9fviRJdZD9fj8ajdLG33li0J1EluXFYmFZFloKP378mLN/jqST8bNWy6KmaTDYzqnUz/IwI8ty5MMH9FnizfDaMEorFPVIfPBaTKfTxWJxPB7X63X255jojDoPMNfu+/56vb7w0rDj8Yhj/UgbPedfhPR6vciqBZisIR9VN0+haGNEN4FFP2krz/PEoDsJrGoSo85st1vRwJkfVNswESAuRk4zM1SCbduFtlufpdFfv34dBAEufoFXTRvCDgYDwzDADFAo6pH4YK2oqpoW0wm0OCydy0hBkiRFUUpsdgefMFAtABzXtxEOVktgW+/1euv1Gpop5zy+HPTu7i4IgkJ/LagHXAC/3+8dx6kqsjVBEA2k6L6VxAFunhh0eTIaDoeKoqAKj3R6+dOZz+eDwQDu3O12YRjiz+l0Gunwr7xzB5dVo4eZCLA4MMObv5iaeBs8iER8yotXXde1LAtvyH4w/gro4yXyICYOV+PGA3HxdvyeSIWAH7pIPUSWEWBeiVexwsOkJffxGhbtUWJR4es1URaJzvIw5cSSxEtrGAbUZOQGURljARI1tFh1aVVqWZb4UmnNrNVxMgiK7dE1oBvJL/f4Hxx6jHgfEumQ82ck9sPnFzhndtkJJo5g4/ooPPUPil+l2Gt5sSyLtMvloToniBaRJ9yfSOk/eNGM6k6npgSLavQv418KRBwwRGdMDRAEQRB5wv2JlF5VUzSjutOpL8FCUDTVE4DLM8dxwlIuDgiCILpA/nB/Iv1+XyoYqaVcRvWlU1OCmFohpKpehiDqwDRN2tRHEB3k8fGRMfbjjz/e3d1duywNxbbtSAwwGqMTBGOxmMIN8V6HTvhbmn4ddFNSNdHYYnctBl1VkEYnCMY5B5/PuMCkIQ7JVVWF8tSUPjjtT9wi0Uw6K6maaGwD6FoMuqogjU50Hdgojx7vATL1NxCSFEFkQxqd6DrL5TLbV3/EzIvnTdPknIPdknMOK1nAow4EmcVwuhhzVnTRkx1NOI2isSbFaLZ4JmdeTaNdksKsq63/LjcA4jTnbZYjiHq5wH70DI89YRj6vi+WwTAM/AmuJFzXBTc74LSSMRYEAW50DAX/GKJLA8uy0HQMN0fcE2EW8ZOisyM4Tiu8YRiiXw74Gd8p2xY/MK2TVM76j3BSHJ1tAESEuOBojE40msPhEB8z1QcOaHA7jaZpol03ErtWHDKid8lPnz7BATrUQzfGGAfhZDThDHLGmvQ8bzwei+6TZVleLpfX2ilbLc2XVH31Tw2g46AlKe6umzQ60Whg5U4YhvXFKxSBECORhUKi0TXi+V/cRxt3V4C7bhI9GYj24aLOi1arVRAE2bEmd7udGASZMdbr9Xq9XqGMGkvzJVVr/VMD6DKyLOOgPHKJNDrRdVRVzYgTb9s2uAuE/09VkWYkSRLttEVDxeeJNYlx6JHtdnvdGIZn0i5JFa1/tDosFov4UoB44nDQqQZAnIQ0OtF1xuNxEARpsZI2m41lWdW6CywUTTiRPLEmI2XmnMuyDFH+Wkq7JFW0/guFoO1mAyBOQhqd6DrD4dAwDF3XE1cLi+NCznlavN1CFIomHCdPrEnGWK/Xw/Oe5z0/P9/f359d9mvSLknVV/+dbQDESShSC0Gw1WrFORcNqmizXa1WaP+EpcK6rp+ZnSzLruuORiPQOq7r5l8WB0oFF0NNJpN3797puu77fmQ+dTKZoAayLAu8RUqSNBqNMgZ/DadFkqqp/jveAIhsyK87QTSXy7i1j3uHJorS6gAE1ABuBrK6EwRBEMQtQGN0gmguaDWt6X9ad/rdoaU12dJiE2mQRieIVkKxJjsONQAiDlndCaJ9UKzJjkMNgEiExugEQRAEcQv8CwyadSJ3oRPKAAAAAElFTkSuQmCC\"></div>"
      ],
      "text/plain": [
       "                          Gamma[ α, β]    Gamma[α +  α, β]\n",
       "ProbabilityDistribution[-(-------------) + -----------------, {, 0, Infinity, 1}]\n",
       "                           Gamma[ α]       Gamma[α +  α]"
      ]
     },
     "execution_count": 77,
     "metadata": {
      "text/html": [],
      "text/plain": []
     },
     "output_type": "execute_result"
    }
   ],
   "source": [
    "myDist = ProbabilityDistribution[nthCoef2, {k, 0, \\[Infinity], 1}]"
   ]
  },
  {
   "cell_type": "markdown",
   "id": "59d8f278-f07f-4c8c-b19c-7ee4c92038da",
   "metadata": {},
   "source": [
    "V CDF dojde k určitému zjednodušení. Výpočet kupodivu trvá poměrně dlouho, takže možná to není triviální? Byť na první pohled výsledek nevypadá nějak zvláštně a nápadně připomíná Gamma CDF."
   ]
  },
  {
   "cell_type": "code",
   "execution_count": 82,
   "id": "af184d7d-1df1-43dc-a4f4-08e7536ad86c",
   "metadata": {},
   "outputs": [
    {
     "data": {
      "text/html": [
       "<div><img alt=\"Output\" src=\"data:image/png;base64,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\"></div>"
      ],
      "text/plain": [
       "Gamma[α + α Floor[t], β]\n",
       "------------------------\n",
       " Gamma[α + α Floor[t]]"
      ]
     },
     "execution_count": 82,
     "metadata": {
      "text/html": [],
      "text/plain": []
     },
     "output_type": "execute_result"
    }
   ],
   "source": [
    "myDistCDF = CDF[myDist, t]"
   ]
  },
  {
   "cell_type": "code",
   "execution_count": 83,
   "id": "2499081b-8e04-4f8b-9c26-6dee15e5ed3c",
   "metadata": {},
   "outputs": [
    {
     "data": {
      "text/html": [
       "<div><img alt=\"Output\" src=\"data:image/png;base64,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\"></div>"
      ],
      "text/plain": [
       "-Graphics-"
      ]
     },
     "execution_count": 83,
     "metadata": {
      "text/html": [],
      "text/plain": []
     },
     "output_type": "execute_result"
    }
   ],
   "source": [
    "Plot[myDistCDF /. {\\[Alpha] -> 1/2, \\[Beta] -> 3/2}, {t,0,10}]"
   ]
  },
  {
   "cell_type": "markdown",
   "id": "30ba71c9-a9e6-47d6-b2d3-4eb6e2e40410",
   "metadata": {},
   "source": [
    "Kvantilovou funkci nespočítá"
   ]
  },
  {
   "cell_type": "code",
   "execution_count": 88,
   "id": "30186390-b99b-4101-90d1-ca51659b3140",
   "metadata": {},
   "outputs": [
    {
     "data": {
      "text/html": [
       "<div><img alt=\"Output\" src=\"data:image/png;base64,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\"></div>"
      ],
      "text/plain": [
       "                                   Gamma[ α, β]    Gamma[α +  α, β]\n",
       "Quantile[ProbabilityDistribution[-(-------------) + -----------------, \n",
       "                                    Gamma[ α]       Gamma[α +  α]\n",
       " \n",
       ">    {, 0, Infinity, 1}], q]"
      ]
     },
     "execution_count": 88,
     "metadata": {
      "text/html": [],
      "text/plain": []
     },
     "output_type": "execute_result"
    }
   ],
   "source": [
    "MyDistQF = Quantile[myDist, q]"
   ]
  },
  {
   "cell_type": "markdown",
   "id": "7b59feb1-aa23-40a3-b7e8-5c5bdb2161ee",
   "metadata": {},
   "source": [
    "Pro CF a MGF neselže, ale ani nedoběhne"
   ]
  },
  {
   "cell_type": "code",
   "execution_count": null,
   "id": "0de5f2f4-90ad-462f-80f0-57e1d09d04fd",
   "metadata": {},
   "outputs": [],
   "source": [
    "myDistCF = CharacteristicFunction[myDist, t] "
   ]
  },
  {
   "cell_type": "code",
   "execution_count": null,
   "id": "d0368345-9ee6-433b-bea1-497a0a46061d",
   "metadata": {},
   "outputs": [],
   "source": [
    "myDistMGF = MomentGeneratingFunction[myDist, t]"
   ]
  },
  {
   "cell_type": "markdown",
   "id": "67e65304-7f3c-40dd-b086-df8cd83a0e55",
   "metadata": {},
   "source": [
    "Vztahy mezi po sobě jdoucími pravděpodobnostmi nevypadají na první pohled moc zajímavě"
   ]
  },
  {
   "cell_type": "code",
   "execution_count": null,
   "id": "4da1eff1-fd46-4dd7-a241-3da522b588c2",
   "metadata": {},
   "outputs": [],
   "source": [
    "successiveRatio = FullSimplify[nthCoef2 / (nthCoef2 /. k->(k-1))]"
   ]
  },
  {
   "cell_type": "code",
   "execution_count": null,
   "id": "ef0622aa-79fc-4763-a677-d08abc9910f4",
   "metadata": {},
   "outputs": [],
   "source": [
    "successiveDifference = FullSimplify[nthCoef2 - (nthCoef2 /. k->(k-1))]"
   ]
  },
  {
   "cell_type": "code",
   "execution_count": null,
   "id": "2964a2b3-ed2c-4571-8f70-445385f4c4df",
   "metadata": {},
   "outputs": [],
   "source": [
    "FullSimplify[Log[nthCoef2]]"
   ]
  },
  {
   "cell_type": "code",
   "execution_count": null,
   "id": "31ff86d3-e27d-4a12-bf20-ce18c5ebbef9",
   "metadata": {},
   "outputs": [],
   "source": []
  }
 ],
 "metadata": {
  "kernelspec": {
   "display_name": "Wolfram Language 14",
   "language": "Wolfram Language",
   "name": "wolframlanguage14"
  },
  "language_info": {
   "codemirror_mode": "mathematica",
   "file_extension": ".m",
   "mimetype": "application/vnd.wolfram.m",
   "name": "Wolfram Language",
   "pygments_lexer": "mathematica",
   "version": "12.0"
  }
 },
 "nbformat": 4,
 "nbformat_minor": 5
}
