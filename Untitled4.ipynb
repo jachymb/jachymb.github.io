{
 "cells": [
  {
   "cell_type": "code",
   "execution_count": null,
   "id": "b726a3ff-3e0c-4237-bd55-62b54b251c3c",
   "metadata": {},
   "outputs": [],
   "source": [
    "$Assumptions = a > 0 && b > 0 && a2 >0 && b2 > 0 && t > 0 && k >= 0 && aNB >0 && bNB > 0 && r != 0"
   ]
  },
  {
   "cell_type": "code",
   "execution_count": null,
   "id": "2d3190e2-caba-4355-9b35-7b40dd99d8dc",
   "metadata": {},
   "outputs": [],
   "source": [
    "DistributionQ[dist_] := StringMatchQ[ToString[Head[dist]], ___ ~~ \"Distribution\"]\n",
    "\n",
    "PGF[dist_, z_Symbol] /; DistributionQ[dist] := Module[{k}, Sum[PDF[dist,k] * z^k, {k, 0, Infinity}]]\n",
    "PGF[pmf_, k_Symbol, z_Symbol] := Sum[pmf * z^k, {k, 1, Infinity}]"
   ]
  },
  {
   "cell_type": "code",
   "execution_count": null,
   "id": "9c3b0eaf-7199-40f1-9634-ee33004f41ca",
   "metadata": {},
   "outputs": [],
   "source": [
    "Z[lam_, nu_] := Sum[lam^j/(j!)^nu, {j, 0, Infinity}]"
   ]
  },
  {
   "cell_type": "code",
   "execution_count": null,
   "id": "457e2014-f55e-49dc-8f30-31c2e8e65a7e",
   "metadata": {},
   "outputs": [],
   "source": [
    "mcpPMF = lam^k/((k!)^nu * Z[lam, nu])"
   ]
  },
  {
   "cell_type": "code",
   "execution_count": null,
   "id": "86a457c8-d94f-43e5-afb7-b1f9a401f02f",
   "metadata": {},
   "outputs": [],
   "source": [
    "PGF[Exp[-mu k]*(mu*k)^(k-1)/k!, k, z]"
   ]
  },
  {
   "cell_type": "code",
   "execution_count": null,
   "id": "d09672b6-2db2-402d-ad06-2bb84e88d3ad",
   "metadata": {},
   "outputs": [],
   "source": [
    "formula = (1-ph)/(r*(1-z*ph))"
   ]
  },
  {
   "cell_type": "code",
   "execution_count": null,
   "id": "37174576-0ff6-4d0a-a6d2-6de59bae1385",
   "metadata": {},
   "outputs": [],
   "source": [
    "FullSimplify[formula]"
   ]
  },
  {
   "cell_type": "code",
   "execution_count": null,
   "id": "3f8e9493-83d8-4049-b10f-e8bffa494ffc",
   "metadata": {
    "scrolled": true
   },
   "outputs": [],
   "source": [
    "gammapdf = FullSimplify[PDF[GammaDistribution[a,1/b], t]] (* use the scale-rate parametrization *)"
   ]
  },
  {
   "cell_type": "code",
   "execution_count": null,
   "id": "1172d180-ec08-43e4-8a52-0fd6045ad123",
   "metadata": {},
   "outputs": [],
   "source": [
    "gammapdft = FullSimplify@LaplaceTransform[gammapdf, t, r]"
   ]
  },
  {
   "cell_type": "code",
   "execution_count": null,
   "id": "9d732b3e-f8fb-4d8d-b33d-49b596de6769",
   "metadata": {},
   "outputs": [],
   "source": [
    "FullSimplify[ formula /. {ph -> gammapdft} ]"
   ]
  },
  {
   "cell_type": "code",
   "execution_count": null,
   "id": "9f113b2b-5e14-4b0e-93e3-c767a93313b1",
   "metadata": {},
   "outputs": [],
   "source": [
    "formulaG = FullSimplify[ formula /. {ph -> gammapdft} ]"
   ]
  },
  {
   "cell_type": "code",
   "execution_count": null,
   "id": "387b0228-ef4c-4b7b-8708-2450dbfb72f2",
   "metadata": {},
   "outputs": [],
   "source": [
    "InputForm[formulaG]"
   ]
  },
  {
   "cell_type": "code",
   "execution_count": null,
   "id": "b347c8fa-ea43-49bc-986f-768114051e59",
   "metadata": {},
   "outputs": [],
   "source": [
    "(* invT = InverseLaplaceTransform[formulaG, r, t] *)"
   ]
  },
  {
   "cell_type": "code",
   "execution_count": null,
   "id": "f4f41686-983a-4f66-9486-105e81d8caf0",
   "metadata": {},
   "outputs": [],
   "source": [
    "nbPGF = FullSimplify@PGF[NegativeBinomialDistribution[a2,b2], z]"
   ]
  },
  {
   "cell_type": "code",
   "execution_count": null,
   "id": "b605e09f-00f7-459c-aefa-bafffd5a7310",
   "metadata": {},
   "outputs": [],
   "source": [
    "FullSimplify[nbPGF /. b2 -> b2*t/(b2*t+a2-1)] (* alternative parametrization - hypothesis for match? *)"
   ]
  },
  {
   "cell_type": "code",
   "execution_count": null,
   "id": "9e577efb-6ed1-4047-b715-1973598c4259",
   "metadata": {},
   "outputs": [],
   "source": [
    "nbPDF = FullSimplify[PDF[NegativeBinomialDistribution[a2,b2],k]]"
   ]
  },
  {
   "cell_type": "code",
   "execution_count": null,
   "id": "7369779a-2492-4002-923d-908017f17038",
   "metadata": {},
   "outputs": [],
   "source": [
    "nbPDFalt = FullSimplify[Binomial[k+a-1,a-1] * (b/(b+1))^a * (1/(b+1))^k] (* why does stan use more complex parametrization *)"
   ]
  },
  {
   "cell_type": "code",
   "execution_count": null,
   "id": "a35c981c-116b-47b2-9a4b-b8093a33ede8",
   "metadata": {},
   "outputs": [],
   "source": [
    "nbPGFalt =FullSimplify@ PGF[nbPDFalt, k, z]"
   ]
  },
  {
   "cell_type": "code",
   "execution_count": null,
   "id": "d86f9460-14a3-4ca1-bb0d-8c8cf9c9c50f",
   "metadata": {},
   "outputs": [],
   "source": [
    "Reduce[nbPDFalt == nbPDF, {a2,b2}, Reals]"
   ]
  },
  {
   "cell_type": "code",
   "execution_count": null,
   "id": "f8eb86f5-2994-41c3-b36b-8d3a2133d572",
   "metadata": {},
   "outputs": [],
   "source": [
    "nbTransPGFAlt = LaplaceTransform[nbPGFalt /. b->(b*t/b*t+a-1), t, r]"
   ]
  },
  {
   "cell_type": "code",
   "execution_count": null,
   "id": "f190ac9c-9cb8-449c-8ea8-59aef5842c3a",
   "metadata": {},
   "outputs": [],
   "source": [
    "Reduce[(nbPGFtAlt /. {a->aNB, b->bNB}) == formulaG, {a,b,r}, Reals]"
   ]
  },
  {
   "cell_type": "code",
   "execution_count": null,
   "id": "291533ef-5b9a-4ab6-ac71-343f759cf900",
   "metadata": {},
   "outputs": [],
   "source": [
    "poisPGF = FullSimplify@Sum[\n",
    "    PDF[PoissonDistribution[b*t],k] * z^k,\n",
    "    {k, 0, Infinity}\n",
    "    ]"
   ]
  },
  {
   "cell_type": "code",
   "execution_count": null,
   "id": "b528dcd0-67a0-4f19-a0e2-2141272add91",
   "metadata": {},
   "outputs": [],
   "source": [
    "poisTransPGF = LaplaceTransform[poisPGF, t, r]"
   ]
  },
  {
   "cell_type": "code",
   "execution_count": null,
   "id": "f80a6c48-4cf4-4a9d-bd4a-aa6bddac3a09",
   "metadata": {},
   "outputs": [],
   "source": [
    "FullSimplify[nbPGF /. {a2->1}]"
   ]
  },
  {
   "cell_type": "code",
   "execution_count": null,
   "id": "ba7dd680-29ca-4ac1-9e9e-8f7e28b63665",
   "metadata": {},
   "outputs": [],
   "source": [
    "ntPGFa1 = InverseLaplaceTransform[formulaG /. {a->1}, r, t]"
   ]
  },
  {
   "cell_type": "code",
   "execution_count": null,
   "id": "bc50475d-ea53-42df-8019-7a7607ed736d",
   "metadata": {},
   "outputs": [],
   "source": [
    "CoefficientList[Series[ntPGFa1, {z, 0, 10}], z]"
   ]
  },
  {
   "cell_type": "code",
   "execution_count": null,
   "id": "974aabc3-63c1-42d6-b991-c754614e5d4f",
   "metadata": {},
   "outputs": [],
   "source": [
    "Table[Exp[-b*t]*b^i*t^i/i!, {i,0,10}]"
   ]
  },
  {
   "cell_type": "code",
   "execution_count": null,
   "id": "84650ca5-6724-4eae-b989-7d9f8bc7e856",
   "metadata": {},
   "outputs": [],
   "source": [
    "ntPGFa2 = FullSimplify[InverseLaplaceTransform[formulaG /. {a->2}, r, t]]"
   ]
  },
  {
   "cell_type": "code",
   "execution_count": null,
   "id": "8bd72bc6-43c9-433c-9eec-1d51c7b4f0f5",
   "metadata": {},
   "outputs": [],
   "source": [
    "ntPDF = Gamma[(k+1)*a, b]/Gamma[(k+1)*a]-Gamma[k*a,b]/Gamma[k*a]"
   ]
  },
  {
   "cell_type": "code",
   "execution_count": null,
   "id": "e50e7f95-556b-4157-a082-286452a4ba93",
   "metadata": {},
   "outputs": [],
   "source": [
    "nbPDFalt"
   ]
  },
  {
   "cell_type": "code",
   "execution_count": null,
   "id": "1d2136a5-e61b-419d-a240-dfda06535e31",
   "metadata": {},
   "outputs": [],
   "source": [
    "ntCoefList[a_, len_] := Table[\n",
    "    Exp[-b*t]*Sum[(b*t)^(n*a+m)/(n*a+m)!, {m, 0, a-1}],\n",
    "    {n, 0, len-1}\n",
    "    ]\n",
    "\n",
    "ntCoefListCont[len_] := Table[\n",
    "    ntPDF,\n",
    "    {n, 0, len-1}\n",
    "    ]"
   ]
  },
  {
   "cell_type": "code",
   "execution_count": null,
   "id": "583f3431-81b1-474d-bd90-6f63fb4a04bc",
   "metadata": {},
   "outputs": [],
   "source": [
    "delaportePDF = FullSimplify@Sum[(Gamma[aDel+i]*bDel^i*lamDel^(k-i)*Exp[-lamDel])/(Gamma[aDel]*i!*(1+bDel)^(aDel+i)*(j-i)!) ,{i, 0, k}]"
   ]
  },
  {
   "cell_type": "code",
   "execution_count": null,
   "id": "7eafabd8-bb1a-4a45-8d46-ac8c1d3db2f3",
   "metadata": {},
   "outputs": [],
   "source": [
    "neqs = 1;\n",
    "eqs = (And @@ Thread[Table[nbPDF, {k,0,neqs-1}]==ntCoefListCont[neqs]])\n",
    "eqs2 = (And @@ Thread[Table[delaportePDF, {k,0,neqs-1}]==ntCoefListCont[neqs]])"
   ]
  },
  {
   "cell_type": "code",
   "execution_count": null,
   "id": "1a2113c5-7fe0-4149-ab40-3b33a57a458a",
   "metadata": {},
   "outputs": [],
   "source": []
  },
  {
   "cell_type": "code",
   "execution_count": null,
   "id": "d817f600-6193-41fe-9f44-f6a2b58a7fd1",
   "metadata": {},
   "outputs": [],
   "source": []
  },
  {
   "cell_type": "code",
   "execution_count": null,
   "id": "13e3f533-008c-499e-834f-bd2ec398b897",
   "metadata": {},
   "outputs": [],
   "source": [
    "(*Reduce[eqs2, {aDel,bDel,lamDel}, Reals]*)"
   ]
  },
  {
   "cell_type": "code",
   "execution_count": null,
   "id": "48a9e072-66ea-473b-83e8-69cd2504ab50",
   "metadata": {},
   "outputs": [],
   "source": [
    "ntPGF = PGF[ntPDF, k, z]"
   ]
  },
  {
   "cell_type": "code",
   "execution_count": null,
   "id": "4f9ab09f-52b1-4e83-a8e6-dd276480d216",
   "metadata": {},
   "outputs": [],
   "source": [
    "(*Reduce[eqs, {a2,b2}, Reals]*)"
   ]
  },
  {
   "cell_type": "code",
   "execution_count": null,
   "id": "06785ac6-a46d-4ab1-a210-bf017512cb03",
   "metadata": {},
   "outputs": [],
   "source": [
    "ListPlot[ntCoefList[a, 10] /. {a->3/2,b->3,t->1}]"
   ]
  },
  {
   "cell_type": "code",
   "execution_count": null,
   "id": "03e625f3-b28a-4e5d-992a-b26aa20ee2c4",
   "metadata": {},
   "outputs": [],
   "source": [
    "N[Table[nbPDFalt /. {a->3/2, b->3}, {k, 0, 10}]]"
   ]
  },
  {
   "cell_type": "code",
   "execution_count": null,
   "id": "f916dad4-f61a-4d2a-96e6-f9ea7e9f7bac",
   "metadata": {},
   "outputs": [],
   "source": [
    "InputForm[Gamma[(n+1)*a, b*t]/Gamma[(n+1)*a]-Gamma[n*a,b*t]/Gamma[n*a]]"
   ]
  },
  {
   "cell_type": "code",
   "execution_count": null,
   "id": "a37f66bf-b745-4f72-8fa1-a85d2ed930e5",
   "metadata": {},
   "outputs": [],
   "source": [
    "FullSimplify[ntCoefList[a, 4] /. a->2 // FunctionExpand]"
   ]
  },
  {
   "cell_type": "code",
   "execution_count": null,
   "id": "6d9b48c9-23f4-4d66-bef3-38e81bbd720b",
   "metadata": {},
   "outputs": [],
   "source": [
    "FullSimplify[ntCoefList[2, 4] // FunctionExpand]"
   ]
  },
  {
   "cell_type": "code",
   "execution_count": null,
   "id": "e814b3ef-2d20-4e57-af6a-261b6e14d456",
   "metadata": {},
   "outputs": [],
   "source": [
    "CoefficientList[Series[ntPGFa2, {z, 0, 10}], z]"
   ]
  },
  {
   "cell_type": "code",
   "execution_count": null,
   "id": "7d53471f-5ecb-4f10-9808-dabf23bdf413",
   "metadata": {},
   "outputs": [],
   "source": [
    "ntCoefList[2,10]"
   ]
  },
  {
   "cell_type": "code",
   "execution_count": null,
   "id": "f71a1c1a-0d46-421e-99d9-50e8adcf2430",
   "metadata": {},
   "outputs": [],
   "source": [
    "ntPGFa3 = FullSimplify[InverseLaplaceTransform[formulaG /. {a->3}, r, t] /. rt_Root :> ToRadicals[rt]]"
   ]
  },
  {
   "cell_type": "code",
   "execution_count": null,
   "id": "c47c8365-4773-4663-82e1-be6462564934",
   "metadata": {},
   "outputs": [],
   "source": [
    "CoefficientList[Series[ntPGFa3, {z, 0, 10}], z]"
   ]
  },
  {
   "cell_type": "code",
   "execution_count": null,
   "id": "166c4b71-44e1-47a4-a4d9-0f1ec47b834b",
   "metadata": {},
   "outputs": [],
   "source": [
    "(*FullSimplify@InverseLaplaceTransform[formulaG /. {a->3/2}, r, t]*)"
   ]
  },
  {
   "cell_type": "code",
   "execution_count": null,
   "id": "41d3d8f8-cc93-4cce-be4d-088f4c5be285",
   "metadata": {},
   "outputs": [],
   "source": [
    "(* ntPGFa32 = FullSimplify[InverseLaplaceTransform[formulaG /. {a->3/2}, r, t]]*)"
   ]
  },
  {
   "cell_type": "code",
   "execution_count": null,
   "id": "683e7afa-11ed-44e5-bdca-496edd68538f",
   "metadata": {},
   "outputs": [],
   "source": [
    "(*PGF[CompoundPoissonDistribution[b, PoissonDistribution[b]], z]*)"
   ]
  }
 ],
 "metadata": {
  "kernelspec": {
   "display_name": "Wolfram Language 14",
   "language": "Wolfram Language",
   "name": "wolframlanguage14"
  },
  "language_info": {
   "codemirror_mode": "mathematica",
   "file_extension": ".m",
   "mimetype": "application/vnd.wolfram.m",
   "name": "Wolfram Language",
   "pygments_lexer": "mathematica",
   "version": "12.0"
  }
 },
 "nbformat": 4,
 "nbformat_minor": 5
}
