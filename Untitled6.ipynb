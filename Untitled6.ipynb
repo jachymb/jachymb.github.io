{
 "cells": [
  {
   "cell_type": "code",
   "execution_count": 1,
   "id": "ca3c085b-8dbf-4e02-b1ce-f2a91ae82380",
   "metadata": {},
   "outputs": [
    {
     "data": {
      "text/html": [
       "<div><img alt=\"Output\" src=\"data:image/png;base64,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\"></div>"
      ],
      "text/plain": [
       "a > 0 && b > 0 && a2 > 0 && b2 > 0 && t > 0 && k >= 0 && aNB > 0 && bNB > 0 && r != 0"
      ]
     },
     "execution_count": 1,
     "metadata": {
      "text/html": [],
      "text/plain": []
     },
     "output_type": "execute_result"
    }
   ],
   "source": [
    "$Assumptions = a > 0 && b > 0 && a2 >0 && b2 > 0 && t > 0 && k >= 0 && aNB >0 && bNB > 0 && r != 0"
   ]
  },
  {
   "cell_type": "code",
   "execution_count": 2,
   "id": "73f219e8-47e8-47ea-8b77-7300d49ce351",
   "metadata": {},
   "outputs": [],
   "source": [
    "DistributionQ[dist_] := StringMatchQ[ToString[Head[dist]], ___ ~~ \"Distribution\"]\n",
    "\n",
    "PGF[dist_, z_Symbol] /; DistributionQ[dist] := Module[{k}, Sum[PDF[dist,k] * z^k, {k, 0, Infinity}]]\n",
    "PGF[pmf_, k_Symbol, z_Symbol] := Sum[pmf * z^k, {k, 1, Infinity}]"
   ]
  },
  {
   "cell_type": "code",
   "execution_count": 5,
   "id": "d7f471c1-f502-430b-9775-d3117062f340",
   "metadata": {},
   "outputs": [],
   "source": [
    "Z[lam_, nu_] := Sum[lam^j/(j!)^nu, {j, 0, Infinity}]"
   ]
  },
  {
   "cell_type": "code",
   "execution_count": 18,
   "id": "e7453fb8-50ee-436a-a1cc-a8b298b7190e",
   "metadata": {},
   "outputs": [
    {
     "data": {
      "text/html": [
       "<div><img alt=\"Output\" src=\"data:image/png;base64,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\"></div>"
      ],
      "text/plain": [
       "                 k\n",
       "              lam\n",
       "--------------------------------\n",
       "            j\n",
       "  nu     lam\n",
       "k!   Sum[----, {j, 0, Infinity}]\n",
       "           nu\n",
       "         j!"
      ]
     },
     "execution_count": 18,
     "metadata": {
      "text/html": [],
      "text/plain": []
     },
     "output_type": "execute_result"
    }
   ],
   "source": [
    "mcpPMF = lam^k/((k!)^nu * Z[lam, nu])"
   ]
  },
  {
   "cell_type": "code",
   "execution_count": 56,
   "id": "cf9d7632-77c3-42d9-b01f-c596b48560b6",
   "metadata": {},
   "outputs": [
    {
     "data": {
      "text/html": [
       "<div><img alt=\"Output\" src=\"data:image/png;base64,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\"></div>"
      ],
      "text/plain": [
       "                   k  k\n",
       "                lam  z\n",
       "Sum[--------------------------------, {k, 1, Infinity}]\n",
       "                j\n",
       "      nu     lam\n",
       "    k!   Sum[----, {j, 0, Infinity}]\n",
       "               nu\n",
       "             j!"
      ]
     },
     "execution_count": 56,
     "metadata": {
      "text/html": [],
      "text/plain": []
     },
     "output_type": "execute_result"
    }
   ],
   "source": [
    "mcpPGF = PGF[mcpPMF, k, z]"
   ]
  },
  {
   "cell_type": "code",
   "execution_count": 71,
   "id": "40ff7174-1788-434b-b54c-226e8e482fe2",
   "metadata": {},
   "outputs": [
    {
     "data": {
      "text/html": [
       "<div><img alt=\"Output\" src=\"data:image/png;base64,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\"></div>"
      ],
      "text/plain": [
       "                   k  k\n",
       "                lam  z\n",
       "Sum[--------------------------------, {k, 1, Infinity}]\n",
       "                j\n",
       "      nu     lam\n",
       "    k!   Sum[----, {j, 0, Infinity}]\n",
       "               nu\n",
       "             j!"
      ]
     },
     "execution_count": 71,
     "metadata": {
      "text/html": [],
      "text/plain": []
     },
     "output_type": "execute_result"
    }
   ],
   "source": [
    "Series[mcpPGF, {z, 0, 5}]"
   ]
  },
  {
   "cell_type": "code",
   "execution_count": null,
   "id": "cd616176-4116-498e-ac86-3d0b8344e2c8",
   "metadata": {},
   "outputs": [],
   "source": []
  }
 ],
 "metadata": {
  "kernelspec": {
   "display_name": "Wolfram Language 14",
   "language": "Wolfram Language",
   "name": "wolframlanguage14"
  },
  "language_info": {
   "codemirror_mode": "mathematica",
   "file_extension": ".m",
   "mimetype": "application/vnd.wolfram.m",
   "name": "Wolfram Language",
   "pygments_lexer": "mathematica",
   "version": "12.0"
  }
 },
 "nbformat": 4,
 "nbformat_minor": 5
}
